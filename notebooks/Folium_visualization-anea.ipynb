{
 "cells": [
  {
   "cell_type": "markdown",
   "id": "5015dc4c",
   "metadata": {
    "slideshow": {
     "slide_type": "skip"
    }
   },
   "source": [
    "## Imports"
   ]
  },
  {
   "cell_type": "code",
   "execution_count": 94,
   "id": "5dbe6d15",
   "metadata": {
    "slideshow": {
     "slide_type": "skip"
    }
   },
   "outputs": [],
   "source": [
    "import pandas as pd\n",
    "import numpy as np\n",
    "import folium\n",
    "from folium import plugins\n",
    "from folium.plugins import HeatMap\n",
    "import ipywidgets\n",
    "from ipywidgets import interact, widgets\n",
    "\n",
    "import matplotlib.pyplot as plt\n",
    "import matplotlib\n",
    "import seaborn as sns\n",
    "import matplotlib.colors as mcolors\n",
    "matplotlib.style.use('seaborn-whitegrid')"
   ]
  },
  {
   "cell_type": "markdown",
   "id": "11654c89",
   "metadata": {
    "slideshow": {
     "slide_type": "slide"
    }
   },
   "source": [
    "## General Info\n",
    "Our **Projet** will focus on the restaurants of Geneva, Switzerland🇨🇭.\n",
    "\n",
    "Our **Goal** is to be able to suggest an optimal location to open a new restaurant in Geneva 🎯 "
   ]
  },
  {
   "cell_type": "markdown",
   "id": "b5f74196",
   "metadata": {
    "slideshow": {
     "slide_type": "slide"
    }
   },
   "source": [
    "## Our area of interest is represented on the following map 🗺"
   ]
  },
  {
   "cell_type": "code",
   "execution_count": 106,
   "id": "2dbf50e6",
   "metadata": {
    "slideshow": {
     "slide_type": "subslide"
    }
   },
   "outputs": [
    {
     "data": {
      "text/html": [
       "<div style=\"width:100%;\"><div style=\"position:relative;width:100%;height:0;padding-bottom:60%;\"><span style=\"color:#565656\">Make this Notebook Trusted to load map: File -> Trust Notebook</span><iframe srcdoc=\"&lt;!DOCTYPE html&gt;\n",
       "&lt;head&gt;    \n",
       "    &lt;meta http-equiv=&quot;content-type&quot; content=&quot;text/html; charset=UTF-8&quot; /&gt;\n",
       "    \n",
       "        &lt;script&gt;\n",
       "            L_NO_TOUCH = false;\n",
       "            L_DISABLE_3D = false;\n",
       "        &lt;/script&gt;\n",
       "    \n",
       "    &lt;style&gt;html, body {width: 100%;height: 100%;margin: 0;padding: 0;}&lt;/style&gt;\n",
       "    &lt;style&gt;#map {position:absolute;top:0;bottom:0;right:0;left:0;}&lt;/style&gt;\n",
       "    &lt;script src=&quot;https://cdn.jsdelivr.net/npm/leaflet@1.6.0/dist/leaflet.js&quot;&gt;&lt;/script&gt;\n",
       "    &lt;script src=&quot;https://code.jquery.com/jquery-1.12.4.min.js&quot;&gt;&lt;/script&gt;\n",
       "    &lt;script src=&quot;https://maxcdn.bootstrapcdn.com/bootstrap/3.2.0/js/bootstrap.min.js&quot;&gt;&lt;/script&gt;\n",
       "    &lt;script src=&quot;https://cdnjs.cloudflare.com/ajax/libs/Leaflet.awesome-markers/2.0.2/leaflet.awesome-markers.js&quot;&gt;&lt;/script&gt;\n",
       "    &lt;link rel=&quot;stylesheet&quot; href=&quot;https://cdn.jsdelivr.net/npm/leaflet@1.6.0/dist/leaflet.css&quot;/&gt;\n",
       "    &lt;link rel=&quot;stylesheet&quot; href=&quot;https://maxcdn.bootstrapcdn.com/bootstrap/3.2.0/css/bootstrap.min.css&quot;/&gt;\n",
       "    &lt;link rel=&quot;stylesheet&quot; href=&quot;https://maxcdn.bootstrapcdn.com/bootstrap/3.2.0/css/bootstrap-theme.min.css&quot;/&gt;\n",
       "    &lt;link rel=&quot;stylesheet&quot; href=&quot;https://maxcdn.bootstrapcdn.com/font-awesome/4.6.3/css/font-awesome.min.css&quot;/&gt;\n",
       "    &lt;link rel=&quot;stylesheet&quot; href=&quot;https://cdnjs.cloudflare.com/ajax/libs/Leaflet.awesome-markers/2.0.2/leaflet.awesome-markers.css&quot;/&gt;\n",
       "    &lt;link rel=&quot;stylesheet&quot; href=&quot;https://cdn.jsdelivr.net/gh/python-visualization/folium/folium/templates/leaflet.awesome.rotate.min.css&quot;/&gt;\n",
       "    \n",
       "            &lt;meta name=&quot;viewport&quot; content=&quot;width=device-width,\n",
       "                initial-scale=1.0, maximum-scale=1.0, user-scalable=no&quot; /&gt;\n",
       "            &lt;style&gt;\n",
       "                #map_c337a21466bd8f3de0334bd581115d6d {\n",
       "                    position: relative;\n",
       "                    width: 100.0%;\n",
       "                    height: 100.0%;\n",
       "                    left: 0.0%;\n",
       "                    top: 0.0%;\n",
       "                }\n",
       "            &lt;/style&gt;\n",
       "        \n",
       "&lt;/head&gt;\n",
       "&lt;body&gt;    \n",
       "    \n",
       "            &lt;div class=&quot;folium-map&quot; id=&quot;map_c337a21466bd8f3de0334bd581115d6d&quot; &gt;&lt;/div&gt;\n",
       "        \n",
       "&lt;/body&gt;\n",
       "&lt;script&gt;    \n",
       "    \n",
       "            var map_c337a21466bd8f3de0334bd581115d6d = L.map(\n",
       "                &quot;map_c337a21466bd8f3de0334bd581115d6d&quot;,\n",
       "                {\n",
       "                    center: [46.2044, 6.1432],\n",
       "                    crs: L.CRS.EPSG3857,\n",
       "                    zoom: 11,\n",
       "                    zoomControl: true,\n",
       "                    preferCanvas: false,\n",
       "                }\n",
       "            );\n",
       "\n",
       "            \n",
       "\n",
       "        \n",
       "    \n",
       "            var tile_layer_2cd5249472673e79dd0adba2213e6086 = L.tileLayer(\n",
       "                &quot;https://{s}.tile.openstreetmap.org/{z}/{x}/{y}.png&quot;,\n",
       "                {&quot;attribution&quot;: &quot;Data by \\u0026copy; \\u003ca href=\\&quot;http://openstreetmap.org\\&quot;\\u003eOpenStreetMap\\u003c/a\\u003e, under \\u003ca href=\\&quot;http://www.openstreetmap.org/copyright\\&quot;\\u003eODbL\\u003c/a\\u003e.&quot;, &quot;detectRetina&quot;: false, &quot;maxNativeZoom&quot;: 18, &quot;maxZoom&quot;: 18, &quot;minZoom&quot;: 0, &quot;noWrap&quot;: false, &quot;opacity&quot;: 1, &quot;subdomains&quot;: &quot;abc&quot;, &quot;tms&quot;: false}\n",
       "            ).addTo(map_c337a21466bd8f3de0334bd581115d6d);\n",
       "        \n",
       "&lt;/script&gt;\" style=\"position:absolute;width:100%;height:100%;left:0;top:0;border:none !important;\" allowfullscreen webkitallowfullscreen mozallowfullscreen></iframe></div></div>"
      ],
      "text/plain": [
       "<folium.folium.Map at 0x12797e610>"
      ]
     },
     "execution_count": 106,
     "metadata": {},
     "output_type": "execute_result"
    }
   ],
   "source": [
    "geneva=folium.Map(location=[46.2044, 6.1432], zoom_start=11)\n",
    "geneva"
   ]
  },
  {
   "cell_type": "markdown",
   "id": "f9ee0a8a",
   "metadata": {
    "slideshow": {
     "slide_type": "slide"
    }
   },
   "source": [
    "## The data is a combination of info from trip advisor, google api and foresquare"
   ]
  },
  {
   "cell_type": "code",
   "execution_count": 96,
   "id": "47dad85d",
   "metadata": {
    "slideshow": {
     "slide_type": "skip"
    }
   },
   "outputs": [],
   "source": [
    "# importing data to notebook\n",
    "df=pd.read_csv(\"../raw_data/raw_data_combined_v1.02.csv\")"
   ]
  },
  {
   "cell_type": "code",
   "execution_count": 97,
   "id": "f20254a3",
   "metadata": {
    "scrolled": true,
    "slideshow": {
     "slide_type": "skip"
    }
   },
   "outputs": [],
   "source": [
    "numb_restaurant=df.shape[0]\n",
    "numb_columns=df.shape[1]"
   ]
  },
  {
   "cell_type": "markdown",
   "id": "cfa403ae",
   "metadata": {
    "slideshow": {
     "slide_type": "slide"
    }
   },
   "source": [
    "## Results of Data Scraping and Cleaning"
   ]
  },
  {
   "cell_type": "code",
   "execution_count": 98,
   "id": "cea7974c",
   "metadata": {
    "slideshow": {
     "slide_type": "subslide"
    }
   },
   "outputs": [
    {
     "name": "stdout",
     "output_type": "stream",
     "text": [
      "From the combination of the different sources we retrieved a total of 1726 restaurants\n"
     ]
    }
   ],
   "source": [
    "print(f'From the combination of the different sources we retrieved a total of {numb_restaurant} restaurants')\n"
   ]
  },
  {
   "cell_type": "markdown",
   "id": "45242d42",
   "metadata": {
    "slideshow": {
     "slide_type": "slide"
    }
   },
   "source": [
    "# Useful columns\n",
    "\n",
    "- Name\n",
    "- Cuisine Type\n",
    "- Price Level\n",
    "- Rating\n",
    "- Latitude and Longitude\n",
    "- Zip code\n"
   ]
  },
  {
   "cell_type": "code",
   "execution_count": 99,
   "id": "470e868d",
   "metadata": {
    "slideshow": {
     "slide_type": "slide"
    }
   },
   "outputs": [
    {
     "data": {
      "text/html": [
       "<div>\n",
       "<style scoped>\n",
       "    .dataframe tbody tr th:only-of-type {\n",
       "        vertical-align: middle;\n",
       "    }\n",
       "\n",
       "    .dataframe tbody tr th {\n",
       "        vertical-align: top;\n",
       "    }\n",
       "\n",
       "    .dataframe thead th {\n",
       "        text-align: right;\n",
       "    }\n",
       "</style>\n",
       "<table border=\"1\" class=\"dataframe\">\n",
       "  <thead>\n",
       "    <tr style=\"text-align: right;\">\n",
       "      <th></th>\n",
       "      <th>original_index</th>\n",
       "      <th>place_id</th>\n",
       "      <th>tripadvisor_id</th>\n",
       "      <th>fsq_id</th>\n",
       "      <th>name</th>\n",
       "      <th>business_status</th>\n",
       "      <th>types</th>\n",
       "      <th>price_level</th>\n",
       "      <th>ta_price_level</th>\n",
       "      <th>rating</th>\n",
       "      <th>...</th>\n",
       "      <th>zip_code</th>\n",
       "      <th>city</th>\n",
       "      <th>international_phone_number</th>\n",
       "      <th>website</th>\n",
       "      <th>combined_cuisine_type</th>\n",
       "      <th>ta_4sq_cuisine1</th>\n",
       "      <th>ta_4sq_cuisine2</th>\n",
       "      <th>ta_4sq_cuisine3</th>\n",
       "      <th>ta_4sq_cuisine4</th>\n",
       "      <th>ta_4sq_cuisine5</th>\n",
       "    </tr>\n",
       "  </thead>\n",
       "  <tbody>\n",
       "    <tr>\n",
       "      <th>0</th>\n",
       "      <td>0</td>\n",
       "      <td>ChIJd6kh67ZkjEcRC1IQourQOyo</td>\n",
       "      <td>7159041.0</td>\n",
       "      <td>4de685281f6e9d90c7f5325c</td>\n",
       "      <td>Restaurant La Tentation</td>\n",
       "      <td>OPERATIONAL</td>\n",
       "      <td>['restaurant', 'point_of_interest', 'food', 'e...</td>\n",
       "      <td>2.0</td>\n",
       "      <td>2.0</td>\n",
       "      <td>4.2</td>\n",
       "      <td>...</td>\n",
       "      <td>1203</td>\n",
       "      <td>Genève</td>\n",
       "      <td>+41 22 344 28 29</td>\n",
       "      <td>NaN</td>\n",
       "      <td>European, Swiss, International, 0, 0</td>\n",
       "      <td>European</td>\n",
       "      <td>Swiss</td>\n",
       "      <td>International</td>\n",
       "      <td>0</td>\n",
       "      <td>0</td>\n",
       "    </tr>\n",
       "    <tr>\n",
       "      <th>1</th>\n",
       "      <td>1</td>\n",
       "      <td>ChIJX68uubZkjEcRKKxpZ7OrgqU</td>\n",
       "      <td>13322506.0</td>\n",
       "      <td>NaN</td>\n",
       "      <td>Café Restaurant Palma</td>\n",
       "      <td>OPERATIONAL</td>\n",
       "      <td>['restaurant', 'point_of_interest', 'food', 'e...</td>\n",
       "      <td>NaN</td>\n",
       "      <td>NaN</td>\n",
       "      <td>3.7</td>\n",
       "      <td>...</td>\n",
       "      <td>1203</td>\n",
       "      <td>Genève</td>\n",
       "      <td>+41 22 345 84 48</td>\n",
       "      <td>NaN</td>\n",
       "      <td>General / Restaurant, Café, 0, 0, 0, 0</td>\n",
       "      <td>General / Restaurant, Café</td>\n",
       "      <td>0</td>\n",
       "      <td>0</td>\n",
       "      <td>0</td>\n",
       "      <td>0</td>\n",
       "    </tr>\n",
       "    <tr>\n",
       "      <th>2</th>\n",
       "      <td>2</td>\n",
       "      <td>ChIJPcYsG_BljEcR4kTFqBJJoK4</td>\n",
       "      <td>6720272.0</td>\n",
       "      <td>NaN</td>\n",
       "      <td>Le Versailles</td>\n",
       "      <td>OPERATIONAL</td>\n",
       "      <td>['restaurant', 'point_of_interest', 'food', 'e...</td>\n",
       "      <td>NaN</td>\n",
       "      <td>2.0</td>\n",
       "      <td>3.9</td>\n",
       "      <td>...</td>\n",
       "      <td>1203</td>\n",
       "      <td>Genève</td>\n",
       "      <td>+41 22 344 49 41</td>\n",
       "      <td>https://yellow.local.ch/d/iWjaP0dHU9GYe4GDduNgnw</td>\n",
       "      <td>Italian, French, International, European, Cent...</td>\n",
       "      <td>Italian</td>\n",
       "      <td>French</td>\n",
       "      <td>International</td>\n",
       "      <td>European</td>\n",
       "      <td>Central European</td>\n",
       "    </tr>\n",
       "    <tr>\n",
       "      <th>3</th>\n",
       "      <td>4</td>\n",
       "      <td>ChIJhb4e-Ep7jEcRY38kziIGZmE</td>\n",
       "      <td>NaN</td>\n",
       "      <td>NaN</td>\n",
       "      <td>Restaurant Divan</td>\n",
       "      <td>OPERATIONAL</td>\n",
       "      <td>['restaurant', 'food', 'point_of_interest', 'e...</td>\n",
       "      <td>2.0</td>\n",
       "      <td>NaN</td>\n",
       "      <td>4.5</td>\n",
       "      <td>...</td>\n",
       "      <td>1213</td>\n",
       "      <td>Petit-Lancy</td>\n",
       "      <td>+41 22 792 96 80</td>\n",
       "      <td>NaN</td>\n",
       "      <td>NaN</td>\n",
       "      <td>0</td>\n",
       "      <td>0</td>\n",
       "      <td>0</td>\n",
       "      <td>0</td>\n",
       "      <td>0</td>\n",
       "    </tr>\n",
       "    <tr>\n",
       "      <th>4</th>\n",
       "      <td>5</td>\n",
       "      <td>ChIJV8uySFxljEcRn7XpIO3zZX0</td>\n",
       "      <td>NaN</td>\n",
       "      <td>NaN</td>\n",
       "      <td>Restaurant Les Jardins du Rhône</td>\n",
       "      <td>OPERATIONAL</td>\n",
       "      <td>['restaurant', 'food', 'point_of_interest', 'e...</td>\n",
       "      <td>NaN</td>\n",
       "      <td>NaN</td>\n",
       "      <td>NaN</td>\n",
       "      <td>...</td>\n",
       "      <td>1203</td>\n",
       "      <td>Genève</td>\n",
       "      <td>+41 22 561 38 04</td>\n",
       "      <td>NaN</td>\n",
       "      <td>NaN</td>\n",
       "      <td>0</td>\n",
       "      <td>0</td>\n",
       "      <td>0</td>\n",
       "      <td>0</td>\n",
       "      <td>0</td>\n",
       "    </tr>\n",
       "  </tbody>\n",
       "</table>\n",
       "<p>5 rows × 27 columns</p>\n",
       "</div>"
      ],
      "text/plain": [
       "   original_index                     place_id  tripadvisor_id  \\\n",
       "0               0  ChIJd6kh67ZkjEcRC1IQourQOyo       7159041.0   \n",
       "1               1  ChIJX68uubZkjEcRKKxpZ7OrgqU      13322506.0   \n",
       "2               2  ChIJPcYsG_BljEcR4kTFqBJJoK4       6720272.0   \n",
       "3               4  ChIJhb4e-Ep7jEcRY38kziIGZmE             NaN   \n",
       "4               5  ChIJV8uySFxljEcRn7XpIO3zZX0             NaN   \n",
       "\n",
       "                     fsq_id                             name business_status  \\\n",
       "0  4de685281f6e9d90c7f5325c          Restaurant La Tentation     OPERATIONAL   \n",
       "1                       NaN            Café Restaurant Palma     OPERATIONAL   \n",
       "2                       NaN                    Le Versailles     OPERATIONAL   \n",
       "3                       NaN                 Restaurant Divan     OPERATIONAL   \n",
       "4                       NaN  Restaurant Les Jardins du Rhône     OPERATIONAL   \n",
       "\n",
       "                                               types  price_level  \\\n",
       "0  ['restaurant', 'point_of_interest', 'food', 'e...          2.0   \n",
       "1  ['restaurant', 'point_of_interest', 'food', 'e...          NaN   \n",
       "2  ['restaurant', 'point_of_interest', 'food', 'e...          NaN   \n",
       "3  ['restaurant', 'food', 'point_of_interest', 'e...          2.0   \n",
       "4  ['restaurant', 'food', 'point_of_interest', 'e...          NaN   \n",
       "\n",
       "   ta_price_level  rating  ...  zip_code         city  \\\n",
       "0             2.0     4.2  ...      1203       Genève   \n",
       "1             NaN     3.7  ...      1203       Genève   \n",
       "2             2.0     3.9  ...      1203       Genève   \n",
       "3             NaN     4.5  ...      1213  Petit-Lancy   \n",
       "4             NaN     NaN  ...      1203       Genève   \n",
       "\n",
       "   international_phone_number  \\\n",
       "0            +41 22 344 28 29   \n",
       "1            +41 22 345 84 48   \n",
       "2            +41 22 344 49 41   \n",
       "3            +41 22 792 96 80   \n",
       "4            +41 22 561 38 04   \n",
       "\n",
       "                                            website  \\\n",
       "0                                               NaN   \n",
       "1                                               NaN   \n",
       "2  https://yellow.local.ch/d/iWjaP0dHU9GYe4GDduNgnw   \n",
       "3                                               NaN   \n",
       "4                                               NaN   \n",
       "\n",
       "                               combined_cuisine_type  \\\n",
       "0               European, Swiss, International, 0, 0   \n",
       "1             General / Restaurant, Café, 0, 0, 0, 0   \n",
       "2  Italian, French, International, European, Cent...   \n",
       "3                                                NaN   \n",
       "4                                                NaN   \n",
       "\n",
       "              ta_4sq_cuisine1 ta_4sq_cuisine2  ta_4sq_cuisine3  \\\n",
       "0                    European           Swiss    International   \n",
       "1  General / Restaurant, Café               0                0   \n",
       "2                     Italian          French    International   \n",
       "3                           0               0                0   \n",
       "4                           0               0                0   \n",
       "\n",
       "  ta_4sq_cuisine4   ta_4sq_cuisine5  \n",
       "0               0                 0  \n",
       "1               0                 0  \n",
       "2        European  Central European  \n",
       "3               0                 0  \n",
       "4               0                 0  \n",
       "\n",
       "[5 rows x 27 columns]"
      ]
     },
     "execution_count": 99,
     "metadata": {},
     "output_type": "execute_result"
    }
   ],
   "source": [
    "df.head()"
   ]
  },
  {
   "cell_type": "code",
   "execution_count": 7,
   "id": "a6cdb1d1",
   "metadata": {},
   "outputs": [
    {
     "data": {
      "text/plain": [
       "Index(['original_index', 'place_id', 'tripadvisor_id', 'fsq_id', 'name',\n",
       "       'business_status', 'types', 'price_level', 'ta_price_level', 'rating',\n",
       "       'user_ratings_total', 'ta_rating', 'ta_user_ratings_total',\n",
       "       ' combined_rating ', 'geometry.location.lat', 'geometry.location.lng',\n",
       "       'formatted_address', 'zip_code', 'city', 'international_phone_number',\n",
       "       'website', 'combined_cuisine_type', 'ta_4sq_cuisine1',\n",
       "       'ta_4sq_cuisine2', 'ta_4sq_cuisine3', 'ta_4sq_cuisine4',\n",
       "       'ta_4sq_cuisine5'],\n",
       "      dtype='object')"
      ]
     },
     "execution_count": 7,
     "metadata": {},
     "output_type": "execute_result"
    }
   ],
   "source": [
    "df.columns"
   ]
  },
  {
   "cell_type": "markdown",
   "id": "896d4a2a",
   "metadata": {
    "slideshow": {
     "slide_type": "slide"
    }
   },
   "source": [
    "# Percentage of missing data"
   ]
  },
  {
   "cell_type": "code",
   "execution_count": 100,
   "id": "769d4cca",
   "metadata": {
    "slideshow": {
     "slide_type": "subslide"
    }
   },
   "outputs": [
    {
     "data": {
      "text/plain": [
       "name                     0.000000\n",
       "price_level              0.665122\n",
       "rating                   0.180765\n",
       "combined_cuisine_type    0.374855\n",
       "dtype: float64"
      ]
     },
     "execution_count": 100,
     "metadata": {},
     "output_type": "execute_result"
    }
   ],
   "source": [
    "df[['name','price_level', 'rating', 'combined_cuisine_type']].isnull().sum()/len(df)"
   ]
  },
  {
   "cell_type": "markdown",
   "id": "c1bf0f25",
   "metadata": {
    "slideshow": {
     "slide_type": "slide"
    }
   },
   "source": [
    "## Some Graphs"
   ]
  },
  {
   "cell_type": "code",
   "execution_count": 9,
   "id": "a1c744cc",
   "metadata": {
    "slideshow": {
     "slide_type": "slide"
    }
   },
   "outputs": [
    {
     "data": {
      "image/png": "[encoded data removed]",
      "text/plain": [
       "<Figure size 1152x360 with 2 Axes>"
      ]
     },
     "metadata": {
      "needs_background": "light"
     },
     "output_type": "display_data"
    }
   ],
   "source": [
    "plt.figure(figsize=(16,5))\n",
    "\n",
    "plt.subplot(1, 2, 1)\n",
    "plt.title(\"Price_Level\")\n",
    "plt.hist(df[\"price_level\"])\n",
    "\n",
    "plt.subplot(1, 2, 2)\n",
    "plt.title(\"Rating\")\n",
    "plt.hist(df[\"rating\"])\n",
    "plt.show()"
   ]
  },
  {
   "cell_type": "markdown",
   "id": "cf8eb7c5",
   "metadata": {
    "slideshow": {
     "slide_type": "slide"
    }
   },
   "source": [
    "# Price level versus Ratings"
   ]
  },
  {
   "cell_type": "code",
   "execution_count": 10,
   "id": "12174dce",
   "metadata": {
    "scrolled": true,
    "slideshow": {
     "slide_type": "subslide"
    }
   },
   "outputs": [
    {
     "data": {
      "text/plain": [
       "<Figure size 1152x720 with 0 Axes>"
      ]
     },
     "metadata": {},
     "output_type": "display_data"
    },
    {
     "data": {
      "image/png": "[encoded data removed]",
      "text/plain": [
       "<Figure size 360x360 with 1 Axes>"
      ]
     },
     "metadata": {
      "needs_background": "light"
     },
     "output_type": "display_data"
    }
   ],
   "source": [
    "plt.figure(figsize=(16, 10))\n",
    "sns.catplot(x='price_level', y='rating', data=df, kind=\"box\");"
   ]
  },
  {
   "cell_type": "markdown",
   "id": "d57aaf3a",
   "metadata": {
    "slideshow": {
     "slide_type": "slide"
    }
   },
   "source": [
    "## Considerations about the number of reviews and price level distribution"
   ]
  },
  {
   "cell_type": "code",
   "execution_count": 11,
   "id": "9adb04ce",
   "metadata": {
    "scrolled": false,
    "slideshow": {
     "slide_type": "slide"
    }
   },
   "outputs": [
    {
     "data": {
      "text/plain": [
       "Text(0, 0.5, 'Reviews')"
      ]
     },
     "execution_count": 11,
     "metadata": {},
     "output_type": "execute_result"
    },
    {
     "data": {
      "image/png": "[encoded data removed]",
      "text/plain": [
       "<Figure size 432x288 with 1 Axes>"
      ]
     },
     "metadata": {
      "needs_background": "light"
     },
     "output_type": "display_data"
    }
   ],
   "source": [
    "plt.scatter(df['price_level'], df['user_ratings_total'], edgecolor='#333333', alpha=0.75)\n",
    "\n",
    "# plt.xscale('log')\n",
    "# plt.yscale('log')\n",
    "\n",
    "plt.title('Price Level x total number of ratings')\n",
    "plt.xlabel('Price Level')\n",
    "plt.ylabel('Reviews')"
   ]
  },
  {
   "cell_type": "code",
   "execution_count": 12,
   "id": "5ad4caac",
   "metadata": {
    "slideshow": {
     "slide_type": "slide"
    }
   },
   "outputs": [
    {
     "data": {
      "image/png": "[encoded data removed]",
      "text/plain": [
       "<Figure size 432x288 with 1 Axes>"
      ]
     },
     "metadata": {
      "needs_background": "light"
     },
     "output_type": "display_data"
    }
   ],
   "source": [
    "plt.scatter(df['rating'], df['user_ratings_total'], edgecolor='red', alpha=0.75)\n",
    "\n",
    "plt.title('Price Level x total number of ratings')\n",
    "plt.xlabel('Rating Level')\n",
    "plt.ylabel('Reviews Number')\n",
    "plt.show()"
   ]
  },
  {
   "cell_type": "markdown",
   "id": "9f38a850",
   "metadata": {
    "slideshow": {
     "slide_type": "slide"
    }
   },
   "source": [
    "# Some visualizations on a Heatmap"
   ]
  },
  {
   "cell_type": "code",
   "execution_count": 13,
   "id": "2a255672",
   "metadata": {
    "slideshow": {
     "slide_type": "skip"
    }
   },
   "outputs": [],
   "source": [
    "def search_venue(df, category):\n",
    "  search = lambda x:True if category.lower() in x.lower() else False\n",
    "  venues = df[df['name'].apply(search)].reset_index(drop='index')\n",
    "  venues_lat_long = list(zip(venues['geometry.location.lat'], venues['geometry.location.lng']))\n",
    "  return venues_lat_long\n",
    "\n",
    "\n",
    "def heatmap_venues(data):\n",
    "    map=folium.Map(location=[46.204391, 6.143158], tiles=\"openstreetmap\",zoom_start=14, min_zoom=13,max_zoom=15)\n",
    "    HeatMap(data).add_to(map)\n",
    "    return map"
   ]
  },
  {
   "cell_type": "code",
   "execution_count": 107,
   "id": "90ec4570",
   "metadata": {
    "scrolled": false
   },
   "outputs": [
    {
     "data": {
      "application/vnd.jupyter.widget-view+json": {
       "model_id": "0b455327372542a49c5d3ab65cdf09ef",
       "version_major": 2,
       "version_minor": 0
      },
      "text/plain": [
       "interactive(children=(Dropdown(description='name', options=('pizza', 'grill', 'italian', 'sushi', 'cafe'), val…"
      ]
     },
     "metadata": {},
     "output_type": "display_data"
    }
   ],
   "source": [
    "@interact\n",
    "def show_maps(name=['pizza','grill', 'italian', 'sushi', 'cafe']):\n",
    "    cuisine = search_venue(df, name)\n",
    "    return heatmap_venues(cuisine)"
   ]
  },
  {
   "cell_type": "code",
   "execution_count": 104,
   "id": "5988a917",
   "metadata": {},
   "outputs": [],
   "source": [
    "def search_category(df, category):\n",
    "  search = lambda x:True if category.lower() in x.lower() else False\n",
    "  venues = df[df['combined_cuisine_type'].apply(search)].reset_index(drop='index')\n",
    "  venues_lat_long = list(zip(venues['geometry.location.lat'], venues['geometry.location.lng']))\n",
    "  return venues_lat_long\n",
    "\n",
    "\n",
    "def heatmap_category(data):\n",
    "    map=folium.Map(location=[46.204391, 6.143158], tiles=\"openstreetmap\",zoom_start=14, min_zoom=13,max_zoom=15)\n",
    "    HeatMap(data).add_to(map)\n",
    "    return map"
   ]
  },
  {
   "cell_type": "code",
   "execution_count": 105,
   "id": "9e513ed1",
   "metadata": {},
   "outputs": [
    {
     "data": {
      "application/vnd.jupyter.widget-view+json": {
       "model_id": "9751003e5ff145c5b6921a470321da97",
       "version_major": 2,
       "version_minor": 0
      },
      "text/plain": [
       "interactive(children=(Dropdown(description='name', options=('european', 'italian', 'Cafes', 'Seafood', 'Burger…"
      ]
     },
     "metadata": {},
     "output_type": "display_data"
    }
   ],
   "source": [
    "@interact\n",
    "def show_maps_category(name=['italian','Cafes','Seafood', 'Burger', 'sushi', 'Asian']):\n",
    "    cuisine = search_venue(df, name)\n",
    "    return heatmap_venues(cuisine)"
   ]
  },
  {
   "cell_type": "code",
   "execution_count": 19,
   "id": "5eb51708",
   "metadata": {},
   "outputs": [],
   "source": [
    "for i in range(df.shape[0]):\n",
    "    folium.Marker(location=[df['geometry.location.lat'][i], df['geometry.location.lng'][i]], popup=df['name'][i], icon=folium.Icon(color='red')).add_to(geneva)"
   ]
  },
  {
   "cell_type": "code",
   "execution_count": 74,
   "id": "b064145e",
   "metadata": {},
   "outputs": [],
   "source": [
    "geneva_rating=folium.Map(location=[46.2044, 6.1432], tiles='cartodbpositron', zoom_start=11)\n",
    "geneva_price =folium.Map(location=[46.2044, 6.1432],tiles='cartodbpositron', zoom_start=11)\n",
    "geneva_rating_num =folium.Map(location=[46.2044, 6.1432],tiles='cartodbpositron', zoom_start=11)"
   ]
  },
  {
   "cell_type": "markdown",
   "id": "010a2224",
   "metadata": {},
   "source": [
    "## Ratings"
   ]
  },
  {
   "cell_type": "code",
   "execution_count": 75,
   "id": "dad10563",
   "metadata": {},
   "outputs": [],
   "source": [
    "for i in range(df.shape[0]):\n",
    "    if df['rating'][i]<=2.5:\n",
    "        folium.CircleMarker(location=[df['geometry.location.lat'][i], df['geometry.location.lng'][i]],radius=5, color='red',fillColor='red', fill=True, popup=[df['name'][i], df['rating'][i]]).add_to(geneva_rating)\n",
    "    elif df['rating'][i]>2.5 and df['rating'][i]<=3.5:\n",
    "        folium.CircleMarker(location=[df['geometry.location.lat'][i], df['geometry.location.lng'][i]],radius=5, color='orange',fillColor='orange', fill=True, popup=[df['name'][i], df['rating'][i]]).add_to(geneva_rating)\n",
    "    elif df['rating'][i]>3.5 and df['rating'][i]<=4:\n",
    "        folium.CircleMarker(location=[df['geometry.location.lat'][i], df['geometry.location.lng'][i]],radius=5, color='yellow',fillColor='yellow', fill=True, popup=[df['name'][i], df['rating'][i]]).add_to(geneva_rating)\n",
    "    elif df['rating'][i]>4 and df['rating'][i]<=4.5:   \n",
    "        folium.CircleMarker(location=[df['geometry.location.lat'][i], df['geometry.location.lng'][i]], radius=5, color='lightgreen',fillColor='lightgreen', fill=True,  popup=[df['name'][i], df['rating'][i]]).add_to(geneva_rating)\n",
    "    elif df['rating'][i]>4.5:\n",
    "        folium.CircleMarker(location=[df['geometry.location.lat'][i], df['geometry.location.lng'][i]], radius=5, color='green',fillColor='green', fill=True, popup=[df['name'][i], df['rating'][i]] ).add_to(geneva_rating)\n",
    "    else:\n",
    "        folium.CircleMarker(location=[df['geometry.location.lat'][i], df['geometry.location.lng'][i]],radius=5, color='white',fillColor='white', fill=True, popup=[df['name'][i], df['rating'][i]]).add_to(geneva_rating)\n",
    "        "
   ]
  },
  {
   "cell_type": "markdown",
   "id": "26d56008",
   "metadata": {},
   "source": [
    "## Prices"
   ]
  },
  {
   "cell_type": "code",
   "execution_count": 76,
   "id": "d5311532",
   "metadata": {},
   "outputs": [],
   "source": [
    "for i in range(df.shape[0]):\n",
    "    if df['price_level'][i]<=2:\n",
    "        folium.CircleMarker(location=[df['geometry.location.lat'][i], df['geometry.location.lng'][i]],radius=5, color='green',fillColor='green',fillOpacity=1, fill=True, popup=[df['name'][i],df['price_level'][i]]).add_to(geneva_price)\n",
    "    elif df['price_level'][i]>2 and df['rating'][i]<=3.5:\n",
    "        folium.CircleMarker(location=[df['geometry.location.lat'][i], df['geometry.location.lng'][i]],radius=5, color='lightgreen',fillColor='lightgreen',fillOpacity=1,fill=True, popup=[df['name'][i],df['price_level'][i]]).add_to(geneva_price)\n",
    "    elif df['price_level'][i]>3.5 and df['rating'][i]<=4:\n",
    "        folium.CircleMarker(location=[df['geometry.location.lat'][i], df['geometry.location.lng'][i]],radius=5, color='yellow',fillColor='yellow',fillOpacity=1,fill=True, popup=[df['name'][i],df['price_level'][i]]).add_to(geneva_price)\n",
    "    elif df['price_level'][i]>4 and df['rating'][i]<=4.5:   \n",
    "        folium.CircleMarker(location=[df['geometry.location.lat'][i], df['geometry.location.lng'][i]],radius=5, color='orange',fillColor='orange',fillOpacity=1,fill=True, popup=[df['name'][i],df['price_level'][i]]).add_to(geneva_price)\n",
    "    elif df['price_level'][i]>4.5:\n",
    "        folium.CircleMarker(location=[df['geometry.location.lat'][i], df['geometry.location.lng'][i]],radius=5,color='red',fillColor='red',fillOpacity=1,fill=True, popup=[df['name'][i],df['price_level'][i]]).add_to(geneva_price)\n",
    "    else:\n",
    "        folium.CircleMarker(location=[df['geometry.location.lat'][i], df['geometry.location.lng'][i]],radius=5,color='white',fillColor='white',fillOpacity=1,fill=True, popup=[df['name'][i],df['price_level'][i]]).add_to(geneva_price)\n",
    "     "
   ]
  },
  {
   "cell_type": "markdown",
   "id": "1b56cc00",
   "metadata": {},
   "source": [
    "# Number of reviews"
   ]
  },
  {
   "cell_type": "code",
   "execution_count": 77,
   "id": "b943cd00",
   "metadata": {},
   "outputs": [],
   "source": [
    "for i in range(df.shape[0]):\n",
    "    if df['user_ratings_total'][i]<=10:\n",
    "        folium.CircleMarker(location=[df['geometry.location.lat'][i], df['geometry.location.lng'][i]],radius=5, color='red',fillColor='red',fillOpacity=1, fill=True, popup=[df['name'][i],df['user_ratings_total'][i]]).add_to(geneva_rating_num)\n",
    "    elif df['user_ratings_total'][i]>10 and df['user_ratings_total'][i]<=20:\n",
    "        folium.CircleMarker(location=[df['geometry.location.lat'][i], df['geometry.location.lng'][i]],radius=5, color='orange',fillColor='orange',fillOpacity=1,fill=True, popup=[df['name'][i],df['user_ratings_total'][i]]).add_to(geneva_rating_num)\n",
    "    elif df['user_ratings_total'][i]>20 and df['user_ratings_total'][i]<=60:\n",
    "        folium.CircleMarker(location=[df['geometry.location.lat'][i], df['geometry.location.lng'][i]],radius=5, color='yellow',fillColor='yellow',fillOpacity=1,fill=True, popup=[df['name'][i],df['user_ratings_total'][i]]).add_to(geneva_rating_num)\n",
    "    elif df['user_ratings_total'][i]>600 and df['user_ratings_total'][i]<=100:   \n",
    "        folium.CircleMarker(location=[df['geometry.location.lat'][i], df['geometry.location.lng'][i]],radius=5, color='lightgreen',fillColor='lightgreen',fillOpacity=1,fill=True, popup=[df['name'][i],df['user_ratings_total'][i]]).add_to(geneva_rating_num)\n",
    "    elif df['user_ratings_total'][i]>100:\n",
    "        folium.CircleMarker(location=[df['geometry.location.lat'][i], df['geometry.location.lng'][i]],radius=5,color='green',fillColor='green',fillOpacity=1,fill=True, popup=[df['name'][i],df['user_ratings_total'][i]]).add_to(geneva_rating_num)\n",
    "    else:\n",
    "        folium.CircleMarker(location=[df['geometry.location.lat'][i], df['geometry.location.lng'][i]],radius=5,color='white',fillColor='white',fillOpacity=1,fill=True, popup=[df['name'][i],df['user_ratings_total'][i]]).add_to(geneva_rating_num)"
   ]
  },
  {
   "cell_type": "code",
   "execution_count": 78,
   "id": "ad634332",
   "metadata": {},
   "outputs": [],
   "source": [
    "geneva.save('index.html')\n",
    "geneva_rating.save('ratings.html')\n",
    "geneva_price.save('prices.html')\n",
    "geneva_rating_num.save('rating_number.html')"
   ]
  },
  {
   "cell_type": "code",
   "execution_count": 92,
   "id": "5f884517",
   "metadata": {},
   "outputs": [],
   "source": [
    "df.head()\n"
   ]
  },
  {
   "cell_type": "code",
   "execution_count": 93,
   "id": "7a3fb918",
   "metadata": {
    "scrolled": true
   },
   "outputs": [
    {
     "data": {
      "text/html": [
       "<div>\n",
       "<style scoped>\n",
       "    .dataframe tbody tr th:only-of-type {\n",
       "        vertical-align: middle;\n",
       "    }\n",
       "\n",
       "    .dataframe tbody tr th {\n",
       "        vertical-align: top;\n",
       "    }\n",
       "\n",
       "    .dataframe thead th {\n",
       "        text-align: right;\n",
       "    }\n",
       "</style>\n",
       "<table border=\"1\" class=\"dataframe\">\n",
       "  <thead>\n",
       "    <tr style=\"text-align: right;\">\n",
       "      <th></th>\n",
       "      <th>price_level</th>\n",
       "      <th>ta_price_level</th>\n",
       "      <th>price</th>\n",
       "    </tr>\n",
       "  </thead>\n",
       "  <tbody>\n",
       "    <tr>\n",
       "      <th>0</th>\n",
       "      <td>2.0</td>\n",
       "      <td>2.0</td>\n",
       "      <td></td>\n",
       "    </tr>\n",
       "    <tr>\n",
       "      <th>1</th>\n",
       "      <td>NaN</td>\n",
       "      <td>NaN</td>\n",
       "      <td></td>\n",
       "    </tr>\n",
       "    <tr>\n",
       "      <th>2</th>\n",
       "      <td>NaN</td>\n",
       "      <td>2.0</td>\n",
       "      <td></td>\n",
       "    </tr>\n",
       "    <tr>\n",
       "      <th>3</th>\n",
       "      <td>2.0</td>\n",
       "      <td>NaN</td>\n",
       "      <td></td>\n",
       "    </tr>\n",
       "    <tr>\n",
       "      <th>4</th>\n",
       "      <td>NaN</td>\n",
       "      <td>NaN</td>\n",
       "      <td></td>\n",
       "    </tr>\n",
       "    <tr>\n",
       "      <th>...</th>\n",
       "      <td>...</td>\n",
       "      <td>...</td>\n",
       "      <td>...</td>\n",
       "    </tr>\n",
       "    <tr>\n",
       "      <th>1721</th>\n",
       "      <td>2.0</td>\n",
       "      <td>2.0</td>\n",
       "      <td></td>\n",
       "    </tr>\n",
       "    <tr>\n",
       "      <th>1722</th>\n",
       "      <td>2.0</td>\n",
       "      <td>2.0</td>\n",
       "      <td></td>\n",
       "    </tr>\n",
       "    <tr>\n",
       "      <th>1723</th>\n",
       "      <td>2.0</td>\n",
       "      <td>NaN</td>\n",
       "      <td></td>\n",
       "    </tr>\n",
       "    <tr>\n",
       "      <th>1724</th>\n",
       "      <td>NaN</td>\n",
       "      <td>2.0</td>\n",
       "      <td></td>\n",
       "    </tr>\n",
       "    <tr>\n",
       "      <th>1725</th>\n",
       "      <td>1.0</td>\n",
       "      <td>2.0</td>\n",
       "      <td></td>\n",
       "    </tr>\n",
       "  </tbody>\n",
       "</table>\n",
       "<p>1726 rows × 3 columns</p>\n",
       "</div>"
      ],
      "text/plain": [
       "      price_level  ta_price_level price\n",
       "0             2.0             2.0      \n",
       "1             NaN             NaN      \n",
       "2             NaN             2.0      \n",
       "3             2.0             NaN      \n",
       "4             NaN             NaN      \n",
       "...           ...             ...   ...\n",
       "1721          2.0             2.0      \n",
       "1722          2.0             2.0      \n",
       "1723          2.0             NaN      \n",
       "1724          NaN             2.0      \n",
       "1725          1.0             2.0      \n",
       "\n",
       "[1726 rows x 3 columns]"
      ]
     },
     "execution_count": 93,
     "metadata": {},
     "output_type": "execute_result"
    }
   ],
   "source": [
    "df[['price_level','ta_price_level','price']]"
   ]
  },
  {
   "cell_type": "code",
   "execution_count": 81,
   "id": "d1809f87",
   "metadata": {},
   "outputs": [
    {
     "data": {
      "text/plain": [
       "Index(['original_index', 'place_id', 'tripadvisor_id', 'fsq_id', 'name',\n",
       "       'business_status', 'types', 'price_level', 'ta_price_level', 'rating',\n",
       "       'user_ratings_total', 'ta_rating', 'ta_user_ratings_total',\n",
       "       ' combined_rating ', 'geometry.location.lat', 'geometry.location.lng',\n",
       "       'formatted_address', 'zip_code', 'city', 'international_phone_number',\n",
       "       'website', 'combined_cuisine_type', 'ta_4sq_cuisine1',\n",
       "       'ta_4sq_cuisine2', 'ta_4sq_cuisine3', 'ta_4sq_cuisine4',\n",
       "       'ta_4sq_cuisine5', 'price'],\n",
       "      dtype='object')"
      ]
     },
     "execution_count": 81,
     "metadata": {},
     "output_type": "execute_result"
    }
   ],
   "source": []
  },
  {
   "cell_type": "code",
   "execution_count": null,
   "id": "957f9c5f",
   "metadata": {},
   "outputs": [],
   "source": []
  }
 ],
 "metadata": {
  "celltoolbar": "Slideshow",
  "kernelspec": {
   "display_name": "Python 3 (ipykernel)",
   "language": "python",
   "name": "python3"
  },
  "language_info": {
   "codemirror_mode": {
    "name": "ipython",
    "version": 3
   },
   "file_extension": ".py",
   "mimetype": "text/x-python",
   "name": "python",
   "nbconvert_exporter": "python",
   "pygments_lexer": "ipython3",
   "version": "3.8.12"
  },
  "toc": {
   "base_numbering": 1,
   "nav_menu": {},
   "number_sections": true,
   "sideBar": true,
   "skip_h1_title": false,
   "title_cell": "Table of Contents",
   "title_sidebar": "Contents",
   "toc_cell": false,
   "toc_position": {},
   "toc_section_display": true,
   "toc_window_display": false
  },
  "vscode": {
   "interpreter": {
    "hash": "bd6797b370a4a8eccf6441fef2a8e4e20f8212f2d5f96ab324147193026f31eb"
   }
  }
 },
 "nbformat": 4,
 "nbformat_minor": 5
}
