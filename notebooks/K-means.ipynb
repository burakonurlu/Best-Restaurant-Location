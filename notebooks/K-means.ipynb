{
 "cells": [
  {
   "cell_type": "markdown",
   "id": "03e0e025",
   "metadata": {},
   "source": [
    "## Importing"
   ]
  },
  {
   "cell_type": "code",
   "execution_count": 78,
   "id": "4d308d81",
   "metadata": {},
   "outputs": [],
   "source": [
    "import pandas as pd\n",
    "import numpy as np\n",
    "from sklearn.neighbors import KNeighborsClassifier, KNeighborsRegressor\n",
    "from sklearn.preprocessing import MinMaxScaler"
   ]
  },
  {
   "cell_type": "code",
   "execution_count": 136,
   "id": "33e7c5c0",
   "metadata": {
    "scrolled": false
   },
   "outputs": [
    {
     "data": {
      "text/plain": [
       "Index(['Unnamed: 0', 'original_index', 'place_id', 'tripadvisor_id', 'fsq_id',\n",
       "       'name', 'business_status', 'types', 'price_level', 'ta_price_level',\n",
       "       'price_level_combined', 'rating', 'user_ratings_total', 'ta_rating',\n",
       "       'ta_user_ratings_total', ' combined_rating ', 'geometry.location.lat',\n",
       "       'geometry.location.lng', 'formatted_address', 'zip_code', 'city',\n",
       "       'international_phone_number', 'website', 'google_category',\n",
       "       'ta_4sq_cuisine1', 'ta_4sq_cuisine2', 'ta_4sq_cuisine3',\n",
       "       'ta_4sq_cuisine4', 'ta_4sq_cuisine5', 'main_category_1',\n",
       "       'main_category_2', 'main_category_3', 'main_category_4',\n",
       "       'combined_main_category', 'sub_category', ' neighboorhood_area_km2 ',\n",
       "       '  resident_population_total ', ' population_age_0_14 ',\n",
       "       ' population_15_19 ', ' population_20_24 ', ' population_25_34 ',\n",
       "       ' population_35_44 ', ' population_45_54 ', ' population_54_64 ',\n",
       "       ' population_65+ ', ' resident_per_km2 ',\n",
       "       ' brut_income_annual_per_person '],\n",
       "      dtype='object')"
      ]
     },
     "execution_count": 136,
     "metadata": {},
     "output_type": "execute_result"
    }
   ],
   "source": [
    "df = pd.read_csv('../raw_data/raw_data_combined_v1.07.csv', encoding='utf-8-sig')\n",
    "df.columns"
   ]
  },
  {
   "cell_type": "code",
   "execution_count": 131,
   "id": "2d65d96b",
   "metadata": {},
   "outputs": [
    {
     "data": {
      "text/html": [
       "<div>\n",
       "<style scoped>\n",
       "    .dataframe tbody tr th:only-of-type {\n",
       "        vertical-align: middle;\n",
       "    }\n",
       "\n",
       "    .dataframe tbody tr th {\n",
       "        vertical-align: top;\n",
       "    }\n",
       "\n",
       "    .dataframe thead th {\n",
       "        text-align: right;\n",
       "    }\n",
       "</style>\n",
       "<table border=\"1\" class=\"dataframe\">\n",
       "  <thead>\n",
       "    <tr style=\"text-align: right;\">\n",
       "      <th></th>\n",
       "      <th>Unnamed: 0</th>\n",
       "      <th>original_index</th>\n",
       "      <th>tripadvisor_id</th>\n",
       "      <th>price_level</th>\n",
       "      <th>ta_price_level</th>\n",
       "      <th>price_level_combined</th>\n",
       "      <th>rating</th>\n",
       "      <th>user_ratings_total</th>\n",
       "      <th>ta_rating</th>\n",
       "      <th>ta_user_ratings_total</th>\n",
       "      <th>...</th>\n",
       "      <th>population_age_0_14</th>\n",
       "      <th>population_15_19</th>\n",
       "      <th>population_20_24</th>\n",
       "      <th>population_25_34</th>\n",
       "      <th>population_35_44</th>\n",
       "      <th>population_45_54</th>\n",
       "      <th>population_54_64</th>\n",
       "      <th>population_65+</th>\n",
       "      <th>resident_per_km2</th>\n",
       "      <th>brut_income_annual_per_person</th>\n",
       "    </tr>\n",
       "  </thead>\n",
       "  <tbody>\n",
       "    <tr>\n",
       "      <th>count</th>\n",
       "      <td>1613.000000</td>\n",
       "      <td>1613.000000</td>\n",
       "      <td>9.590000e+02</td>\n",
       "      <td>592.000000</td>\n",
       "      <td>791.000000</td>\n",
       "      <td>910.000000</td>\n",
       "      <td>1393.000000</td>\n",
       "      <td>1393.000000</td>\n",
       "      <td>896.000000</td>\n",
       "      <td>896.000000</td>\n",
       "      <td>...</td>\n",
       "      <td>1613.000000</td>\n",
       "      <td>1613.000000</td>\n",
       "      <td>1613.000000</td>\n",
       "      <td>1613.000000</td>\n",
       "      <td>1613.000000</td>\n",
       "      <td>1613.000000</td>\n",
       "      <td>1613.000000</td>\n",
       "      <td>1613.000000</td>\n",
       "      <td>1613.000000</td>\n",
       "      <td>1613.000000</td>\n",
       "    </tr>\n",
       "    <tr>\n",
       "      <th>mean</th>\n",
       "      <td>806.000000</td>\n",
       "      <td>985.544327</td>\n",
       "      <td>9.955535e+06</td>\n",
       "      <td>1.959459</td>\n",
       "      <td>1.969659</td>\n",
       "      <td>0.588645</td>\n",
       "      <td>4.298126</td>\n",
       "      <td>194.832735</td>\n",
       "      <td>4.032924</td>\n",
       "      <td>103.012277</td>\n",
       "      <td>...</td>\n",
       "      <td>2941.856169</td>\n",
       "      <td>963.586485</td>\n",
       "      <td>1431.595784</td>\n",
       "      <td>4564.722877</td>\n",
       "      <td>4140.012399</td>\n",
       "      <td>3589.794172</td>\n",
       "      <td>3015.025418</td>\n",
       "      <td>3501.278983</td>\n",
       "      <td>15656.592684</td>\n",
       "      <td>124549.434594</td>\n",
       "    </tr>\n",
       "    <tr>\n",
       "      <th>std</th>\n",
       "      <td>465.777307</td>\n",
       "      <td>575.344850</td>\n",
       "      <td>7.577631e+06</td>\n",
       "      <td>0.534791</td>\n",
       "      <td>0.449010</td>\n",
       "      <td>0.157276</td>\n",
       "      <td>0.494695</td>\n",
       "      <td>385.398577</td>\n",
       "      <td>0.626936</td>\n",
       "      <td>204.095078</td>\n",
       "      <td>...</td>\n",
       "      <td>1203.196211</td>\n",
       "      <td>371.513422</td>\n",
       "      <td>611.197059</td>\n",
       "      <td>2046.078977</td>\n",
       "      <td>1663.058910</td>\n",
       "      <td>1407.847004</td>\n",
       "      <td>1150.857196</td>\n",
       "      <td>1232.849600</td>\n",
       "      <td>6100.611208</td>\n",
       "      <td>33048.914179</td>\n",
       "    </tr>\n",
       "    <tr>\n",
       "      <th>min</th>\n",
       "      <td>0.000000</td>\n",
       "      <td>0.000000</td>\n",
       "      <td>6.978320e+05</td>\n",
       "      <td>1.000000</td>\n",
       "      <td>1.000000</td>\n",
       "      <td>0.250000</td>\n",
       "      <td>1.000000</td>\n",
       "      <td>1.000000</td>\n",
       "      <td>1.000000</td>\n",
       "      <td>0.000000</td>\n",
       "      <td>...</td>\n",
       "      <td>522.000000</td>\n",
       "      <td>174.000000</td>\n",
       "      <td>220.000000</td>\n",
       "      <td>313.000000</td>\n",
       "      <td>477.000000</td>\n",
       "      <td>619.000000</td>\n",
       "      <td>534.000000</td>\n",
       "      <td>700.000000</td>\n",
       "      <td>1174.000000</td>\n",
       "      <td>94723.000000</td>\n",
       "    </tr>\n",
       "    <tr>\n",
       "      <th>25%</th>\n",
       "      <td>403.000000</td>\n",
       "      <td>481.000000</td>\n",
       "      <td>3.393660e+06</td>\n",
       "      <td>2.000000</td>\n",
       "      <td>2.000000</td>\n",
       "      <td>0.583333</td>\n",
       "      <td>4.100000</td>\n",
       "      <td>23.000000</td>\n",
       "      <td>3.500000</td>\n",
       "      <td>11.000000</td>\n",
       "      <td>...</td>\n",
       "      <td>2666.000000</td>\n",
       "      <td>780.000000</td>\n",
       "      <td>996.000000</td>\n",
       "      <td>3501.000000</td>\n",
       "      <td>3555.000000</td>\n",
       "      <td>3028.000000</td>\n",
       "      <td>2638.000000</td>\n",
       "      <td>3155.000000</td>\n",
       "      <td>8608.000000</td>\n",
       "      <td>103373.000000</td>\n",
       "    </tr>\n",
       "    <tr>\n",
       "      <th>50%</th>\n",
       "      <td>806.000000</td>\n",
       "      <td>983.000000</td>\n",
       "      <td>8.308648e+06</td>\n",
       "      <td>2.000000</td>\n",
       "      <td>2.000000</td>\n",
       "      <td>0.583333</td>\n",
       "      <td>4.300000</td>\n",
       "      <td>92.000000</td>\n",
       "      <td>4.000000</td>\n",
       "      <td>41.000000</td>\n",
       "      <td>...</td>\n",
       "      <td>3423.000000</td>\n",
       "      <td>1156.000000</td>\n",
       "      <td>1611.000000</td>\n",
       "      <td>5163.000000</td>\n",
       "      <td>5389.000000</td>\n",
       "      <td>4675.000000</td>\n",
       "      <td>3853.000000</td>\n",
       "      <td>4059.000000</td>\n",
       "      <td>16282.000000</td>\n",
       "      <td>103373.000000</td>\n",
       "    </tr>\n",
       "    <tr>\n",
       "      <th>75%</th>\n",
       "      <td>1209.000000</td>\n",
       "      <td>1468.000000</td>\n",
       "      <td>1.531068e+07</td>\n",
       "      <td>2.000000</td>\n",
       "      <td>2.000000</td>\n",
       "      <td>0.666667</td>\n",
       "      <td>4.600000</td>\n",
       "      <td>221.000000</td>\n",
       "      <td>4.500000</td>\n",
       "      <td>114.250000</td>\n",
       "      <td>...</td>\n",
       "      <td>3886.000000</td>\n",
       "      <td>1264.000000</td>\n",
       "      <td>1937.000000</td>\n",
       "      <td>5621.000000</td>\n",
       "      <td>5549.000000</td>\n",
       "      <td>4812.000000</td>\n",
       "      <td>3966.000000</td>\n",
       "      <td>4362.000000</td>\n",
       "      <td>19143.000000</td>\n",
       "      <td>132730.000000</td>\n",
       "    </tr>\n",
       "    <tr>\n",
       "      <th>max</th>\n",
       "      <td>1612.000000</td>\n",
       "      <td>2019.000000</td>\n",
       "      <td>2.486194e+07</td>\n",
       "      <td>4.000000</td>\n",
       "      <td>3.000000</td>\n",
       "      <td>1.000000</td>\n",
       "      <td>5.000000</td>\n",
       "      <td>7885.000000</td>\n",
       "      <td>5.000000</td>\n",
       "      <td>2304.000000</td>\n",
       "      <td>...</td>\n",
       "      <td>6055.000000</td>\n",
       "      <td>2026.000000</td>\n",
       "      <td>2299.000000</td>\n",
       "      <td>7285.000000</td>\n",
       "      <td>5620.000000</td>\n",
       "      <td>5138.000000</td>\n",
       "      <td>4618.000000</td>\n",
       "      <td>5625.000000</td>\n",
       "      <td>23371.000000</td>\n",
       "      <td>198684.000000</td>\n",
       "    </tr>\n",
       "  </tbody>\n",
       "</table>\n",
       "<p>8 rows × 26 columns</p>\n",
       "</div>"
      ],
      "text/plain": [
       "        Unnamed: 0  original_index  tripadvisor_id  price_level  \\\n",
       "count  1613.000000     1613.000000    9.590000e+02   592.000000   \n",
       "mean    806.000000      985.544327    9.955535e+06     1.959459   \n",
       "std     465.777307      575.344850    7.577631e+06     0.534791   \n",
       "min       0.000000        0.000000    6.978320e+05     1.000000   \n",
       "25%     403.000000      481.000000    3.393660e+06     2.000000   \n",
       "50%     806.000000      983.000000    8.308648e+06     2.000000   \n",
       "75%    1209.000000     1468.000000    1.531068e+07     2.000000   \n",
       "max    1612.000000     2019.000000    2.486194e+07     4.000000   \n",
       "\n",
       "       ta_price_level  price_level_combined       rating  user_ratings_total  \\\n",
       "count      791.000000            910.000000  1393.000000         1393.000000   \n",
       "mean         1.969659              0.588645     4.298126          194.832735   \n",
       "std          0.449010              0.157276     0.494695          385.398577   \n",
       "min          1.000000              0.250000     1.000000            1.000000   \n",
       "25%          2.000000              0.583333     4.100000           23.000000   \n",
       "50%          2.000000              0.583333     4.300000           92.000000   \n",
       "75%          2.000000              0.666667     4.600000          221.000000   \n",
       "max          3.000000              1.000000     5.000000         7885.000000   \n",
       "\n",
       "        ta_rating  ta_user_ratings_total  ...   population_age_0_14   \\\n",
       "count  896.000000             896.000000  ...            1613.000000   \n",
       "mean     4.032924             103.012277  ...            2941.856169   \n",
       "std      0.626936             204.095078  ...            1203.196211   \n",
       "min      1.000000               0.000000  ...             522.000000   \n",
       "25%      3.500000              11.000000  ...            2666.000000   \n",
       "50%      4.000000              41.000000  ...            3423.000000   \n",
       "75%      4.500000             114.250000  ...            3886.000000   \n",
       "max      5.000000            2304.000000  ...            6055.000000   \n",
       "\n",
       "        population_15_19    population_20_24    population_25_34   \\\n",
       "count         1613.000000         1613.000000         1613.000000   \n",
       "mean           963.586485         1431.595784         4564.722877   \n",
       "std            371.513422          611.197059         2046.078977   \n",
       "min            174.000000          220.000000          313.000000   \n",
       "25%            780.000000          996.000000         3501.000000   \n",
       "50%           1156.000000         1611.000000         5163.000000   \n",
       "75%           1264.000000         1937.000000         5621.000000   \n",
       "max           2026.000000         2299.000000         7285.000000   \n",
       "\n",
       "        population_35_44    population_45_54    population_54_64   \\\n",
       "count         1613.000000         1613.000000         1613.000000   \n",
       "mean          4140.012399         3589.794172         3015.025418   \n",
       "std           1663.058910         1407.847004         1150.857196   \n",
       "min            477.000000          619.000000          534.000000   \n",
       "25%           3555.000000         3028.000000         2638.000000   \n",
       "50%           5389.000000         4675.000000         3853.000000   \n",
       "75%           5549.000000         4812.000000         3966.000000   \n",
       "max           5620.000000         5138.000000         4618.000000   \n",
       "\n",
       "        population_65+    resident_per_km2    brut_income_annual_per_person   \n",
       "count       1613.000000         1613.000000                      1613.000000  \n",
       "mean        3501.278983        15656.592684                    124549.434594  \n",
       "std         1232.849600         6100.611208                     33048.914179  \n",
       "min          700.000000         1174.000000                     94723.000000  \n",
       "25%         3155.000000         8608.000000                    103373.000000  \n",
       "50%         4059.000000        16282.000000                    103373.000000  \n",
       "75%         4362.000000        19143.000000                    132730.000000  \n",
       "max         5625.000000        23371.000000                    198684.000000  \n",
       "\n",
       "[8 rows x 26 columns]"
      ]
     },
     "execution_count": 131,
     "metadata": {},
     "output_type": "execute_result"
    }
   ],
   "source": [
    "df.describe()"
   ]
  },
  {
   "cell_type": "markdown",
   "id": "4829f02d",
   "metadata": {},
   "source": [
    "## Merging price levels"
   ]
  },
  {
   "cell_type": "code",
   "execution_count": 147,
   "id": "75ce25c1",
   "metadata": {},
   "outputs": [],
   "source": [
    "def chooser(row):\n",
    "    '''\n",
    "    Combines the price levels from Google and TripAdvisor normalizing both, or choosing the existing value\n",
    "    '''\n",
    "    if pd.isna(row['price_level']) and pd.isna(row['ta_price_level']):\n",
    "        pass\n",
    "    elif pd.isna(row['price_level']):\n",
    "        return row['ta_price_level']/3\n",
    "    elif pd.isna(row['ta_price_level']):\n",
    "        return row['price_level']/4\n",
    "    else:\n",
    "        return (row['ta_price_level']/3+row['price_level']/4)/2"
   ]
  },
  {
   "cell_type": "code",
   "execution_count": 147,
   "id": "da91e160",
   "metadata": {},
   "outputs": [],
   "source": [
    "def combinator(row):\n",
    "    '''\n",
    "    Combines the rating from Google and TripAdvisor, weighting by the total number of ratings.\n",
    "    '''\n",
    "    if pd.isna(row['rating']) and pd.isna(row['ta_rating']):\n",
    "        pass\n",
    "    elif pd.isna(row['rating']):\n",
    "        return row['ta_rating'],row['ta_user_ratings_total']\n",
    "    elif pd.isna(row['ta_rating']):\n",
    "        return row['rating'],row['user_ratings_total']\n",
    "    else:\n",
    "        return (row['ta_rating']*row['ta_user_ratings_total'] + row['rating']*row['user_ratings_total'])/row['ta_user_ratings_total']+row['user_ratings_total']"
   ]
  },
  {
   "cell_type": "code",
   "execution_count": 133,
   "id": "d24f63fa",
   "metadata": {},
   "outputs": [],
   "source": [
    "df['price_level_combined'] = df.apply(lambda x: chooser(x,df) ,axis=1)"
   ]
  },
  {
   "cell_type": "code",
   "execution_count": 16,
   "id": "e991171e",
   "metadata": {},
   "outputs": [],
   "source": [
    "df = df[['original_index', 'place_id', 'tripadvisor_id', 'fsq_id', 'name',\n",
    "       'business_status', 'types', 'price_level', 'ta_price_level', 'price_level_combined', 'rating',\n",
    "       'user_ratings_total', 'ta_rating', 'ta_user_ratings_total',\n",
    "       ' combined_rating ', 'geometry.location.lat', 'geometry.location.lng',\n",
    "       'formatted_address', 'zip_code', 'city', 'international_phone_number',\n",
    "       'website', 'google_category', 'ta_4sq_cuisine1', 'ta_4sq_cuisine2',\n",
    "       'ta_4sq_cuisine3', 'ta_4sq_cuisine4', 'ta_4sq_cuisine5',\n",
    "       'main_category_1', 'main_category_2', 'main_category_3',\n",
    "       'main_category_4', 'combined_main_category', 'sub_category',\n",
    "       ' neighboorhood_area_km2 ', '  resident_population_total ',\n",
    "       ' population_age_0_14 ', ' population_15_19 ', ' population_20_24 ',\n",
    "       ' population_25_34 ', ' population_35_44 ', ' population_45_54 ',\n",
    "       ' population_54_64 ', ' population_65+ ', ' resident_per_km2 ',\n",
    "       ' brut_income_annual_per_person ']]"
   ]
  },
  {
   "cell_type": "code",
   "execution_count": 18,
   "id": "6135f45a",
   "metadata": {},
   "outputs": [],
   "source": [
    "df.to_csv('../raw_data/raw_data_combined_v1.07.csv', encoding='utf-8-sig')"
   ]
  },
  {
   "cell_type": "markdown",
   "id": "8dc7d2c9",
   "metadata": {},
   "source": [
    "# Training K-means"
   ]
  },
  {
   "cell_type": "code",
   "execution_count": 143,
   "id": "f2bb10da",
   "metadata": {},
   "outputs": [],
   "source": [
    "knn = KNeighborsClassifier()"
   ]
  },
  {
   "cell_type": "code",
   "execution_count": 144,
   "id": "d0685e75",
   "metadata": {},
   "outputs": [],
   "source": [
    "df = df[['geometry.location.lat', 'geometry.location.lng', \n",
    "         'rating','user_ratings_total','ta_rating','ta_user_ratings_total',\n",
    "         'price_level_combined']]"
   ]
  },
  {
   "cell_type": "code",
   "execution_count": 145,
   "id": "1c50ed47",
   "metadata": {},
   "outputs": [
    {
     "data": {
      "text/html": [
       "<div>\n",
       "<style scoped>\n",
       "    .dataframe tbody tr th:only-of-type {\n",
       "        vertical-align: middle;\n",
       "    }\n",
       "\n",
       "    .dataframe tbody tr th {\n",
       "        vertical-align: top;\n",
       "    }\n",
       "\n",
       "    .dataframe thead th {\n",
       "        text-align: right;\n",
       "    }\n",
       "</style>\n",
       "<table border=\"1\" class=\"dataframe\">\n",
       "  <thead>\n",
       "    <tr style=\"text-align: right;\">\n",
       "      <th></th>\n",
       "      <th>geometry.location.lat</th>\n",
       "      <th>geometry.location.lng</th>\n",
       "      <th>rating</th>\n",
       "      <th>user_ratings_total</th>\n",
       "      <th>ta_rating</th>\n",
       "      <th>ta_user_ratings_total</th>\n",
       "      <th>price_level_combined</th>\n",
       "    </tr>\n",
       "  </thead>\n",
       "  <tbody>\n",
       "    <tr>\n",
       "      <th>0</th>\n",
       "      <td>46.205232</td>\n",
       "      <td>6.114945</td>\n",
       "      <td>4.2</td>\n",
       "      <td>158.0</td>\n",
       "      <td>3.5</td>\n",
       "      <td>34.0</td>\n",
       "      <td>0.583333</td>\n",
       "    </tr>\n",
       "    <tr>\n",
       "      <th>1</th>\n",
       "      <td>46.204931</td>\n",
       "      <td>6.114021</td>\n",
       "      <td>3.7</td>\n",
       "      <td>141.0</td>\n",
       "      <td>2.0</td>\n",
       "      <td>3.0</td>\n",
       "      <td>NaN</td>\n",
       "    </tr>\n",
       "    <tr>\n",
       "      <th>2</th>\n",
       "      <td>46.205752</td>\n",
       "      <td>6.114763</td>\n",
       "      <td>3.9</td>\n",
       "      <td>56.0</td>\n",
       "      <td>4.0</td>\n",
       "      <td>5.0</td>\n",
       "      <td>0.666667</td>\n",
       "    </tr>\n",
       "    <tr>\n",
       "      <th>3</th>\n",
       "      <td>46.196924</td>\n",
       "      <td>6.115081</td>\n",
       "      <td>4.5</td>\n",
       "      <td>113.0</td>\n",
       "      <td>NaN</td>\n",
       "      <td>NaN</td>\n",
       "      <td>0.500000</td>\n",
       "    </tr>\n",
       "    <tr>\n",
       "      <th>4</th>\n",
       "      <td>46.205248</td>\n",
       "      <td>6.115503</td>\n",
       "      <td>NaN</td>\n",
       "      <td>NaN</td>\n",
       "      <td>NaN</td>\n",
       "      <td>NaN</td>\n",
       "      <td>NaN</td>\n",
       "    </tr>\n",
       "    <tr>\n",
       "      <th>...</th>\n",
       "      <td>...</td>\n",
       "      <td>...</td>\n",
       "      <td>...</td>\n",
       "      <td>...</td>\n",
       "      <td>...</td>\n",
       "      <td>...</td>\n",
       "      <td>...</td>\n",
       "    </tr>\n",
       "    <tr>\n",
       "      <th>1608</th>\n",
       "      <td>46.192811</td>\n",
       "      <td>6.169873</td>\n",
       "      <td>4.2</td>\n",
       "      <td>100.0</td>\n",
       "      <td>3.5</td>\n",
       "      <td>31.0</td>\n",
       "      <td>0.583333</td>\n",
       "    </tr>\n",
       "    <tr>\n",
       "      <th>1609</th>\n",
       "      <td>46.199892</td>\n",
       "      <td>6.174117</td>\n",
       "      <td>4.3</td>\n",
       "      <td>376.0</td>\n",
       "      <td>3.5</td>\n",
       "      <td>123.0</td>\n",
       "      <td>0.583333</td>\n",
       "    </tr>\n",
       "    <tr>\n",
       "      <th>1610</th>\n",
       "      <td>46.199773</td>\n",
       "      <td>6.174561</td>\n",
       "      <td>4.3</td>\n",
       "      <td>250.0</td>\n",
       "      <td>NaN</td>\n",
       "      <td>NaN</td>\n",
       "      <td>0.500000</td>\n",
       "    </tr>\n",
       "    <tr>\n",
       "      <th>1611</th>\n",
       "      <td>46.199695</td>\n",
       "      <td>6.175007</td>\n",
       "      <td>4.8</td>\n",
       "      <td>15.0</td>\n",
       "      <td>4.0</td>\n",
       "      <td>3.0</td>\n",
       "      <td>0.666667</td>\n",
       "    </tr>\n",
       "    <tr>\n",
       "      <th>1612</th>\n",
       "      <td>46.201690</td>\n",
       "      <td>6.174614</td>\n",
       "      <td>4.3</td>\n",
       "      <td>125.0</td>\n",
       "      <td>4.0</td>\n",
       "      <td>15.0</td>\n",
       "      <td>0.458333</td>\n",
       "    </tr>\n",
       "  </tbody>\n",
       "</table>\n",
       "<p>1613 rows × 7 columns</p>\n",
       "</div>"
      ],
      "text/plain": [
       "      geometry.location.lat  geometry.location.lng  rating  \\\n",
       "0                 46.205232               6.114945     4.2   \n",
       "1                 46.204931               6.114021     3.7   \n",
       "2                 46.205752               6.114763     3.9   \n",
       "3                 46.196924               6.115081     4.5   \n",
       "4                 46.205248               6.115503     NaN   \n",
       "...                     ...                    ...     ...   \n",
       "1608              46.192811               6.169873     4.2   \n",
       "1609              46.199892               6.174117     4.3   \n",
       "1610              46.199773               6.174561     4.3   \n",
       "1611              46.199695               6.175007     4.8   \n",
       "1612              46.201690               6.174614     4.3   \n",
       "\n",
       "      user_ratings_total  ta_rating  ta_user_ratings_total  \\\n",
       "0                  158.0        3.5                   34.0   \n",
       "1                  141.0        2.0                    3.0   \n",
       "2                   56.0        4.0                    5.0   \n",
       "3                  113.0        NaN                    NaN   \n",
       "4                    NaN        NaN                    NaN   \n",
       "...                  ...        ...                    ...   \n",
       "1608               100.0        3.5                   31.0   \n",
       "1609               376.0        3.5                  123.0   \n",
       "1610               250.0        NaN                    NaN   \n",
       "1611                15.0        4.0                    3.0   \n",
       "1612               125.0        4.0                   15.0   \n",
       "\n",
       "      price_level_combined  \n",
       "0                 0.583333  \n",
       "1                      NaN  \n",
       "2                 0.666667  \n",
       "3                 0.500000  \n",
       "4                      NaN  \n",
       "...                    ...  \n",
       "1608              0.583333  \n",
       "1609              0.583333  \n",
       "1610              0.500000  \n",
       "1611              0.666667  \n",
       "1612              0.458333  \n",
       "\n",
       "[1613 rows x 7 columns]"
      ]
     },
     "execution_count": 145,
     "metadata": {},
     "output_type": "execute_result"
    }
   ],
   "source": [
    "df"
   ]
  },
  {
   "cell_type": "code",
   "execution_count": 146,
   "id": "504a06d6",
   "metadata": {},
   "outputs": [
    {
     "name": "stdout",
     "output_type": "stream",
     "text": [
      "<class 'pandas.core.frame.DataFrame'>\n",
      "RangeIndex: 1613 entries, 0 to 1612\n",
      "Data columns (total 7 columns):\n",
      " #   Column                 Non-Null Count  Dtype  \n",
      "---  ------                 --------------  -----  \n",
      " 0   geometry.location.lat  1613 non-null   float64\n",
      " 1   geometry.location.lng  1613 non-null   float64\n",
      " 2   rating                 1393 non-null   float64\n",
      " 3   user_ratings_total     1393 non-null   float64\n",
      " 4   ta_rating              896 non-null    float64\n",
      " 5   ta_user_ratings_total  896 non-null    float64\n",
      " 6   price_level_combined   910 non-null    float64\n",
      "dtypes: float64(7)\n",
      "memory usage: 88.3 KB\n"
     ]
    }
   ],
   "source": [
    "df.info()"
   ]
  },
  {
   "cell_type": "code",
   "execution_count": 139,
   "id": "c574e08d",
   "metadata": {},
   "outputs": [],
   "source": [
    "X = df.loc[df['price_level_combined']>0] #Droping all rows without price level"
   ]
  },
  {
   "cell_type": "code",
   "execution_count": 140,
   "id": "889d3712",
   "metadata": {},
   "outputs": [],
   "source": [
    "X = X.loc[X['ta_rating']>0] #Droping all rows without rating"
   ]
  },
  {
   "cell_type": "code",
   "execution_count": 141,
   "id": "1cc9e155",
   "metadata": {},
   "outputs": [],
   "source": [
    "X = X.loc[X['rating']>0] #Droping all rows without rating "
   ]
  },
  {
   "cell_type": "code",
   "execution_count": 142,
   "id": "cdf3bb9e",
   "metadata": {},
   "outputs": [
    {
     "name": "stdout",
     "output_type": "stream",
     "text": [
      "<class 'pandas.core.frame.DataFrame'>\n",
      "Int64Index: 787 entries, 0 to 1612\n",
      "Data columns (total 7 columns):\n",
      " #   Column                 Non-Null Count  Dtype  \n",
      "---  ------                 --------------  -----  \n",
      " 0   geometry.location.lat  787 non-null    float64\n",
      " 1   geometry.location.lng  787 non-null    float64\n",
      " 2   rating                 787 non-null    float64\n",
      " 3   user_ratings_total     787 non-null    float64\n",
      " 4   ta_rating              787 non-null    float64\n",
      " 5   ta_user_ratings_total  787 non-null    float64\n",
      " 6   price_level_combined   787 non-null    float64\n",
      "dtypes: float64(7)\n",
      "memory usage: 49.2 KB\n"
     ]
    }
   ],
   "source": [
    "X.info()"
   ]
  },
  {
   "cell_type": "code",
   "execution_count": 117,
   "id": "f4d52442",
   "metadata": {},
   "outputs": [],
   "source": [
    "y = X['price_level_combined']"
   ]
  },
  {
   "cell_type": "code",
   "execution_count": 118,
   "id": "5ce07954",
   "metadata": {},
   "outputs": [],
   "source": [
    "X.drop(columns=['price_level_combined'], inplace=True)"
   ]
  },
  {
   "cell_type": "code",
   "execution_count": 119,
   "id": "42914678",
   "metadata": {},
   "outputs": [],
   "source": [
    "X_scale = MinMaxScaler().fit_transform(X)"
   ]
  },
  {
   "cell_type": "code",
   "execution_count": 120,
   "id": "c329ade8",
   "metadata": {},
   "outputs": [
    {
     "data": {
      "text/plain": [
       "array([[7.33333333e-01, 1.99137494e-02, 6.25000000e-01, 1.47569444e-02],\n",
       "       [6.33333333e-01, 6.97615424e-03, 7.50000000e-01, 2.17013889e-03],\n",
       "       [1.00000000e+00, 1.26839168e-04, 8.75000000e-01, 3.03819444e-03],\n",
       "       ...,\n",
       "       [7.66666667e-01, 4.75646880e-02, 6.25000000e-01, 5.33854167e-02],\n",
       "       [9.33333333e-01, 1.77574835e-03, 7.50000000e-01, 1.30208333e-03],\n",
       "       [7.66666667e-01, 1.57280568e-02, 7.50000000e-01, 6.51041667e-03]])"
      ]
     },
     "execution_count": 120,
     "metadata": {},
     "output_type": "execute_result"
    }
   ],
   "source": [
    "X_scale"
   ]
  },
  {
   "cell_type": "code",
   "execution_count": 121,
   "id": "cb4d7f96",
   "metadata": {
    "scrolled": true
   },
   "outputs": [],
   "source": [
    "from sklearn.model_selection import cross_val_score\n",
    "knn = KNeighborsClassifier()"
   ]
  },
  {
   "cell_type": "code",
   "execution_count": 122,
   "id": "c220a507",
   "metadata": {},
   "outputs": [
    {
     "name": "stderr",
     "output_type": "stream",
     "text": [
      "/home/tchucky/.pyenv/versions/3.10.4/envs/best_restaurant_location/lib/python3.10/site-packages/sklearn/model_selection/_split.py:684: UserWarning: The least populated class in y has only 1 members, which is less than n_splits=10.\n",
      "  warnings.warn(\n"
     ]
    }
   ],
   "source": [
    "cross = cross_val_score(knn,X_scale,y,scoring='accuracy',cv=10,n_jobs=-1, error_score='raise')"
   ]
  },
  {
   "cell_type": "code",
   "execution_count": 123,
   "id": "250d12f8",
   "metadata": {},
   "outputs": [
    {
     "data": {
      "text/plain": [
       "array([0.48101266, 0.46835443, 0.40506329, 0.5443038 , 0.4556962 ,\n",
       "       0.55696203, 0.51898734, 0.48717949, 0.42307692, 0.55128205])"
      ]
     },
     "execution_count": 123,
     "metadata": {},
     "output_type": "execute_result"
    }
   ],
   "source": [
    "cross"
   ]
  },
  {
   "cell_type": "code",
   "execution_count": 96,
   "id": "09bcd6bc",
   "metadata": {},
   "outputs": [],
   "source": [
    "from sklearn.model_selection import GridSearchCV\n",
    "from sklearn.linear_model import LogisticRegression"
   ]
  },
  {
   "cell_type": "code",
   "execution_count": 97,
   "id": "60bd27f4",
   "metadata": {},
   "outputs": [],
   "source": [
    "logi = LogisticRegression()"
   ]
  },
  {
   "cell_type": "code",
   "execution_count": 106,
   "id": "02e62364",
   "metadata": {},
   "outputs": [
    {
     "ename": "ValueError",
     "evalue": "Unknown label type: 'continuous'",
     "output_type": "error",
     "traceback": [
      "\u001b[0;31m---------------------------------------------------------------------------\u001b[0m",
      "\u001b[0;31mValueError\u001b[0m                                Traceback (most recent call last)",
      "Input \u001b[0;32mIn [106]\u001b[0m, in \u001b[0;36m<cell line: 1>\u001b[0;34m()\u001b[0m\n\u001b[0;32m----> 1\u001b[0m \u001b[43mlogi\u001b[49m\u001b[38;5;241;43m.\u001b[39;49m\u001b[43mfit\u001b[49m\u001b[43m(\u001b[49m\u001b[43mX_scale\u001b[49m\u001b[43m,\u001b[49m\u001b[43my\u001b[49m\u001b[43m)\u001b[49m\n",
      "File \u001b[0;32m~/.pyenv/versions/3.10.4/envs/best_restaurant_location/lib/python3.10/site-packages/sklearn/linear_model/_logistic.py:1146\u001b[0m, in \u001b[0;36mLogisticRegression.fit\u001b[0;34m(self, X, y, sample_weight)\u001b[0m\n\u001b[1;32m   1136\u001b[0m     _dtype \u001b[38;5;241m=\u001b[39m [np\u001b[38;5;241m.\u001b[39mfloat64, np\u001b[38;5;241m.\u001b[39mfloat32]\n\u001b[1;32m   1138\u001b[0m X, y \u001b[38;5;241m=\u001b[39m \u001b[38;5;28mself\u001b[39m\u001b[38;5;241m.\u001b[39m_validate_data(\n\u001b[1;32m   1139\u001b[0m     X,\n\u001b[1;32m   1140\u001b[0m     y,\n\u001b[0;32m   (...)\u001b[0m\n\u001b[1;32m   1144\u001b[0m     accept_large_sparse\u001b[38;5;241m=\u001b[39msolver \u001b[38;5;129;01mnot\u001b[39;00m \u001b[38;5;129;01min\u001b[39;00m [\u001b[38;5;124m\"\u001b[39m\u001b[38;5;124mliblinear\u001b[39m\u001b[38;5;124m\"\u001b[39m, \u001b[38;5;124m\"\u001b[39m\u001b[38;5;124msag\u001b[39m\u001b[38;5;124m\"\u001b[39m, \u001b[38;5;124m\"\u001b[39m\u001b[38;5;124msaga\u001b[39m\u001b[38;5;124m\"\u001b[39m],\n\u001b[1;32m   1145\u001b[0m )\n\u001b[0;32m-> 1146\u001b[0m \u001b[43mcheck_classification_targets\u001b[49m\u001b[43m(\u001b[49m\u001b[43my\u001b[49m\u001b[43m)\u001b[49m\n\u001b[1;32m   1147\u001b[0m \u001b[38;5;28mself\u001b[39m\u001b[38;5;241m.\u001b[39mclasses_ \u001b[38;5;241m=\u001b[39m np\u001b[38;5;241m.\u001b[39munique(y)\n\u001b[1;32m   1149\u001b[0m multi_class \u001b[38;5;241m=\u001b[39m _check_multi_class(\u001b[38;5;28mself\u001b[39m\u001b[38;5;241m.\u001b[39mmulti_class, solver, \u001b[38;5;28mlen\u001b[39m(\u001b[38;5;28mself\u001b[39m\u001b[38;5;241m.\u001b[39mclasses_))\n",
      "File \u001b[0;32m~/.pyenv/versions/3.10.4/envs/best_restaurant_location/lib/python3.10/site-packages/sklearn/utils/multiclass.py:200\u001b[0m, in \u001b[0;36mcheck_classification_targets\u001b[0;34m(y)\u001b[0m\n\u001b[1;32m    192\u001b[0m y_type \u001b[38;5;241m=\u001b[39m type_of_target(y, input_name\u001b[38;5;241m=\u001b[39m\u001b[38;5;124m\"\u001b[39m\u001b[38;5;124my\u001b[39m\u001b[38;5;124m\"\u001b[39m)\n\u001b[1;32m    193\u001b[0m \u001b[38;5;28;01mif\u001b[39;00m y_type \u001b[38;5;129;01mnot\u001b[39;00m \u001b[38;5;129;01min\u001b[39;00m [\n\u001b[1;32m    194\u001b[0m     \u001b[38;5;124m\"\u001b[39m\u001b[38;5;124mbinary\u001b[39m\u001b[38;5;124m\"\u001b[39m,\n\u001b[1;32m    195\u001b[0m     \u001b[38;5;124m\"\u001b[39m\u001b[38;5;124mmulticlass\u001b[39m\u001b[38;5;124m\"\u001b[39m,\n\u001b[0;32m   (...)\u001b[0m\n\u001b[1;32m    198\u001b[0m     \u001b[38;5;124m\"\u001b[39m\u001b[38;5;124mmultilabel-sequences\u001b[39m\u001b[38;5;124m\"\u001b[39m,\n\u001b[1;32m    199\u001b[0m ]:\n\u001b[0;32m--> 200\u001b[0m     \u001b[38;5;28;01mraise\u001b[39;00m \u001b[38;5;167;01mValueError\u001b[39;00m(\u001b[38;5;124m\"\u001b[39m\u001b[38;5;124mUnknown label type: \u001b[39m\u001b[38;5;132;01m%r\u001b[39;00m\u001b[38;5;124m\"\u001b[39m \u001b[38;5;241m%\u001b[39m y_type)\n",
      "\u001b[0;31mValueError\u001b[0m: Unknown label type: 'continuous'"
     ]
    }
   ],
   "source": [
    "logi.fit(X_scale,y)"
   ]
  },
  {
   "cell_type": "code",
   "execution_count": 104,
   "id": "0de4ffa4",
   "metadata": {},
   "outputs": [],
   "source": [
    "grid = GridSearchCV(logi, param_grid={\n",
    "    'solver':['newton-cg', 'lbfgs', \n",
    "#               'liblinear', 'sag', 'saga'\n",
    "             ],\n",
    "}, n_jobs=-1, \n",
    "                    scoring='r2', \n",
    "                    cv=7, error_score='raise')"
   ]
  },
  {
   "cell_type": "code",
   "execution_count": 124,
   "id": "f91f7153",
   "metadata": {},
   "outputs": [],
   "source": [
    "grid = GridSearchCV(knn, param_grid={\n",
    "    'n_neighbors':np.arange(2,10),\n",
    "    'p':[1,2,3,4,5]\n",
    "}, n_jobs=-1, \n",
    "                    scoring='accuracy', \n",
    "                    cv=7, error_score='raise')"
   ]
  },
  {
   "cell_type": "code",
   "execution_count": 125,
   "id": "faf77a6a",
   "metadata": {
    "scrolled": true
   },
   "outputs": [
    {
     "name": "stderr",
     "output_type": "stream",
     "text": [
      "/home/tchucky/.pyenv/versions/3.10.4/envs/best_restaurant_location/lib/python3.10/site-packages/sklearn/model_selection/_split.py:684: UserWarning: The least populated class in y has only 1 members, which is less than n_splits=7.\n",
      "  warnings.warn(\n"
     ]
    },
    {
     "data": {
      "text/html": [
       "<style>#sk-container-id-4 {color: black;background-color: white;}#sk-container-id-4 pre{padding: 0;}#sk-container-id-4 div.sk-toggleable {background-color: white;}#sk-container-id-4 label.sk-toggleable__label {cursor: pointer;display: block;width: 100%;margin-bottom: 0;padding: 0.3em;box-sizing: border-box;text-align: center;}#sk-container-id-4 label.sk-toggleable__label-arrow:before {content: \"▸\";float: left;margin-right: 0.25em;color: #696969;}#sk-container-id-4 label.sk-toggleable__label-arrow:hover:before {color: black;}#sk-container-id-4 div.sk-estimator:hover label.sk-toggleable__label-arrow:before {color: black;}#sk-container-id-4 div.sk-toggleable__content {max-height: 0;max-width: 0;overflow: hidden;text-align: left;background-color: #f0f8ff;}#sk-container-id-4 div.sk-toggleable__content pre {margin: 0.2em;color: black;border-radius: 0.25em;background-color: #f0f8ff;}#sk-container-id-4 input.sk-toggleable__control:checked~div.sk-toggleable__content {max-height: 200px;max-width: 100%;overflow: auto;}#sk-container-id-4 input.sk-toggleable__control:checked~label.sk-toggleable__label-arrow:before {content: \"▾\";}#sk-container-id-4 div.sk-estimator input.sk-toggleable__control:checked~label.sk-toggleable__label {background-color: #d4ebff;}#sk-container-id-4 div.sk-label input.sk-toggleable__control:checked~label.sk-toggleable__label {background-color: #d4ebff;}#sk-container-id-4 input.sk-hidden--visually {border: 0;clip: rect(1px 1px 1px 1px);clip: rect(1px, 1px, 1px, 1px);height: 1px;margin: -1px;overflow: hidden;padding: 0;position: absolute;width: 1px;}#sk-container-id-4 div.sk-estimator {font-family: monospace;background-color: #f0f8ff;border: 1px dotted black;border-radius: 0.25em;box-sizing: border-box;margin-bottom: 0.5em;}#sk-container-id-4 div.sk-estimator:hover {background-color: #d4ebff;}#sk-container-id-4 div.sk-parallel-item::after {content: \"\";width: 100%;border-bottom: 1px solid gray;flex-grow: 1;}#sk-container-id-4 div.sk-label:hover label.sk-toggleable__label {background-color: #d4ebff;}#sk-container-id-4 div.sk-serial::before {content: \"\";position: absolute;border-left: 1px solid gray;box-sizing: border-box;top: 0;bottom: 0;left: 50%;z-index: 0;}#sk-container-id-4 div.sk-serial {display: flex;flex-direction: column;align-items: center;background-color: white;padding-right: 0.2em;padding-left: 0.2em;position: relative;}#sk-container-id-4 div.sk-item {position: relative;z-index: 1;}#sk-container-id-4 div.sk-parallel {display: flex;align-items: stretch;justify-content: center;background-color: white;position: relative;}#sk-container-id-4 div.sk-item::before, #sk-container-id-4 div.sk-parallel-item::before {content: \"\";position: absolute;border-left: 1px solid gray;box-sizing: border-box;top: 0;bottom: 0;left: 50%;z-index: -1;}#sk-container-id-4 div.sk-parallel-item {display: flex;flex-direction: column;z-index: 1;position: relative;background-color: white;}#sk-container-id-4 div.sk-parallel-item:first-child::after {align-self: flex-end;width: 50%;}#sk-container-id-4 div.sk-parallel-item:last-child::after {align-self: flex-start;width: 50%;}#sk-container-id-4 div.sk-parallel-item:only-child::after {width: 0;}#sk-container-id-4 div.sk-dashed-wrapped {border: 1px dashed gray;margin: 0 0.4em 0.5em 0.4em;box-sizing: border-box;padding-bottom: 0.4em;background-color: white;}#sk-container-id-4 div.sk-label label {font-family: monospace;font-weight: bold;display: inline-block;line-height: 1.2em;}#sk-container-id-4 div.sk-label-container {text-align: center;}#sk-container-id-4 div.sk-container {/* jupyter's `normalize.less` sets `[hidden] { display: none; }` but bootstrap.min.css set `[hidden] { display: none !important; }` so we also need the `!important` here to be able to override the default hidden behavior on the sphinx rendered scikit-learn.org. See: https://github.com/scikit-learn/scikit-learn/issues/21755 */display: inline-block !important;position: relative;}#sk-container-id-4 div.sk-text-repr-fallback {display: none;}</style><div id=\"sk-container-id-4\" class=\"sk-top-container\"><div class=\"sk-text-repr-fallback\"><pre>GridSearchCV(cv=7, error_score=&#x27;raise&#x27;, estimator=KNeighborsClassifier(),\n",
       "             n_jobs=-1,\n",
       "             param_grid={&#x27;n_neighbors&#x27;: array([2, 3, 4, 5, 6, 7, 8, 9]),\n",
       "                         &#x27;p&#x27;: [1, 2, 3, 4, 5]},\n",
       "             scoring=&#x27;accuracy&#x27;)</pre><b>In a Jupyter environment, please rerun this cell to show the HTML representation or trust the notebook. <br />On GitHub, the HTML representation is unable to render, please try loading this page with nbviewer.org.</b></div><div class=\"sk-container\" hidden><div class=\"sk-item sk-dashed-wrapped\"><div class=\"sk-label-container\"><div class=\"sk-label sk-toggleable\"><input class=\"sk-toggleable__control sk-hidden--visually\" id=\"sk-estimator-id-10\" type=\"checkbox\" ><label for=\"sk-estimator-id-10\" class=\"sk-toggleable__label sk-toggleable__label-arrow\">GridSearchCV</label><div class=\"sk-toggleable__content\"><pre>GridSearchCV(cv=7, error_score=&#x27;raise&#x27;, estimator=KNeighborsClassifier(),\n",
       "             n_jobs=-1,\n",
       "             param_grid={&#x27;n_neighbors&#x27;: array([2, 3, 4, 5, 6, 7, 8, 9]),\n",
       "                         &#x27;p&#x27;: [1, 2, 3, 4, 5]},\n",
       "             scoring=&#x27;accuracy&#x27;)</pre></div></div></div><div class=\"sk-parallel\"><div class=\"sk-parallel-item\"><div class=\"sk-item\"><div class=\"sk-label-container\"><div class=\"sk-label sk-toggleable\"><input class=\"sk-toggleable__control sk-hidden--visually\" id=\"sk-estimator-id-11\" type=\"checkbox\" ><label for=\"sk-estimator-id-11\" class=\"sk-toggleable__label sk-toggleable__label-arrow\">estimator: KNeighborsClassifier</label><div class=\"sk-toggleable__content\"><pre>KNeighborsClassifier()</pre></div></div></div><div class=\"sk-serial\"><div class=\"sk-item\"><div class=\"sk-estimator sk-toggleable\"><input class=\"sk-toggleable__control sk-hidden--visually\" id=\"sk-estimator-id-12\" type=\"checkbox\" ><label for=\"sk-estimator-id-12\" class=\"sk-toggleable__label sk-toggleable__label-arrow\">KNeighborsClassifier</label><div class=\"sk-toggleable__content\"><pre>KNeighborsClassifier()</pre></div></div></div></div></div></div></div></div></div></div>"
      ],
      "text/plain": [
       "GridSearchCV(cv=7, error_score='raise', estimator=KNeighborsClassifier(),\n",
       "             n_jobs=-1,\n",
       "             param_grid={'n_neighbors': array([2, 3, 4, 5, 6, 7, 8, 9]),\n",
       "                         'p': [1, 2, 3, 4, 5]},\n",
       "             scoring='accuracy')"
      ]
     },
     "execution_count": 125,
     "metadata": {},
     "output_type": "execute_result"
    }
   ],
   "source": [
    "grid.fit(X_scale,y)"
   ]
  },
  {
   "cell_type": "code",
   "execution_count": 126,
   "id": "ac1e9eff",
   "metadata": {},
   "outputs": [
    {
     "data": {
      "text/plain": [
       "{'n_neighbors': 8, 'p': 4}"
      ]
     },
     "execution_count": 126,
     "metadata": {},
     "output_type": "execute_result"
    }
   ],
   "source": [
    "grid.best_params_"
   ]
  },
  {
   "cell_type": "code",
   "execution_count": 127,
   "id": "753b1c30",
   "metadata": {},
   "outputs": [
    {
     "data": {
      "text/plain": [
       "0.5210064114141232"
      ]
     },
     "execution_count": 127,
     "metadata": {},
     "output_type": "execute_result"
    }
   ],
   "source": [
    "grid.best_score_"
   ]
  },
  {
   "cell_type": "code",
   "execution_count": 40,
   "id": "12e60dc9",
   "metadata": {},
   "outputs": [
    {
     "data": {
      "text/plain": [
       "{'mean_fit_time': array([0.00212921, 0.00195878, 0.00291678, 0.00172339, 0.00198354,\n",
       "        0.00184563, 0.00144359, 0.00158535, 0.00156345, 0.00188507,\n",
       "        0.0024411 , 0.00193582, 0.00161968, 0.00181198, 0.00147976,\n",
       "        0.00124645]),\n",
       " 'std_fit_time': array([3.75204814e-04, 8.36141726e-05, 2.07281086e-03, 5.15884963e-04,\n",
       "        5.85054027e-04, 6.28155446e-04, 1.58166011e-04, 2.06862233e-04,\n",
       "        2.62657486e-04, 4.43643117e-04, 2.52483174e-03, 5.86725057e-04,\n",
       "        2.12920810e-04, 8.21558686e-04, 3.22535736e-04, 1.92399509e-04]),\n",
       " 'mean_score_time': array([0.00556653, 0.00506735, 0.00513666, 0.00571881, 0.00545277,\n",
       "        0.00661421, 0.00507481, 0.004687  , 0.00471221, 0.00417522,\n",
       "        0.00706962, 0.00562651, 0.00495335, 0.00443046, 0.00501616,\n",
       "        0.00376119]),\n",
       " 'std_score_time': array([0.00122196, 0.00108004, 0.0012567 , 0.00203684, 0.0014589 ,\n",
       "        0.00335495, 0.00070731, 0.00072123, 0.00067703, 0.00060073,\n",
       "        0.00224701, 0.0011698 , 0.00098573, 0.00033924, 0.00097279,\n",
       "        0.00079467]),\n",
       " 'param_n_neighbors': masked_array(data=[2, 2, 3, 3, 4, 4, 5, 5, 6, 6, 7, 7, 8, 8, 9, 9],\n",
       "              mask=[False, False, False, False, False, False, False, False,\n",
       "                    False, False, False, False, False, False, False, False],\n",
       "        fill_value='?',\n",
       "             dtype=object),\n",
       " 'param_p': masked_array(data=[1, 2, 1, 2, 1, 2, 1, 2, 1, 2, 1, 2, 1, 2, 1, 2],\n",
       "              mask=[False, False, False, False, False, False, False, False,\n",
       "                    False, False, False, False, False, False, False, False],\n",
       "        fill_value='?',\n",
       "             dtype=object),\n",
       " 'params': [{'n_neighbors': 2, 'p': 1},\n",
       "  {'n_neighbors': 2, 'p': 2},\n",
       "  {'n_neighbors': 3, 'p': 1},\n",
       "  {'n_neighbors': 3, 'p': 2},\n",
       "  {'n_neighbors': 4, 'p': 1},\n",
       "  {'n_neighbors': 4, 'p': 2},\n",
       "  {'n_neighbors': 5, 'p': 1},\n",
       "  {'n_neighbors': 5, 'p': 2},\n",
       "  {'n_neighbors': 6, 'p': 1},\n",
       "  {'n_neighbors': 6, 'p': 2},\n",
       "  {'n_neighbors': 7, 'p': 1},\n",
       "  {'n_neighbors': 7, 'p': 2},\n",
       "  {'n_neighbors': 8, 'p': 1},\n",
       "  {'n_neighbors': 8, 'p': 2},\n",
       "  {'n_neighbors': 9, 'p': 1},\n",
       "  {'n_neighbors': 9, 'p': 2}],\n",
       " 'split0_test_score': array([0.56944444, 0.55555556, 0.76388889, 0.80555556, 0.73611111,\n",
       "        0.77777778, 0.75      , 0.80555556, 0.76388889, 0.77777778,\n",
       "        0.77777778, 0.79166667, 0.76388889, 0.79166667, 0.77777778,\n",
       "        0.79166667]),\n",
       " 'split1_test_score': array([0.70833333, 0.75      , 0.75      , 0.80555556, 0.76388889,\n",
       "        0.77777778, 0.77777778, 0.77777778, 0.77777778, 0.80555556,\n",
       "        0.77777778, 0.79166667, 0.77777778, 0.79166667, 0.77777778,\n",
       "        0.79166667]),\n",
       " 'split2_test_score': array([0.69444444, 0.68055556, 0.75      , 0.77777778, 0.73611111,\n",
       "        0.75      , 0.77777778, 0.75      , 0.75      , 0.75      ,\n",
       "        0.76388889, 0.77777778, 0.79166667, 0.75      , 0.80555556,\n",
       "        0.77777778]),\n",
       " 'split3_test_score': array([0.63888889, 0.63888889, 0.72222222, 0.72222222, 0.75      ,\n",
       "        0.76388889, 0.77777778, 0.79166667, 0.77777778, 0.79166667,\n",
       "        0.76388889, 0.77777778, 0.76388889, 0.76388889, 0.76388889,\n",
       "        0.75      ]),\n",
       " 'split4_test_score': array([0.65277778, 0.63888889, 0.68055556, 0.72222222, 0.68055556,\n",
       "        0.73611111, 0.70833333, 0.77777778, 0.75      , 0.76388889,\n",
       "        0.75      , 0.73611111, 0.77777778, 0.79166667, 0.75      ,\n",
       "        0.76388889]),\n",
       " 'split5_test_score': array([0.66197183, 0.64788732, 0.70422535, 0.73239437, 0.70422535,\n",
       "        0.76056338, 0.76056338, 0.8028169 , 0.78873239, 0.77464789,\n",
       "        0.78873239, 0.8028169 , 0.78873239, 0.8028169 , 0.78873239,\n",
       "        0.77464789]),\n",
       " 'split6_test_score': array([0.77464789, 0.77464789, 0.77464789, 0.77464789, 0.76056338,\n",
       "        0.77464789, 0.77464789, 0.77464789, 0.77464789, 0.77464789,\n",
       "        0.77464789, 0.77464789, 0.78873239, 0.77464789, 0.78873239,\n",
       "        0.77464789]),\n",
       " 'mean_test_score': array([0.67150123, 0.66948916, 0.73507713, 0.7629108 , 0.73306506,\n",
       "        0.76296669, 0.76098256, 0.7828918 , 0.76897496, 0.77688352,\n",
       "        0.77095909, 0.77892354, 0.77892354, 0.78090767, 0.77892354,\n",
       "        0.7748994 ]),\n",
       " 'std_test_score': array([0.05909164, 0.06864305, 0.0314666 , 0.034306  , 0.02828577,\n",
       "        0.01449715, 0.02368156, 0.01768693, 0.01375024, 0.0166605 ,\n",
       "        0.01172144, 0.01981874, 0.01075388, 0.01736742, 0.01676275,\n",
       "        0.01368996]),\n",
       " 'rank_test_score': array([15, 16, 13, 11, 14, 10, 12,  1,  9,  6,  8,  3,  4,  2,  4,  7],\n",
       "       dtype=int32)}"
      ]
     },
     "execution_count": 40,
     "metadata": {},
     "output_type": "execute_result"
    }
   ],
   "source": [
    "grid.cv_results_"
   ]
  },
  {
   "cell_type": "code",
   "execution_count": 43,
   "id": "1b90b955",
   "metadata": {},
   "outputs": [
    {
     "data": {
      "text/plain": [
       "2.0    0.784861\n",
       "1.0    0.117530\n",
       "3.0    0.083665\n",
       "4.0    0.013944\n",
       "Name: price_level, dtype: float64"
      ]
     },
     "execution_count": 43,
     "metadata": {},
     "output_type": "execute_result"
    }
   ],
   "source": [
    "y.value_counts(normalize=True)"
   ]
  },
  {
   "cell_type": "code",
   "execution_count": 56,
   "id": "0ffaf5d9",
   "metadata": {},
   "outputs": [],
   "source": [
    "from sklearn.model_selection import train_test_split"
   ]
  },
  {
   "cell_type": "code",
   "execution_count": 59,
   "id": "f9236510",
   "metadata": {},
   "outputs": [],
   "source": [
    "X_train, X_test, y_train, y_test = train_test_split(X,y)"
   ]
  },
  {
   "cell_type": "code",
   "execution_count": 61,
   "id": "bb7d017a",
   "metadata": {},
   "outputs": [],
   "source": [
    "knn2 = KNeighborsClassifier(n_neighbors=6, p=1)"
   ]
  },
  {
   "cell_type": "code",
   "execution_count": 73,
   "id": "535b2bb7",
   "metadata": {},
   "outputs": [
    {
     "data": {
      "text/plain": [
       "0.753968253968254"
      ]
     },
     "execution_count": 73,
     "metadata": {},
     "output_type": "execute_result"
    }
   ],
   "source": [
    "knn2.score(X_test,y_test)"
   ]
  },
  {
   "cell_type": "code",
   "execution_count": 63,
   "id": "1680a0f0",
   "metadata": {},
   "outputs": [
    {
     "data": {
      "text/plain": [
       "KNeighborsClassifier(algorithm='auto', leaf_size=30, metric='minkowski',\n",
       "                     metric_params=None, n_jobs=None, n_neighbors=6, p=1,\n",
       "                     weights='uniform')"
      ]
     },
     "execution_count": 63,
     "metadata": {},
     "output_type": "execute_result"
    }
   ],
   "source": [
    "knn2.fit(X_train,y_train)"
   ]
  },
  {
   "cell_type": "code",
   "execution_count": 64,
   "id": "9c37baea",
   "metadata": {},
   "outputs": [],
   "source": [
    "prediction = knn2.predict(X_test)"
   ]
  },
  {
   "cell_type": "code",
   "execution_count": 66,
   "id": "b8f8eb9e",
   "metadata": {},
   "outputs": [
    {
     "data": {
      "text/plain": [
       "2.0    110\n",
       "1.0      9\n",
       "3.0      7\n",
       "dtype: int64"
      ]
     },
     "execution_count": 66,
     "metadata": {},
     "output_type": "execute_result"
    }
   ],
   "source": [
    "pd.Series(prediction).value_counts()"
   ]
  },
  {
   "cell_type": "code",
   "execution_count": 68,
   "id": "f3af10d6",
   "metadata": {},
   "outputs": [],
   "source": [
    "df_analise = pd.DataFrame({\"prediction\":prediction,\"valor_real\":y_test})"
   ]
  },
  {
   "cell_type": "code",
   "execution_count": 70,
   "id": "08d97602",
   "metadata": {},
   "outputs": [
    {
     "data": {
      "text/html": [
       "<div>\n",
       "<style scoped>\n",
       "    .dataframe tbody tr th:only-of-type {\n",
       "        vertical-align: middle;\n",
       "    }\n",
       "\n",
       "    .dataframe tbody tr th {\n",
       "        vertical-align: top;\n",
       "    }\n",
       "\n",
       "    .dataframe thead th {\n",
       "        text-align: right;\n",
       "    }\n",
       "</style>\n",
       "<table border=\"1\" class=\"dataframe\">\n",
       "  <thead>\n",
       "    <tr style=\"text-align: right;\">\n",
       "      <th></th>\n",
       "      <th>prediction</th>\n",
       "      <th>valor_real</th>\n",
       "    </tr>\n",
       "  </thead>\n",
       "  <tbody>\n",
       "    <tr>\n",
       "      <th>335</th>\n",
       "      <td>1.0</td>\n",
       "      <td>2.0</td>\n",
       "    </tr>\n",
       "    <tr>\n",
       "      <th>1137</th>\n",
       "      <td>1.0</td>\n",
       "      <td>2.0</td>\n",
       "    </tr>\n",
       "    <tr>\n",
       "      <th>806</th>\n",
       "      <td>3.0</td>\n",
       "      <td>2.0</td>\n",
       "    </tr>\n",
       "    <tr>\n",
       "      <th>867</th>\n",
       "      <td>2.0</td>\n",
       "      <td>1.0</td>\n",
       "    </tr>\n",
       "    <tr>\n",
       "      <th>958</th>\n",
       "      <td>2.0</td>\n",
       "      <td>1.0</td>\n",
       "    </tr>\n",
       "    <tr>\n",
       "      <th>756</th>\n",
       "      <td>2.0</td>\n",
       "      <td>1.0</td>\n",
       "    </tr>\n",
       "    <tr>\n",
       "      <th>1362</th>\n",
       "      <td>1.0</td>\n",
       "      <td>2.0</td>\n",
       "    </tr>\n",
       "    <tr>\n",
       "      <th>868</th>\n",
       "      <td>2.0</td>\n",
       "      <td>3.0</td>\n",
       "    </tr>\n",
       "    <tr>\n",
       "      <th>107</th>\n",
       "      <td>2.0</td>\n",
       "      <td>1.0</td>\n",
       "    </tr>\n",
       "    <tr>\n",
       "      <th>1612</th>\n",
       "      <td>2.0</td>\n",
       "      <td>1.0</td>\n",
       "    </tr>\n",
       "    <tr>\n",
       "      <th>994</th>\n",
       "      <td>2.0</td>\n",
       "      <td>1.0</td>\n",
       "    </tr>\n",
       "    <tr>\n",
       "      <th>1039</th>\n",
       "      <td>2.0</td>\n",
       "      <td>1.0</td>\n",
       "    </tr>\n",
       "    <tr>\n",
       "      <th>844</th>\n",
       "      <td>2.0</td>\n",
       "      <td>3.0</td>\n",
       "    </tr>\n",
       "    <tr>\n",
       "      <th>770</th>\n",
       "      <td>2.0</td>\n",
       "      <td>3.0</td>\n",
       "    </tr>\n",
       "    <tr>\n",
       "      <th>801</th>\n",
       "      <td>2.0</td>\n",
       "      <td>3.0</td>\n",
       "    </tr>\n",
       "    <tr>\n",
       "      <th>80</th>\n",
       "      <td>3.0</td>\n",
       "      <td>2.0</td>\n",
       "    </tr>\n",
       "    <tr>\n",
       "      <th>1181</th>\n",
       "      <td>3.0</td>\n",
       "      <td>2.0</td>\n",
       "    </tr>\n",
       "    <tr>\n",
       "      <th>10</th>\n",
       "      <td>1.0</td>\n",
       "      <td>2.0</td>\n",
       "    </tr>\n",
       "    <tr>\n",
       "      <th>1345</th>\n",
       "      <td>2.0</td>\n",
       "      <td>3.0</td>\n",
       "    </tr>\n",
       "    <tr>\n",
       "      <th>1235</th>\n",
       "      <td>3.0</td>\n",
       "      <td>2.0</td>\n",
       "    </tr>\n",
       "    <tr>\n",
       "      <th>1350</th>\n",
       "      <td>2.0</td>\n",
       "      <td>3.0</td>\n",
       "    </tr>\n",
       "    <tr>\n",
       "      <th>1455</th>\n",
       "      <td>2.0</td>\n",
       "      <td>3.0</td>\n",
       "    </tr>\n",
       "    <tr>\n",
       "      <th>1468</th>\n",
       "      <td>2.0</td>\n",
       "      <td>1.0</td>\n",
       "    </tr>\n",
       "    <tr>\n",
       "      <th>68</th>\n",
       "      <td>1.0</td>\n",
       "      <td>2.0</td>\n",
       "    </tr>\n",
       "    <tr>\n",
       "      <th>785</th>\n",
       "      <td>2.0</td>\n",
       "      <td>3.0</td>\n",
       "    </tr>\n",
       "    <tr>\n",
       "      <th>848</th>\n",
       "      <td>2.0</td>\n",
       "      <td>3.0</td>\n",
       "    </tr>\n",
       "    <tr>\n",
       "      <th>1279</th>\n",
       "      <td>3.0</td>\n",
       "      <td>4.0</td>\n",
       "    </tr>\n",
       "    <tr>\n",
       "      <th>1282</th>\n",
       "      <td>1.0</td>\n",
       "      <td>2.0</td>\n",
       "    </tr>\n",
       "    <tr>\n",
       "      <th>1380</th>\n",
       "      <td>3.0</td>\n",
       "      <td>2.0</td>\n",
       "    </tr>\n",
       "    <tr>\n",
       "      <th>252</th>\n",
       "      <td>2.0</td>\n",
       "      <td>1.0</td>\n",
       "    </tr>\n",
       "    <tr>\n",
       "      <th>328</th>\n",
       "      <td>2.0</td>\n",
       "      <td>3.0</td>\n",
       "    </tr>\n",
       "  </tbody>\n",
       "</table>\n",
       "</div>"
      ],
      "text/plain": [
       "      prediction  valor_real\n",
       "335          1.0         2.0\n",
       "1137         1.0         2.0\n",
       "806          3.0         2.0\n",
       "867          2.0         1.0\n",
       "958          2.0         1.0\n",
       "756          2.0         1.0\n",
       "1362         1.0         2.0\n",
       "868          2.0         3.0\n",
       "107          2.0         1.0\n",
       "1612         2.0         1.0\n",
       "994          2.0         1.0\n",
       "1039         2.0         1.0\n",
       "844          2.0         3.0\n",
       "770          2.0         3.0\n",
       "801          2.0         3.0\n",
       "80           3.0         2.0\n",
       "1181         3.0         2.0\n",
       "10           1.0         2.0\n",
       "1345         2.0         3.0\n",
       "1235         3.0         2.0\n",
       "1350         2.0         3.0\n",
       "1455         2.0         3.0\n",
       "1468         2.0         1.0\n",
       "68           1.0         2.0\n",
       "785          2.0         3.0\n",
       "848          2.0         3.0\n",
       "1279         3.0         4.0\n",
       "1282         1.0         2.0\n",
       "1380         3.0         2.0\n",
       "252          2.0         1.0\n",
       "328          2.0         3.0"
      ]
     },
     "execution_count": 70,
     "metadata": {},
     "output_type": "execute_result"
    }
   ],
   "source": [
    "df_analise[df_analise['prediction'] != df_analise['valor_real']]"
   ]
  },
  {
   "cell_type": "code",
   "execution_count": null,
   "id": "c168e795",
   "metadata": {},
   "outputs": [],
   "source": []
  }
 ],
 "metadata": {
  "kernelspec": {
   "display_name": "Python 3 (ipykernel)",
   "language": "python",
   "name": "python3"
  },
  "language_info": {
   "codemirror_mode": {
    "name": "ipython",
    "version": 3
   },
   "file_extension": ".py",
   "mimetype": "text/x-python",
   "name": "python",
   "nbconvert_exporter": "python",
   "pygments_lexer": "ipython3",
   "version": "3.10.4"
  },
  "toc": {
   "base_numbering": 1,
   "nav_menu": {},
   "number_sections": true,
   "sideBar": true,
   "skip_h1_title": false,
   "title_cell": "Table of Contents",
   "title_sidebar": "Contents",
   "toc_cell": false,
   "toc_position": {},
   "toc_section_display": true,
   "toc_window_display": false
  }
 },
 "nbformat": 4,
 "nbformat_minor": 5
}
