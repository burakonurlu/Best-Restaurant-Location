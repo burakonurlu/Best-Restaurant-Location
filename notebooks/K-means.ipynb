{
 "cells": [
  {
   "cell_type": "markdown",
   "id": "03e0e025",
   "metadata": {},
   "source": [
    "## Importing"
   ]
  },
  {
   "cell_type": "code",
   "execution_count": 35,
   "id": "4d308d81",
   "metadata": {},
   "outputs": [],
   "source": [
    "import pandas as pd\n",
    "import numpy as np\n",
    "from sklearn.neighbors import KNeighborsClassifier\n",
    "from sklearn.preprocessing import MinMaxScaler"
   ]
  },
  {
   "cell_type": "code",
   "execution_count": 8,
   "id": "33e7c5c0",
   "metadata": {},
   "outputs": [
    {
     "data": {
      "text/plain": [
       "Index(['original_index', 'place_id', 'tripadvisor_id', 'fsq_id', 'name',\n",
       "       'business_status', 'types', 'price_level', 'ta_price_level', 'rating',\n",
       "       'user_ratings_total', 'ta_rating', 'ta_user_ratings_total',\n",
       "       ' combined_rating ', 'geometry.location.lat', 'geometry.location.lng',\n",
       "       'formatted_address', 'zip_code', 'city', 'international_phone_number',\n",
       "       'website', 'google_category', 'ta_4sq_cuisine1', 'ta_4sq_cuisine2',\n",
       "       'ta_4sq_cuisine3', 'ta_4sq_cuisine4', 'ta_4sq_cuisine5',\n",
       "       'main_category_1', 'main_category_2', 'main_category_3',\n",
       "       'main_category_4', 'combined_main_category', 'sub_category',\n",
       "       ' neighboorhood_area_km2 ', '  resident_population_total ',\n",
       "       ' population_age_0_14 ', ' population_15_19 ', ' population_20_24 ',\n",
       "       ' population_25_34 ', ' population_35_44 ', ' population_45_54 ',\n",
       "       ' population_54_64 ', ' population_65+ ', ' resident_per_km2 ',\n",
       "       ' brut_income_annual_per_person '],\n",
       "      dtype='object')"
      ]
     },
     "execution_count": 8,
     "metadata": {},
     "output_type": "execute_result"
    }
   ],
   "source": [
    "df = pd.read_csv('../raw_data/raw_data_combined_v1.06.csv', encoding='utf-8-sig')\n",
    "df.columns"
   ]
  },
  {
   "cell_type": "markdown",
   "id": "8dc7d2c9",
   "metadata": {},
   "source": [
    "# Training K-means"
   ]
  },
  {
   "cell_type": "code",
   "execution_count": 9,
   "id": "f2bb10da",
   "metadata": {},
   "outputs": [],
   "source": [
    "knn = KNeighborsClassifier(n_neighbors=2)"
   ]
  },
  {
   "cell_type": "code",
   "execution_count": 11,
   "id": "58579860",
   "metadata": {},
   "outputs": [],
   "source": [
    "#df = df[['geometry.location.lat', 'geometry.location.lng', 'rating',\n",
    "#         'user_ratings_total','ta_rating','ta_user_ratings_total','price_level']]"
   ]
  },
  {
   "cell_type": "code",
   "execution_count": 44,
   "id": "d0685e75",
   "metadata": {},
   "outputs": [],
   "source": [
    "df = df[['rating','user_ratings_total','ta_rating','ta_user_ratings_total','price_level']]"
   ]
  },
  {
   "cell_type": "code",
   "execution_count": 45,
   "id": "1c50ed47",
   "metadata": {},
   "outputs": [
    {
     "data": {
      "text/html": [
       "<div>\n",
       "<style scoped>\n",
       "    .dataframe tbody tr th:only-of-type {\n",
       "        vertical-align: middle;\n",
       "    }\n",
       "\n",
       "    .dataframe tbody tr th {\n",
       "        vertical-align: top;\n",
       "    }\n",
       "\n",
       "    .dataframe thead th {\n",
       "        text-align: right;\n",
       "    }\n",
       "</style>\n",
       "<table border=\"1\" class=\"dataframe\">\n",
       "  <thead>\n",
       "    <tr style=\"text-align: right;\">\n",
       "      <th></th>\n",
       "      <th>rating</th>\n",
       "      <th>user_ratings_total</th>\n",
       "      <th>ta_rating</th>\n",
       "      <th>ta_user_ratings_total</th>\n",
       "      <th>price_level</th>\n",
       "    </tr>\n",
       "  </thead>\n",
       "  <tbody>\n",
       "    <tr>\n",
       "      <th>0</th>\n",
       "      <td>4.2</td>\n",
       "      <td>158.0</td>\n",
       "      <td>3.5</td>\n",
       "      <td>34.0</td>\n",
       "      <td>2.0</td>\n",
       "    </tr>\n",
       "    <tr>\n",
       "      <th>1</th>\n",
       "      <td>3.7</td>\n",
       "      <td>141.0</td>\n",
       "      <td>2.0</td>\n",
       "      <td>3.0</td>\n",
       "      <td>NaN</td>\n",
       "    </tr>\n",
       "    <tr>\n",
       "      <th>2</th>\n",
       "      <td>3.9</td>\n",
       "      <td>56.0</td>\n",
       "      <td>4.0</td>\n",
       "      <td>5.0</td>\n",
       "      <td>NaN</td>\n",
       "    </tr>\n",
       "    <tr>\n",
       "      <th>3</th>\n",
       "      <td>4.5</td>\n",
       "      <td>113.0</td>\n",
       "      <td>NaN</td>\n",
       "      <td>NaN</td>\n",
       "      <td>2.0</td>\n",
       "    </tr>\n",
       "    <tr>\n",
       "      <th>4</th>\n",
       "      <td>NaN</td>\n",
       "      <td>NaN</td>\n",
       "      <td>NaN</td>\n",
       "      <td>NaN</td>\n",
       "      <td>NaN</td>\n",
       "    </tr>\n",
       "    <tr>\n",
       "      <th>...</th>\n",
       "      <td>...</td>\n",
       "      <td>...</td>\n",
       "      <td>...</td>\n",
       "      <td>...</td>\n",
       "      <td>...</td>\n",
       "    </tr>\n",
       "    <tr>\n",
       "      <th>1608</th>\n",
       "      <td>4.2</td>\n",
       "      <td>100.0</td>\n",
       "      <td>3.5</td>\n",
       "      <td>31.0</td>\n",
       "      <td>2.0</td>\n",
       "    </tr>\n",
       "    <tr>\n",
       "      <th>1609</th>\n",
       "      <td>4.3</td>\n",
       "      <td>376.0</td>\n",
       "      <td>3.5</td>\n",
       "      <td>123.0</td>\n",
       "      <td>2.0</td>\n",
       "    </tr>\n",
       "    <tr>\n",
       "      <th>1610</th>\n",
       "      <td>4.3</td>\n",
       "      <td>250.0</td>\n",
       "      <td>NaN</td>\n",
       "      <td>NaN</td>\n",
       "      <td>2.0</td>\n",
       "    </tr>\n",
       "    <tr>\n",
       "      <th>1611</th>\n",
       "      <td>4.8</td>\n",
       "      <td>15.0</td>\n",
       "      <td>4.0</td>\n",
       "      <td>3.0</td>\n",
       "      <td>NaN</td>\n",
       "    </tr>\n",
       "    <tr>\n",
       "      <th>1612</th>\n",
       "      <td>4.3</td>\n",
       "      <td>125.0</td>\n",
       "      <td>4.0</td>\n",
       "      <td>15.0</td>\n",
       "      <td>1.0</td>\n",
       "    </tr>\n",
       "  </tbody>\n",
       "</table>\n",
       "<p>1613 rows × 5 columns</p>\n",
       "</div>"
      ],
      "text/plain": [
       "      rating  user_ratings_total  ta_rating  ta_user_ratings_total  \\\n",
       "0        4.2               158.0        3.5                   34.0   \n",
       "1        3.7               141.0        2.0                    3.0   \n",
       "2        3.9                56.0        4.0                    5.0   \n",
       "3        4.5               113.0        NaN                    NaN   \n",
       "4        NaN                 NaN        NaN                    NaN   \n",
       "...      ...                 ...        ...                    ...   \n",
       "1608     4.2               100.0        3.5                   31.0   \n",
       "1609     4.3               376.0        3.5                  123.0   \n",
       "1610     4.3               250.0        NaN                    NaN   \n",
       "1611     4.8                15.0        4.0                    3.0   \n",
       "1612     4.3               125.0        4.0                   15.0   \n",
       "\n",
       "      price_level  \n",
       "0             2.0  \n",
       "1             NaN  \n",
       "2             NaN  \n",
       "3             2.0  \n",
       "4             NaN  \n",
       "...           ...  \n",
       "1608          2.0  \n",
       "1609          2.0  \n",
       "1610          2.0  \n",
       "1611          NaN  \n",
       "1612          1.0  \n",
       "\n",
       "[1613 rows x 5 columns]"
      ]
     },
     "execution_count": 45,
     "metadata": {},
     "output_type": "execute_result"
    }
   ],
   "source": [
    "df"
   ]
  },
  {
   "cell_type": "code",
   "execution_count": 13,
   "id": "504a06d6",
   "metadata": {},
   "outputs": [
    {
     "name": "stdout",
     "output_type": "stream",
     "text": [
      "<class 'pandas.core.frame.DataFrame'>\n",
      "RangeIndex: 1613 entries, 0 to 1612\n",
      "Data columns (total 7 columns):\n",
      " #   Column                 Non-Null Count  Dtype  \n",
      "---  ------                 --------------  -----  \n",
      " 0   geometry.location.lat  1613 non-null   float64\n",
      " 1   geometry.location.lng  1613 non-null   float64\n",
      " 2   rating                 1393 non-null   float64\n",
      " 3   user_ratings_total     1393 non-null   float64\n",
      " 4   ta_rating              896 non-null    float64\n",
      " 5   ta_user_ratings_total  896 non-null    float64\n",
      " 6   price_level            592 non-null    float64\n",
      "dtypes: float64(7)\n",
      "memory usage: 88.3 KB\n"
     ]
    }
   ],
   "source": [
    "df.info()"
   ]
  },
  {
   "cell_type": "code",
   "execution_count": 46,
   "id": "c574e08d",
   "metadata": {},
   "outputs": [],
   "source": [
    "X = df.loc[df['price_level']>0] #Droping all rows without price level"
   ]
  },
  {
   "cell_type": "code",
   "execution_count": 47,
   "id": "889d3712",
   "metadata": {},
   "outputs": [],
   "source": [
    "X = X.loc[X['ta_rating']>0] #Droping all rows without rating (6 rows)"
   ]
  },
  {
   "cell_type": "code",
   "execution_count": 48,
   "id": "f4d52442",
   "metadata": {},
   "outputs": [],
   "source": [
    "y = X['price_level']"
   ]
  },
  {
   "cell_type": "code",
   "execution_count": 49,
   "id": "5ce07954",
   "metadata": {},
   "outputs": [],
   "source": [
    "X.drop(columns=['price_level'], inplace=True)"
   ]
  },
  {
   "cell_type": "code",
   "execution_count": 50,
   "id": "063cde08",
   "metadata": {},
   "outputs": [
    {
     "name": "stdout",
     "output_type": "stream",
     "text": [
      "<class 'pandas.core.frame.DataFrame'>\n",
      "Int64Index: 502 entries, 0 to 1612\n",
      "Data columns (total 4 columns):\n",
      " #   Column                 Non-Null Count  Dtype  \n",
      "---  ------                 --------------  -----  \n",
      " 0   rating                 502 non-null    float64\n",
      " 1   user_ratings_total     502 non-null    float64\n",
      " 2   ta_rating              502 non-null    float64\n",
      " 3   ta_user_ratings_total  502 non-null    float64\n",
      "dtypes: float64(4)\n",
      "memory usage: 19.6 KB\n"
     ]
    }
   ],
   "source": [
    "X.info()"
   ]
  },
  {
   "cell_type": "code",
   "execution_count": 51,
   "id": "42914678",
   "metadata": {},
   "outputs": [],
   "source": [
    "X_scale = MinMaxScaler().fit_transform(X)"
   ]
  },
  {
   "cell_type": "code",
   "execution_count": 23,
   "id": "4cd2ed1a",
   "metadata": {
    "scrolled": true
   },
   "outputs": [
    {
     "data": {
      "text/plain": [
       "KNeighborsClassifier(algorithm='auto', leaf_size=30, metric='minkowski',\n",
       "                     metric_params=None, n_jobs=None, n_neighbors=2, p=2,\n",
       "                     weights='uniform')"
      ]
     },
     "execution_count": 23,
     "metadata": {},
     "output_type": "execute_result"
    }
   ],
   "source": [
    "knn.fit(X,y)"
   ]
  },
  {
   "cell_type": "code",
   "execution_count": 24,
   "id": "d42e1c50",
   "metadata": {},
   "outputs": [
    {
     "data": {
      "text/plain": [
       "0.8306772908366534"
      ]
     },
     "execution_count": 24,
     "metadata": {},
     "output_type": "execute_result"
    }
   ],
   "source": [
    "knn.score(X,y)"
   ]
  },
  {
   "cell_type": "code",
   "execution_count": 26,
   "id": "cb4d7f96",
   "metadata": {
    "scrolled": true
   },
   "outputs": [
    {
     "name": "stderr",
     "output_type": "stream",
     "text": [
      "/home/tchucky/.pyenv/versions/3.10.4/envs/lewagon/lib/python3.10/site-packages/sklearn/model_selection/_split.py:665: UserWarning: The least populated class in y has only 7 members, which is less than n_splits=10.\n",
      "  warnings.warn((\"The least populated class in y has only %d\"\n"
     ]
    }
   ],
   "source": [
    "from sklearn.model_selection import cross_val_score\n",
    "cross = cross_val_score(knn,X,y,scoring='accuracy',cv=10,n_jobs=-1)"
   ]
  },
  {
   "cell_type": "code",
   "execution_count": 27,
   "id": "250d12f8",
   "metadata": {},
   "outputs": [
    {
     "data": {
      "text/plain": [
       "array([0.64705882, 0.66666667, 0.74      , 0.66      , 0.54      ,\n",
       "       0.72      , 0.74      , 0.7       , 0.62      , 0.68      ])"
      ]
     },
     "execution_count": 27,
     "metadata": {},
     "output_type": "execute_result"
    }
   ],
   "source": [
    "cross"
   ]
  },
  {
   "cell_type": "code",
   "execution_count": 28,
   "id": "09bcd6bc",
   "metadata": {},
   "outputs": [],
   "source": [
    "from sklearn.model_selection import GridSearchCV"
   ]
  },
  {
   "cell_type": "code",
   "execution_count": 52,
   "id": "f91f7153",
   "metadata": {},
   "outputs": [],
   "source": [
    "grid = GridSearchCV(knn, param_grid={'n_neighbors':np.arange(2,10),'p':[1,2]}, n_jobs=-1, scoring='accuracy', cv=7)"
   ]
  },
  {
   "cell_type": "code",
   "execution_count": 53,
   "id": "faf77a6a",
   "metadata": {
    "scrolled": true
   },
   "outputs": [
    {
     "data": {
      "text/plain": [
       "GridSearchCV(cv=7, error_score=nan,\n",
       "             estimator=KNeighborsClassifier(algorithm='auto', leaf_size=30,\n",
       "                                            metric='minkowski',\n",
       "                                            metric_params=None, n_jobs=None,\n",
       "                                            n_neighbors=2, p=2,\n",
       "                                            weights='uniform'),\n",
       "             iid='deprecated', n_jobs=-1,\n",
       "             param_grid={'n_neighbors': array([2, 3, 4, 5, 6, 7, 8, 9]),\n",
       "                         'p': [1, 2]},\n",
       "             pre_dispatch='2*n_jobs', refit=True, return_train_score=False,\n",
       "             scoring='accuracy', verbose=0)"
      ]
     },
     "execution_count": 53,
     "metadata": {},
     "output_type": "execute_result"
    }
   ],
   "source": [
    "grid.fit(X_scale,y)"
   ]
  },
  {
   "cell_type": "code",
   "execution_count": 54,
   "id": "ac1e9eff",
   "metadata": {},
   "outputs": [
    {
     "data": {
      "text/plain": [
       "{'n_neighbors': 6, 'p': 1}"
      ]
     },
     "execution_count": 54,
     "metadata": {},
     "output_type": "execute_result"
    }
   ],
   "source": [
    "grid.best_params_"
   ]
  },
  {
   "cell_type": "code",
   "execution_count": 55,
   "id": "753b1c30",
   "metadata": {},
   "outputs": [
    {
     "data": {
      "text/plain": [
       "0.7769673597138386"
      ]
     },
     "execution_count": 55,
     "metadata": {},
     "output_type": "execute_result"
    }
   ],
   "source": [
    "grid.best_score_"
   ]
  },
  {
   "cell_type": "code",
   "execution_count": 40,
   "id": "12e60dc9",
   "metadata": {},
   "outputs": [
    {
     "data": {
      "text/plain": [
       "{'mean_fit_time': array([0.00212921, 0.00195878, 0.00291678, 0.00172339, 0.00198354,\n",
       "        0.00184563, 0.00144359, 0.00158535, 0.00156345, 0.00188507,\n",
       "        0.0024411 , 0.00193582, 0.00161968, 0.00181198, 0.00147976,\n",
       "        0.00124645]),\n",
       " 'std_fit_time': array([3.75204814e-04, 8.36141726e-05, 2.07281086e-03, 5.15884963e-04,\n",
       "        5.85054027e-04, 6.28155446e-04, 1.58166011e-04, 2.06862233e-04,\n",
       "        2.62657486e-04, 4.43643117e-04, 2.52483174e-03, 5.86725057e-04,\n",
       "        2.12920810e-04, 8.21558686e-04, 3.22535736e-04, 1.92399509e-04]),\n",
       " 'mean_score_time': array([0.00556653, 0.00506735, 0.00513666, 0.00571881, 0.00545277,\n",
       "        0.00661421, 0.00507481, 0.004687  , 0.00471221, 0.00417522,\n",
       "        0.00706962, 0.00562651, 0.00495335, 0.00443046, 0.00501616,\n",
       "        0.00376119]),\n",
       " 'std_score_time': array([0.00122196, 0.00108004, 0.0012567 , 0.00203684, 0.0014589 ,\n",
       "        0.00335495, 0.00070731, 0.00072123, 0.00067703, 0.00060073,\n",
       "        0.00224701, 0.0011698 , 0.00098573, 0.00033924, 0.00097279,\n",
       "        0.00079467]),\n",
       " 'param_n_neighbors': masked_array(data=[2, 2, 3, 3, 4, 4, 5, 5, 6, 6, 7, 7, 8, 8, 9, 9],\n",
       "              mask=[False, False, False, False, False, False, False, False,\n",
       "                    False, False, False, False, False, False, False, False],\n",
       "        fill_value='?',\n",
       "             dtype=object),\n",
       " 'param_p': masked_array(data=[1, 2, 1, 2, 1, 2, 1, 2, 1, 2, 1, 2, 1, 2, 1, 2],\n",
       "              mask=[False, False, False, False, False, False, False, False,\n",
       "                    False, False, False, False, False, False, False, False],\n",
       "        fill_value='?',\n",
       "             dtype=object),\n",
       " 'params': [{'n_neighbors': 2, 'p': 1},\n",
       "  {'n_neighbors': 2, 'p': 2},\n",
       "  {'n_neighbors': 3, 'p': 1},\n",
       "  {'n_neighbors': 3, 'p': 2},\n",
       "  {'n_neighbors': 4, 'p': 1},\n",
       "  {'n_neighbors': 4, 'p': 2},\n",
       "  {'n_neighbors': 5, 'p': 1},\n",
       "  {'n_neighbors': 5, 'p': 2},\n",
       "  {'n_neighbors': 6, 'p': 1},\n",
       "  {'n_neighbors': 6, 'p': 2},\n",
       "  {'n_neighbors': 7, 'p': 1},\n",
       "  {'n_neighbors': 7, 'p': 2},\n",
       "  {'n_neighbors': 8, 'p': 1},\n",
       "  {'n_neighbors': 8, 'p': 2},\n",
       "  {'n_neighbors': 9, 'p': 1},\n",
       "  {'n_neighbors': 9, 'p': 2}],\n",
       " 'split0_test_score': array([0.56944444, 0.55555556, 0.76388889, 0.80555556, 0.73611111,\n",
       "        0.77777778, 0.75      , 0.80555556, 0.76388889, 0.77777778,\n",
       "        0.77777778, 0.79166667, 0.76388889, 0.79166667, 0.77777778,\n",
       "        0.79166667]),\n",
       " 'split1_test_score': array([0.70833333, 0.75      , 0.75      , 0.80555556, 0.76388889,\n",
       "        0.77777778, 0.77777778, 0.77777778, 0.77777778, 0.80555556,\n",
       "        0.77777778, 0.79166667, 0.77777778, 0.79166667, 0.77777778,\n",
       "        0.79166667]),\n",
       " 'split2_test_score': array([0.69444444, 0.68055556, 0.75      , 0.77777778, 0.73611111,\n",
       "        0.75      , 0.77777778, 0.75      , 0.75      , 0.75      ,\n",
       "        0.76388889, 0.77777778, 0.79166667, 0.75      , 0.80555556,\n",
       "        0.77777778]),\n",
       " 'split3_test_score': array([0.63888889, 0.63888889, 0.72222222, 0.72222222, 0.75      ,\n",
       "        0.76388889, 0.77777778, 0.79166667, 0.77777778, 0.79166667,\n",
       "        0.76388889, 0.77777778, 0.76388889, 0.76388889, 0.76388889,\n",
       "        0.75      ]),\n",
       " 'split4_test_score': array([0.65277778, 0.63888889, 0.68055556, 0.72222222, 0.68055556,\n",
       "        0.73611111, 0.70833333, 0.77777778, 0.75      , 0.76388889,\n",
       "        0.75      , 0.73611111, 0.77777778, 0.79166667, 0.75      ,\n",
       "        0.76388889]),\n",
       " 'split5_test_score': array([0.66197183, 0.64788732, 0.70422535, 0.73239437, 0.70422535,\n",
       "        0.76056338, 0.76056338, 0.8028169 , 0.78873239, 0.77464789,\n",
       "        0.78873239, 0.8028169 , 0.78873239, 0.8028169 , 0.78873239,\n",
       "        0.77464789]),\n",
       " 'split6_test_score': array([0.77464789, 0.77464789, 0.77464789, 0.77464789, 0.76056338,\n",
       "        0.77464789, 0.77464789, 0.77464789, 0.77464789, 0.77464789,\n",
       "        0.77464789, 0.77464789, 0.78873239, 0.77464789, 0.78873239,\n",
       "        0.77464789]),\n",
       " 'mean_test_score': array([0.67150123, 0.66948916, 0.73507713, 0.7629108 , 0.73306506,\n",
       "        0.76296669, 0.76098256, 0.7828918 , 0.76897496, 0.77688352,\n",
       "        0.77095909, 0.77892354, 0.77892354, 0.78090767, 0.77892354,\n",
       "        0.7748994 ]),\n",
       " 'std_test_score': array([0.05909164, 0.06864305, 0.0314666 , 0.034306  , 0.02828577,\n",
       "        0.01449715, 0.02368156, 0.01768693, 0.01375024, 0.0166605 ,\n",
       "        0.01172144, 0.01981874, 0.01075388, 0.01736742, 0.01676275,\n",
       "        0.01368996]),\n",
       " 'rank_test_score': array([15, 16, 13, 11, 14, 10, 12,  1,  9,  6,  8,  3,  4,  2,  4,  7],\n",
       "       dtype=int32)}"
      ]
     },
     "execution_count": 40,
     "metadata": {},
     "output_type": "execute_result"
    }
   ],
   "source": [
    "grid.cv_results_"
   ]
  },
  {
   "cell_type": "code",
   "execution_count": 43,
   "id": "1b90b955",
   "metadata": {},
   "outputs": [
    {
     "data": {
      "text/plain": [
       "2.0    0.784861\n",
       "1.0    0.117530\n",
       "3.0    0.083665\n",
       "4.0    0.013944\n",
       "Name: price_level, dtype: float64"
      ]
     },
     "execution_count": 43,
     "metadata": {},
     "output_type": "execute_result"
    }
   ],
   "source": [
    "y.value_counts(normalize=True)"
   ]
  },
  {
   "cell_type": "code",
   "execution_count": 56,
   "id": "0ffaf5d9",
   "metadata": {},
   "outputs": [],
   "source": [
    "from sklearn.model_selection import train_test_split"
   ]
  },
  {
   "cell_type": "code",
   "execution_count": 59,
   "id": "f9236510",
   "metadata": {},
   "outputs": [],
   "source": [
    "X_train, X_test, y_train, y_test = train_test_split(X,y)"
   ]
  },
  {
   "cell_type": "code",
   "execution_count": 61,
   "id": "bb7d017a",
   "metadata": {},
   "outputs": [],
   "source": [
    "knn2 = KNeighborsClassifier(n_neighbors=6, p=1)"
   ]
  },
  {
   "cell_type": "code",
   "execution_count": 73,
   "id": "535b2bb7",
   "metadata": {},
   "outputs": [
    {
     "data": {
      "text/plain": [
       "0.753968253968254"
      ]
     },
     "execution_count": 73,
     "metadata": {},
     "output_type": "execute_result"
    }
   ],
   "source": [
    "knn2.score(X_test,y_test)"
   ]
  },
  {
   "cell_type": "code",
   "execution_count": 63,
   "id": "1680a0f0",
   "metadata": {},
   "outputs": [
    {
     "data": {
      "text/plain": [
       "KNeighborsClassifier(algorithm='auto', leaf_size=30, metric='minkowski',\n",
       "                     metric_params=None, n_jobs=None, n_neighbors=6, p=1,\n",
       "                     weights='uniform')"
      ]
     },
     "execution_count": 63,
     "metadata": {},
     "output_type": "execute_result"
    }
   ],
   "source": [
    "knn2.fit(X_train,y_train)"
   ]
  },
  {
   "cell_type": "code",
   "execution_count": 64,
   "id": "9c37baea",
   "metadata": {},
   "outputs": [],
   "source": [
    "prediction = knn2.predict(X_test)"
   ]
  },
  {
   "cell_type": "code",
   "execution_count": 66,
   "id": "b8f8eb9e",
   "metadata": {},
   "outputs": [
    {
     "data": {
      "text/plain": [
       "2.0    110\n",
       "1.0      9\n",
       "3.0      7\n",
       "dtype: int64"
      ]
     },
     "execution_count": 66,
     "metadata": {},
     "output_type": "execute_result"
    }
   ],
   "source": [
    "pd.Series(prediction).value_counts()"
   ]
  },
  {
   "cell_type": "code",
   "execution_count": 68,
   "id": "f3af10d6",
   "metadata": {},
   "outputs": [],
   "source": [
    "df_analise = pd.DataFrame({\"prediction\":prediction,\"valor_real\":y_test})"
   ]
  },
  {
   "cell_type": "code",
   "execution_count": 70,
   "id": "08d97602",
   "metadata": {},
   "outputs": [
    {
     "data": {
      "text/html": [
       "<div>\n",
       "<style scoped>\n",
       "    .dataframe tbody tr th:only-of-type {\n",
       "        vertical-align: middle;\n",
       "    }\n",
       "\n",
       "    .dataframe tbody tr th {\n",
       "        vertical-align: top;\n",
       "    }\n",
       "\n",
       "    .dataframe thead th {\n",
       "        text-align: right;\n",
       "    }\n",
       "</style>\n",
       "<table border=\"1\" class=\"dataframe\">\n",
       "  <thead>\n",
       "    <tr style=\"text-align: right;\">\n",
       "      <th></th>\n",
       "      <th>prediction</th>\n",
       "      <th>valor_real</th>\n",
       "    </tr>\n",
       "  </thead>\n",
       "  <tbody>\n",
       "    <tr>\n",
       "      <th>335</th>\n",
       "      <td>1.0</td>\n",
       "      <td>2.0</td>\n",
       "    </tr>\n",
       "    <tr>\n",
       "      <th>1137</th>\n",
       "      <td>1.0</td>\n",
       "      <td>2.0</td>\n",
       "    </tr>\n",
       "    <tr>\n",
       "      <th>806</th>\n",
       "      <td>3.0</td>\n",
       "      <td>2.0</td>\n",
       "    </tr>\n",
       "    <tr>\n",
       "      <th>867</th>\n",
       "      <td>2.0</td>\n",
       "      <td>1.0</td>\n",
       "    </tr>\n",
       "    <tr>\n",
       "      <th>958</th>\n",
       "      <td>2.0</td>\n",
       "      <td>1.0</td>\n",
       "    </tr>\n",
       "    <tr>\n",
       "      <th>756</th>\n",
       "      <td>2.0</td>\n",
       "      <td>1.0</td>\n",
       "    </tr>\n",
       "    <tr>\n",
       "      <th>1362</th>\n",
       "      <td>1.0</td>\n",
       "      <td>2.0</td>\n",
       "    </tr>\n",
       "    <tr>\n",
       "      <th>868</th>\n",
       "      <td>2.0</td>\n",
       "      <td>3.0</td>\n",
       "    </tr>\n",
       "    <tr>\n",
       "      <th>107</th>\n",
       "      <td>2.0</td>\n",
       "      <td>1.0</td>\n",
       "    </tr>\n",
       "    <tr>\n",
       "      <th>1612</th>\n",
       "      <td>2.0</td>\n",
       "      <td>1.0</td>\n",
       "    </tr>\n",
       "    <tr>\n",
       "      <th>994</th>\n",
       "      <td>2.0</td>\n",
       "      <td>1.0</td>\n",
       "    </tr>\n",
       "    <tr>\n",
       "      <th>1039</th>\n",
       "      <td>2.0</td>\n",
       "      <td>1.0</td>\n",
       "    </tr>\n",
       "    <tr>\n",
       "      <th>844</th>\n",
       "      <td>2.0</td>\n",
       "      <td>3.0</td>\n",
       "    </tr>\n",
       "    <tr>\n",
       "      <th>770</th>\n",
       "      <td>2.0</td>\n",
       "      <td>3.0</td>\n",
       "    </tr>\n",
       "    <tr>\n",
       "      <th>801</th>\n",
       "      <td>2.0</td>\n",
       "      <td>3.0</td>\n",
       "    </tr>\n",
       "    <tr>\n",
       "      <th>80</th>\n",
       "      <td>3.0</td>\n",
       "      <td>2.0</td>\n",
       "    </tr>\n",
       "    <tr>\n",
       "      <th>1181</th>\n",
       "      <td>3.0</td>\n",
       "      <td>2.0</td>\n",
       "    </tr>\n",
       "    <tr>\n",
       "      <th>10</th>\n",
       "      <td>1.0</td>\n",
       "      <td>2.0</td>\n",
       "    </tr>\n",
       "    <tr>\n",
       "      <th>1345</th>\n",
       "      <td>2.0</td>\n",
       "      <td>3.0</td>\n",
       "    </tr>\n",
       "    <tr>\n",
       "      <th>1235</th>\n",
       "      <td>3.0</td>\n",
       "      <td>2.0</td>\n",
       "    </tr>\n",
       "    <tr>\n",
       "      <th>1350</th>\n",
       "      <td>2.0</td>\n",
       "      <td>3.0</td>\n",
       "    </tr>\n",
       "    <tr>\n",
       "      <th>1455</th>\n",
       "      <td>2.0</td>\n",
       "      <td>3.0</td>\n",
       "    </tr>\n",
       "    <tr>\n",
       "      <th>1468</th>\n",
       "      <td>2.0</td>\n",
       "      <td>1.0</td>\n",
       "    </tr>\n",
       "    <tr>\n",
       "      <th>68</th>\n",
       "      <td>1.0</td>\n",
       "      <td>2.0</td>\n",
       "    </tr>\n",
       "    <tr>\n",
       "      <th>785</th>\n",
       "      <td>2.0</td>\n",
       "      <td>3.0</td>\n",
       "    </tr>\n",
       "    <tr>\n",
       "      <th>848</th>\n",
       "      <td>2.0</td>\n",
       "      <td>3.0</td>\n",
       "    </tr>\n",
       "    <tr>\n",
       "      <th>1279</th>\n",
       "      <td>3.0</td>\n",
       "      <td>4.0</td>\n",
       "    </tr>\n",
       "    <tr>\n",
       "      <th>1282</th>\n",
       "      <td>1.0</td>\n",
       "      <td>2.0</td>\n",
       "    </tr>\n",
       "    <tr>\n",
       "      <th>1380</th>\n",
       "      <td>3.0</td>\n",
       "      <td>2.0</td>\n",
       "    </tr>\n",
       "    <tr>\n",
       "      <th>252</th>\n",
       "      <td>2.0</td>\n",
       "      <td>1.0</td>\n",
       "    </tr>\n",
       "    <tr>\n",
       "      <th>328</th>\n",
       "      <td>2.0</td>\n",
       "      <td>3.0</td>\n",
       "    </tr>\n",
       "  </tbody>\n",
       "</table>\n",
       "</div>"
      ],
      "text/plain": [
       "      prediction  valor_real\n",
       "335          1.0         2.0\n",
       "1137         1.0         2.0\n",
       "806          3.0         2.0\n",
       "867          2.0         1.0\n",
       "958          2.0         1.0\n",
       "756          2.0         1.0\n",
       "1362         1.0         2.0\n",
       "868          2.0         3.0\n",
       "107          2.0         1.0\n",
       "1612         2.0         1.0\n",
       "994          2.0         1.0\n",
       "1039         2.0         1.0\n",
       "844          2.0         3.0\n",
       "770          2.0         3.0\n",
       "801          2.0         3.0\n",
       "80           3.0         2.0\n",
       "1181         3.0         2.0\n",
       "10           1.0         2.0\n",
       "1345         2.0         3.0\n",
       "1235         3.0         2.0\n",
       "1350         2.0         3.0\n",
       "1455         2.0         3.0\n",
       "1468         2.0         1.0\n",
       "68           1.0         2.0\n",
       "785          2.0         3.0\n",
       "848          2.0         3.0\n",
       "1279         3.0         4.0\n",
       "1282         1.0         2.0\n",
       "1380         3.0         2.0\n",
       "252          2.0         1.0\n",
       "328          2.0         3.0"
      ]
     },
     "execution_count": 70,
     "metadata": {},
     "output_type": "execute_result"
    }
   ],
   "source": [
    "df_analise[df_analise['prediction'] != df_analise['valor_real']]"
   ]
  },
  {
   "cell_type": "code",
   "execution_count": null,
   "id": "c168e795",
   "metadata": {},
   "outputs": [],
   "source": []
  }
 ],
 "metadata": {
  "kernelspec": {
   "display_name": "Python 3 (ipykernel)",
   "language": "python",
   "name": "python3"
  },
  "language_info": {
   "codemirror_mode": {
    "name": "ipython",
    "version": 3
   },
   "file_extension": ".py",
   "mimetype": "text/x-python",
   "name": "python",
   "nbconvert_exporter": "python",
   "pygments_lexer": "ipython3",
   "version": "3.10.4"
  },
  "toc": {
   "base_numbering": 1,
   "nav_menu": {},
   "number_sections": true,
   "sideBar": true,
   "skip_h1_title": false,
   "title_cell": "Table of Contents",
   "title_sidebar": "Contents",
   "toc_cell": false,
   "toc_position": {},
   "toc_section_display": true,
   "toc_window_display": false
  }
 },
 "nbformat": 4,
 "nbformat_minor": 5
}
