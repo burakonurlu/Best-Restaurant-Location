{
 "cells": [
  {
   "cell_type": "markdown",
   "id": "decee708",
   "metadata": {},
   "source": [
    "#### Importing"
   ]
  },
  {
   "cell_type": "code",
   "execution_count": 25,
   "id": "ba6a1f1a",
   "metadata": {},
   "outputs": [],
   "source": [
    "import pandas as pd\n",
    "import numpy as np\n",
    "from tensorflow.keras        import Sequential, layers\n",
    "from sklearn.model_selection import train_test_split\n",
    "from sklearn.preprocessing   import MinMaxScaler"
   ]
  },
  {
   "cell_type": "markdown",
   "id": "05db72fb",
   "metadata": {},
   "source": [
    "### Data Processing"
   ]
  },
  {
   "cell_type": "code",
   "execution_count": 4,
   "id": "bed2b534",
   "metadata": {},
   "outputs": [
    {
     "data": {
      "text/plain": [
       "Index(['place_id', 'tripadvisor_id', 'fsq_id', 'name', 'business_status',\n",
       "       'types', 'price_level', 'ta_price_level', 'price_level_combined',\n",
       "       'rating', 'user_ratings_total', 'ta_rating', 'ta_user_ratings_total',\n",
       "       'combined_rating', 'geometry.location.lat', 'geometry.location.lng',\n",
       "       'formatted_address', 'zip_code', 'city', 'international_phone_number',\n",
       "       'website', 'google_category', 'ta_4sq_cuisine1', 'ta_4sq_cuisine2',\n",
       "       'ta_4sq_cuisine3', 'ta_4sq_cuisine4', 'ta_4sq_cuisine5',\n",
       "       'main_category_1', 'main_category_2', 'main_category_3',\n",
       "       'main_category_4', 'combined_main_category', 'sub_category',\n",
       "       'neighboorhood_area_km2', 'resident_population_total',\n",
       "       'population_age_0_14', 'population_15_19', 'population_20_24',\n",
       "       'population_25_34', 'population_35_44', 'population_45_54',\n",
       "       'population_54_64', 'population_65+', 'resident_per_km2',\n",
       "       'brut_income_annual_per_person', 'district', 'district_cluster'],\n",
       "      dtype='object')"
      ]
     },
     "execution_count": 4,
     "metadata": {},
     "output_type": "execute_result"
    }
   ],
   "source": [
    "df = pd.read_csv('../data/data_combined_v1.03.csv', encoding='utf-8-sig')\n",
    "df.columns"
   ]
  },
  {
   "cell_type": "code",
   "execution_count": 5,
   "id": "00d51d8e",
   "metadata": {
    "scrolled": true
   },
   "outputs": [
    {
     "data": {
      "text/plain": [
       "google_category     \n",
       "Restaurant              758\n",
       "Italian restaurant       84\n",
       "Thai restaurant          34\n",
       "Fast food restaurant     28\n",
       "Cafe                     28\n",
       "                       ... \n",
       "Food court                1\n",
       "Fondue restaurant         1\n",
       "Fish store                1\n",
       "Lebanese                  1\n",
       "0                         1\n",
       "Length: 143, dtype: int64"
      ]
     },
     "execution_count": 5,
     "metadata": {},
     "output_type": "execute_result"
    }
   ],
   "source": [
    "df[['google_category']].value_counts()"
   ]
  },
  {
   "cell_type": "code",
   "execution_count": 6,
   "id": "e23557b1",
   "metadata": {
    "scrolled": true
   },
   "outputs": [
    {
     "data": {
      "text/plain": [
       "place_id                            0\n",
       "tripadvisor_id                    624\n",
       "fsq_id                            909\n",
       "name                                0\n",
       "business_status                     0\n",
       "types                               0\n",
       "price_level                       995\n",
       "ta_price_level                    785\n",
       "price_level_combined              194\n",
       "rating                            219\n",
       "user_ratings_total                219\n",
       "ta_rating                         685\n",
       "ta_user_ratings_total             685\n",
       "combined_rating                   196\n",
       "geometry.location.lat               0\n",
       "geometry.location.lng               0\n",
       "formatted_address                   0\n",
       "zip_code                            0\n",
       "city                                0\n",
       "international_phone_number        214\n",
       "website                           934\n",
       "google_category                     0\n",
       "ta_4sq_cuisine1                     5\n",
       "ta_4sq_cuisine2                    65\n",
       "ta_4sq_cuisine3                   155\n",
       "ta_4sq_cuisine4                   193\n",
       "ta_4sq_cuisine5                   122\n",
       "main_category_1                     0\n",
       "main_category_2                  1276\n",
       "main_category_3                  1484\n",
       "main_category_4                  1561\n",
       "combined_main_category              0\n",
       "sub_category                     1260\n",
       "neighboorhood_area_km2              0\n",
       "resident_population_total           0\n",
       "population_age_0_14                 0\n",
       "population_15_19                    0\n",
       "population_20_24                    0\n",
       "population_25_34                    0\n",
       "population_35_44                    0\n",
       "population_45_54                    0\n",
       "population_54_64                    0\n",
       "population_65+                      0\n",
       "resident_per_km2                    0\n",
       "brut_income_annual_per_person       0\n",
       "district                            0\n",
       "district_cluster                    0\n",
       "dtype: int64"
      ]
     },
     "execution_count": 6,
     "metadata": {},
     "output_type": "execute_result"
    }
   ],
   "source": [
    "df.isna().sum()"
   ]
  },
  {
   "cell_type": "code",
   "execution_count": 7,
   "id": "9f577e5e",
   "metadata": {},
   "outputs": [],
   "source": [
    "feat = [\n",
    "    'price_level_combined','geometry.location.lat',\n",
    "    'geometry.location.lng',#'google_category',\n",
    "    'neighboorhood_area_km2', 'resident_population_total',\n",
    "    'population_age_0_14', 'population_15_19', 'population_20_24',\n",
    "    'population_25_34', 'population_35_44', 'population_45_54',\n",
    "    'population_54_64', 'population_65+', 'resident_per_km2',\n",
    "    'brut_income_annual_per_person'\n",
    "]\n",
    "\n",
    "targ = ['combined_rating']"
   ]
  },
  {
   "cell_type": "code",
   "execution_count": 10,
   "id": "678a29a7",
   "metadata": {},
   "outputs": [],
   "source": [
    "df1 = df[feat+targ].copy()"
   ]
  },
  {
   "cell_type": "code",
   "execution_count": 14,
   "id": "fe67fd3b",
   "metadata": {},
   "outputs": [],
   "source": [
    "df2 = df1.loc[df1['combined_rating'] > 0]"
   ]
  },
  {
   "cell_type": "code",
   "execution_count": 23,
   "id": "68d68b80",
   "metadata": {},
   "outputs": [],
   "source": [
    "X = df2[feat]\n",
    "y = df2[targ]"
   ]
  },
  {
   "cell_type": "code",
   "execution_count": 24,
   "id": "ae34f852",
   "metadata": {},
   "outputs": [],
   "source": [
    "X_train, X_test, y_train, y_test = train_test_split(X,y)"
   ]
  },
  {
   "cell_type": "code",
   "execution_count": 26,
   "id": "8a08cf17",
   "metadata": {},
   "outputs": [],
   "source": [
    "scaler = MinMaxScaler()"
   ]
  },
  {
   "cell_type": "code",
   "execution_count": 29,
   "id": "67398bd0",
   "metadata": {},
   "outputs": [],
   "source": [
    "X_scaled = scaler.fit_transform(X_train)"
   ]
  },
  {
   "cell_type": "markdown",
   "id": "cf750c72",
   "metadata": {},
   "source": [
    "### Neural Network"
   ]
  },
  {
   "cell_type": "code",
   "execution_count": 58,
   "id": "c0c9bf77",
   "metadata": {},
   "outputs": [],
   "source": [
    "model = Sequential()\n",
    "model.add(layers.Dense(15, activation='relu', input_dim=15))\n",
    "model.add(layers.Dense(3, activation='relu'))\n",
    "model.add(layers.Dense(3, activation='relu'))\n",
    "model.add(layers.Dense(1, activation='linear'))\n",
    "model.compile(loss='mse', optimizer='adam')\n",
    "#model.compile(loss='binary_crossentropy',optimizer='adam',metrics = 'accuracy')"
   ]
  },
  {
   "cell_type": "code",
   "execution_count": 59,
   "id": "3a05128e",
   "metadata": {
    "scrolled": true
   },
   "outputs": [
    {
     "name": "stdout",
     "output_type": "stream",
     "text": [
      "Model: \"sequential_10\"\n",
      "_________________________________________________________________\n",
      " Layer (type)                Output Shape              Param #   \n",
      "=================================================================\n",
      " dense_36 (Dense)            (None, 15)                240       \n",
      "                                                                 \n",
      " dense_37 (Dense)            (None, 3)                 48        \n",
      "                                                                 \n",
      " dense_38 (Dense)            (None, 3)                 12        \n",
      "                                                                 \n",
      " dense_39 (Dense)            (None, 1)                 4         \n",
      "                                                                 \n",
      "=================================================================\n",
      "Total params: 304\n",
      "Trainable params: 304\n",
      "Non-trainable params: 0\n",
      "_________________________________________________________________\n"
     ]
    }
   ],
   "source": [
    "model.summary()"
   ]
  },
  {
   "cell_type": "code",
   "execution_count": 60,
   "id": "f1346681",
   "metadata": {
    "scrolled": true
   },
   "outputs": [
    {
     "name": "stdout",
     "output_type": "stream",
     "text": [
      "Epoch 1/100\n",
      "33/33 [==============================] - 0s 1ms/step - loss: 16.2558\n",
      "Epoch 2/100\n",
      "33/33 [==============================] - 0s 1ms/step - loss: 11.8849\n",
      "Epoch 3/100\n",
      "33/33 [==============================] - 0s 1ms/step - loss: 5.2848\n",
      "Epoch 4/100\n",
      "33/33 [==============================] - 0s 1ms/step - loss: 1.7302\n",
      "Epoch 5/100\n",
      "33/33 [==============================] - 0s 1ms/step - loss: 1.2909\n",
      "Epoch 6/100\n",
      "33/33 [==============================] - 0s 1ms/step - loss: 1.0005\n",
      "Epoch 7/100\n",
      "33/33 [==============================] - 0s 1ms/step - loss: 0.7547\n",
      "Epoch 8/100\n",
      "33/33 [==============================] - 0s 1ms/step - loss: 0.5667\n",
      "Epoch 9/100\n",
      "33/33 [==============================] - 0s 1ms/step - loss: 0.4542\n",
      "Epoch 10/100\n",
      "33/33 [==============================] - 0s 1ms/step - loss: 0.3947\n",
      "Epoch 11/100\n",
      "33/33 [==============================] - 0s 1ms/step - loss: 0.3744\n",
      "Epoch 12/100\n",
      "33/33 [==============================] - 0s 1ms/step - loss: 0.3584\n",
      "Epoch 13/100\n",
      "33/33 [==============================] - 0s 1ms/step - loss: 0.3487\n",
      "Epoch 14/100\n",
      "33/33 [==============================] - 0s 1ms/step - loss: 0.3419\n",
      "Epoch 15/100\n",
      "33/33 [==============================] - 0s 1ms/step - loss: 0.3347\n",
      "Epoch 16/100\n",
      "33/33 [==============================] - 0s 1ms/step - loss: 0.3286\n",
      "Epoch 17/100\n",
      "33/33 [==============================] - 0s 1ms/step - loss: 0.3206\n",
      "Epoch 18/100\n",
      "33/33 [==============================] - 0s 1ms/step - loss: 0.3175\n",
      "Epoch 19/100\n",
      "33/33 [==============================] - 0s 1ms/step - loss: 0.3114\n",
      "Epoch 20/100\n",
      "33/33 [==============================] - 0s 1ms/step - loss: 0.3071\n",
      "Epoch 21/100\n",
      "33/33 [==============================] - 0s 1ms/step - loss: 0.3016\n",
      "Epoch 22/100\n",
      "33/33 [==============================] - 0s 1ms/step - loss: 0.3001\n",
      "Epoch 23/100\n",
      "33/33 [==============================] - 0s 1ms/step - loss: 0.2954\n",
      "Epoch 24/100\n",
      "33/33 [==============================] - 0s 1ms/step - loss: 0.2916\n",
      "Epoch 25/100\n",
      "33/33 [==============================] - 0s 1ms/step - loss: 0.2896\n",
      "Epoch 26/100\n",
      "33/33 [==============================] - 0s 1ms/step - loss: 0.2878\n",
      "Epoch 27/100\n",
      "33/33 [==============================] - 0s 1ms/step - loss: 0.2852\n",
      "Epoch 28/100\n",
      "33/33 [==============================] - 0s 1ms/step - loss: 0.2841\n",
      "Epoch 29/100\n",
      "33/33 [==============================] - 0s 1ms/step - loss: 0.2799\n",
      "Epoch 30/100\n",
      "33/33 [==============================] - 0s 1ms/step - loss: 0.2774\n",
      "Epoch 31/100\n",
      "33/33 [==============================] - 0s 1ms/step - loss: 0.2776\n",
      "Epoch 32/100\n",
      "33/33 [==============================] - 0s 1ms/step - loss: 0.2760\n",
      "Epoch 33/100\n",
      "33/33 [==============================] - 0s 1ms/step - loss: 0.2718\n",
      "Epoch 34/100\n",
      "33/33 [==============================] - 0s 1ms/step - loss: 0.2716\n",
      "Epoch 35/100\n",
      "33/33 [==============================] - 0s 1ms/step - loss: 0.2703\n",
      "Epoch 36/100\n",
      "33/33 [==============================] - 0s 1ms/step - loss: 0.2660\n",
      "Epoch 37/100\n",
      "33/33 [==============================] - 0s 1ms/step - loss: 0.2667\n",
      "Epoch 38/100\n",
      "33/33 [==============================] - 0s 1ms/step - loss: 0.2636\n",
      "Epoch 39/100\n",
      "33/33 [==============================] - 0s 1ms/step - loss: 0.2624\n",
      "Epoch 40/100\n",
      "33/33 [==============================] - 0s 1ms/step - loss: 0.2603\n",
      "Epoch 41/100\n",
      "33/33 [==============================] - 0s 1ms/step - loss: 0.2574\n",
      "Epoch 42/100\n",
      "33/33 [==============================] - 0s 1ms/step - loss: 0.2569\n",
      "Epoch 43/100\n",
      "33/33 [==============================] - 0s 1ms/step - loss: 0.2539\n",
      "Epoch 44/100\n",
      "33/33 [==============================] - 0s 1ms/step - loss: 0.2523\n",
      "Epoch 45/100\n",
      "33/33 [==============================] - 0s 1ms/step - loss: 0.2513\n",
      "Epoch 46/100\n",
      "33/33 [==============================] - 0s 1ms/step - loss: 0.2498\n",
      "Epoch 47/100\n",
      "33/33 [==============================] - 0s 1ms/step - loss: 0.2487\n",
      "Epoch 48/100\n",
      "33/33 [==============================] - 0s 1ms/step - loss: 0.2532\n",
      "Epoch 49/100\n",
      "33/33 [==============================] - 0s 1ms/step - loss: 0.2492\n",
      "Epoch 50/100\n",
      "33/33 [==============================] - 0s 1ms/step - loss: 0.2467\n",
      "Epoch 51/100\n",
      "33/33 [==============================] - 0s 1ms/step - loss: 0.2470\n",
      "Epoch 52/100\n",
      "33/33 [==============================] - 0s 997us/step - loss: 0.2469\n",
      "Epoch 53/100\n",
      "33/33 [==============================] - 0s 1ms/step - loss: 0.2458\n",
      "Epoch 54/100\n",
      "33/33 [==============================] - 0s 1ms/step - loss: 0.2459\n",
      "Epoch 55/100\n",
      "33/33 [==============================] - 0s 1ms/step - loss: 0.2486\n",
      "Epoch 56/100\n",
      "33/33 [==============================] - 0s 1ms/step - loss: 0.2458\n",
      "Epoch 57/100\n",
      "33/33 [==============================] - 0s 1ms/step - loss: 0.2451\n",
      "Epoch 58/100\n",
      "33/33 [==============================] - 0s 1ms/step - loss: 0.2460\n",
      "Epoch 59/100\n",
      "33/33 [==============================] - 0s 1ms/step - loss: 0.2454\n",
      "Epoch 60/100\n",
      "33/33 [==============================] - 0s 1ms/step - loss: 0.2453\n",
      "Epoch 61/100\n",
      "33/33 [==============================] - 0s 1ms/step - loss: 0.2524\n",
      "Epoch 62/100\n",
      "33/33 [==============================] - 0s 1ms/step - loss: 0.2445\n",
      "Epoch 63/100\n",
      "33/33 [==============================] - 0s 1ms/step - loss: 0.2433\n",
      "Epoch 64/100\n",
      "33/33 [==============================] - 0s 1ms/step - loss: 0.2438\n",
      "Epoch 65/100\n",
      "33/33 [==============================] - 0s 1ms/step - loss: 0.2442\n",
      "Epoch 66/100\n",
      "33/33 [==============================] - 0s 1ms/step - loss: 0.2428\n",
      "Epoch 67/100\n",
      "33/33 [==============================] - 0s 1ms/step - loss: 0.2413\n",
      "Epoch 68/100\n",
      "33/33 [==============================] - 0s 1ms/step - loss: 0.2434\n",
      "Epoch 69/100\n",
      "33/33 [==============================] - 0s 1ms/step - loss: 0.2422\n",
      "Epoch 70/100\n",
      "33/33 [==============================] - 0s 1ms/step - loss: 0.2424\n",
      "Epoch 71/100\n",
      "33/33 [==============================] - 0s 1ms/step - loss: 0.2481\n",
      "Epoch 72/100\n",
      "33/33 [==============================] - 0s 1ms/step - loss: 0.2392\n",
      "Epoch 73/100\n",
      "33/33 [==============================] - 0s 1ms/step - loss: 0.2404\n",
      "Epoch 74/100\n",
      "33/33 [==============================] - 0s 1ms/step - loss: 0.2399\n",
      "Epoch 75/100\n",
      "33/33 [==============================] - 0s 1ms/step - loss: 0.2425\n",
      "Epoch 76/100\n",
      "33/33 [==============================] - 0s 1ms/step - loss: 0.2392\n",
      "Epoch 77/100\n",
      "33/33 [==============================] - 0s 1ms/step - loss: 0.2421\n",
      "Epoch 78/100\n",
      "33/33 [==============================] - 0s 1ms/step - loss: 0.2407\n",
      "Epoch 79/100\n",
      "33/33 [==============================] - 0s 1ms/step - loss: 0.2396\n",
      "Epoch 80/100\n",
      "33/33 [==============================] - 0s 1ms/step - loss: 0.2389\n",
      "Epoch 81/100\n",
      "33/33 [==============================] - 0s 1ms/step - loss: 0.2420\n",
      "Epoch 82/100\n",
      "33/33 [==============================] - 0s 1ms/step - loss: 0.2393\n",
      "Epoch 83/100\n",
      "33/33 [==============================] - 0s 1ms/step - loss: 0.2398\n",
      "Epoch 84/100\n",
      "33/33 [==============================] - 0s 1ms/step - loss: 0.2373\n",
      "Epoch 85/100\n",
      "33/33 [==============================] - 0s 1ms/step - loss: 0.2409\n",
      "Epoch 86/100\n",
      "33/33 [==============================] - 0s 1ms/step - loss: 0.2373\n",
      "Epoch 87/100\n",
      "33/33 [==============================] - 0s 1ms/step - loss: 0.2373\n",
      "Epoch 88/100\n",
      "33/33 [==============================] - 0s 1ms/step - loss: 0.2406\n",
      "Epoch 89/100\n",
      "33/33 [==============================] - 0s 1ms/step - loss: 0.2366\n",
      "Epoch 90/100\n",
      "33/33 [==============================] - 0s 1ms/step - loss: 0.2393\n",
      "Epoch 91/100\n",
      "33/33 [==============================] - 0s 1ms/step - loss: 0.2381\n",
      "Epoch 92/100\n",
      "33/33 [==============================] - 0s 1ms/step - loss: 0.2391\n",
      "Epoch 93/100\n",
      "33/33 [==============================] - 0s 1ms/step - loss: 0.2426\n",
      "Epoch 94/100\n",
      "33/33 [==============================] - 0s 1ms/step - loss: 0.2410\n",
      "Epoch 95/100\n",
      "33/33 [==============================] - 0s 1ms/step - loss: 0.2382\n",
      "Epoch 96/100\n",
      "33/33 [==============================] - 0s 1ms/step - loss: 0.2421\n",
      "Epoch 97/100\n",
      "33/33 [==============================] - 0s 1ms/step - loss: 0.2355\n",
      "Epoch 98/100\n",
      "33/33 [==============================] - 0s 1ms/step - loss: 0.2383\n",
      "Epoch 99/100\n",
      "33/33 [==============================] - 0s 1ms/step - loss: 0.2364\n",
      "Epoch 100/100\n",
      "33/33 [==============================] - 0s 1ms/step - loss: 0.2369\n"
     ]
    },
    {
     "data": {
      "text/plain": [
       "<keras.callbacks.History at 0x7f59dc906d70>"
      ]
     },
     "execution_count": 60,
     "metadata": {},
     "output_type": "execute_result"
    }
   ],
   "source": [
    "model.fit(X_scaled,y_train,batch_size=32, epochs=100)"
   ]
  },
  {
   "cell_type": "code",
   "execution_count": 61,
   "id": "13d4911f",
   "metadata": {},
   "outputs": [
    {
     "name": "stdout",
     "output_type": "stream",
     "text": [
      "11/11 [==============================] - 0s 1ms/step - loss: 0.1976\n"
     ]
    },
    {
     "data": {
      "text/plain": [
       "0.19763094186782837"
      ]
     },
     "execution_count": 61,
     "metadata": {},
     "output_type": "execute_result"
    }
   ],
   "source": [
    "model.evaluate(scaler.transform(X_test), y_test)"
   ]
  },
  {
   "cell_type": "code",
   "execution_count": 71,
   "id": "50abe9a5",
   "metadata": {},
   "outputs": [
    {
     "name": "stdout",
     "output_type": "stream",
     "text": [
      "11/11 [==============================] - 0s 768us/step\n"
     ]
    },
    {
     "data": {
      "text/html": [
       "<div>\n",
       "<style scoped>\n",
       "    .dataframe tbody tr th:only-of-type {\n",
       "        vertical-align: middle;\n",
       "    }\n",
       "\n",
       "    .dataframe tbody tr th {\n",
       "        vertical-align: top;\n",
       "    }\n",
       "\n",
       "    .dataframe thead th {\n",
       "        text-align: right;\n",
       "    }\n",
       "</style>\n",
       "<table border=\"1\" class=\"dataframe\">\n",
       "  <thead>\n",
       "    <tr style=\"text-align: right;\">\n",
       "      <th></th>\n",
       "      <th>0</th>\n",
       "    </tr>\n",
       "  </thead>\n",
       "  <tbody>\n",
       "    <tr>\n",
       "      <th>0</th>\n",
       "      <td>4.157506</td>\n",
       "    </tr>\n",
       "    <tr>\n",
       "      <th>1</th>\n",
       "      <td>4.178754</td>\n",
       "    </tr>\n",
       "    <tr>\n",
       "      <th>2</th>\n",
       "      <td>4.588519</td>\n",
       "    </tr>\n",
       "    <tr>\n",
       "      <th>3</th>\n",
       "      <td>4.343808</td>\n",
       "    </tr>\n",
       "    <tr>\n",
       "      <th>4</th>\n",
       "      <td>4.421766</td>\n",
       "    </tr>\n",
       "    <tr>\n",
       "      <th>...</th>\n",
       "      <td>...</td>\n",
       "    </tr>\n",
       "    <tr>\n",
       "      <th>339</th>\n",
       "      <td>4.438890</td>\n",
       "    </tr>\n",
       "    <tr>\n",
       "      <th>340</th>\n",
       "      <td>4.496354</td>\n",
       "    </tr>\n",
       "    <tr>\n",
       "      <th>341</th>\n",
       "      <td>4.273372</td>\n",
       "    </tr>\n",
       "    <tr>\n",
       "      <th>342</th>\n",
       "      <td>4.368743</td>\n",
       "    </tr>\n",
       "    <tr>\n",
       "      <th>343</th>\n",
       "      <td>4.335570</td>\n",
       "    </tr>\n",
       "  </tbody>\n",
       "</table>\n",
       "<p>344 rows × 1 columns</p>\n",
       "</div>"
      ],
      "text/plain": [
       "            0\n",
       "0    4.157506\n",
       "1    4.178754\n",
       "2    4.588519\n",
       "3    4.343808\n",
       "4    4.421766\n",
       "..        ...\n",
       "339  4.438890\n",
       "340  4.496354\n",
       "341  4.273372\n",
       "342  4.368743\n",
       "343  4.335570\n",
       "\n",
       "[344 rows x 1 columns]"
      ]
     },
     "execution_count": 71,
     "metadata": {},
     "output_type": "execute_result"
    }
   ],
   "source": [
    "pd.DataFrame(model.predict(scaler.transform(X_test)))"
   ]
  },
  {
   "cell_type": "code",
   "execution_count": 73,
   "id": "9b147930",
   "metadata": {},
   "outputs": [
    {
     "name": "stdout",
     "output_type": "stream",
     "text": [
      "11/11 [==============================] - 0s 1ms/step\n"
     ]
    },
    {
     "ename": "TypeError",
     "evalue": "DataFrame.merge() got an unexpected keyword argument 'axis'",
     "output_type": "error",
     "traceback": [
      "\u001b[0;31m---------------------------------------------------------------------------\u001b[0m",
      "\u001b[0;31mTypeError\u001b[0m                                 Traceback (most recent call last)",
      "Input \u001b[0;32mIn [73]\u001b[0m, in \u001b[0;36m<cell line: 1>\u001b[0;34m()\u001b[0m\n\u001b[0;32m----> 1\u001b[0m \u001b[43my_test\u001b[49m\u001b[38;5;241;43m.\u001b[39;49m\u001b[43mmerge\u001b[49m\u001b[43m(\u001b[49m\u001b[43mpd\u001b[49m\u001b[38;5;241;43m.\u001b[39;49m\u001b[43mDataFrame\u001b[49m\u001b[43m(\u001b[49m\u001b[43mmodel\u001b[49m\u001b[38;5;241;43m.\u001b[39;49m\u001b[43mpredict\u001b[49m\u001b[43m(\u001b[49m\u001b[43mscaler\u001b[49m\u001b[38;5;241;43m.\u001b[39;49m\u001b[43mtransform\u001b[49m\u001b[43m(\u001b[49m\u001b[43mX_test\u001b[49m\u001b[43m)\u001b[49m\u001b[43m)\u001b[49m\u001b[43m)\u001b[49m\u001b[43m,\u001b[49m\u001b[43m \u001b[49m\u001b[43maxis\u001b[49m\u001b[38;5;241;43m=\u001b[39;49m\u001b[38;5;241;43m1\u001b[39;49m\u001b[43m)\u001b[49m\n",
      "\u001b[0;31mTypeError\u001b[0m: DataFrame.merge() got an unexpected keyword argument 'axis'"
     ]
    }
   ],
   "source": [
    "y_test.merge(pd.DataFrame(model.predict(scaler.transform(X_test))), axis=1)"
   ]
  },
  {
   "cell_type": "code",
   "execution_count": null,
   "id": "5f00dd86",
   "metadata": {},
   "outputs": [],
   "source": []
  }
 ],
 "metadata": {
  "kernelspec": {
   "display_name": "Python 3 (ipykernel)",
   "language": "python",
   "name": "python3"
  },
  "language_info": {
   "codemirror_mode": {
    "name": "ipython",
    "version": 3
   },
   "file_extension": ".py",
   "mimetype": "text/x-python",
   "name": "python",
   "nbconvert_exporter": "python",
   "pygments_lexer": "ipython3",
   "version": "3.10.4"
  },
  "toc": {
   "base_numbering": 1,
   "nav_menu": {},
   "number_sections": true,
   "sideBar": true,
   "skip_h1_title": false,
   "title_cell": "Table of Contents",
   "title_sidebar": "Contents",
   "toc_cell": false,
   "toc_position": {},
   "toc_section_display": true,
   "toc_window_display": false
  }
 },
 "nbformat": 4,
 "nbformat_minor": 5
}
