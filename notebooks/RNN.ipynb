{
 "cells": [
  {
   "cell_type": "markdown",
   "id": "decee708",
   "metadata": {},
   "source": [
    "#### Importing"
   ]
  },
  {
   "cell_type": "code",
   "execution_count": 1,
   "id": "ba6a1f1a",
   "metadata": {},
   "outputs": [
    {
     "name": "stderr",
     "output_type": "stream",
     "text": [
      "2022-09-06 19:31:39.077292: W tensorflow/stream_executor/platform/default/dso_loader.cc:64] Could not load dynamic library 'libcudart.so.11.0'; dlerror: libcudart.so.11.0: cannot open shared object file: No such file or directory\n",
      "2022-09-06 19:31:39.077331: I tensorflow/stream_executor/cuda/cudart_stub.cc:29] Ignore above cudart dlerror if you do not have a GPU set up on your machine.\n"
     ]
    }
   ],
   "source": [
    "import pandas as pd\n",
    "import numpy as np\n",
    "from tensorflow.keras import Sequential, layers"
   ]
  },
  {
   "cell_type": "markdown",
   "id": "da8254c2",
   "metadata": {},
   "source": [
    "### Neural Network"
   ]
  },
  {
   "cell_type": "code",
   "execution_count": 3,
   "id": "d99f4b7e",
   "metadata": {},
   "outputs": [],
   "source": [
    "model = Sequential()\n",
    "model.add(layers.Dense(10, activation='relu', input_dim=100))\n",
    "model.add(layers.Dense(5, activation='relu'))\n",
    "model.add(layers.Dense(3, activation='relu'))\n",
    "model.add(layers.Dense(1, activation='linear'))"
   ]
  },
  {
   "cell_type": "code",
   "execution_count": 5,
   "id": "2c9fc304",
   "metadata": {},
   "outputs": [
    {
     "name": "stdout",
     "output_type": "stream",
     "text": [
      "Model: \"sequential_1\"\n",
      "_________________________________________________________________\n",
      " Layer (type)                Output Shape              Param #   \n",
      "=================================================================\n",
      " dense_2 (Dense)             (None, 10)                1010      \n",
      "                                                                 \n",
      " dense_3 (Dense)             (None, 5)                 55        \n",
      "                                                                 \n",
      " dense_4 (Dense)             (None, 3)                 18        \n",
      "                                                                 \n",
      " dense_5 (Dense)             (None, 1)                 4         \n",
      "                                                                 \n",
      "=================================================================\n",
      "Total params: 1,087\n",
      "Trainable params: 1,087\n",
      "Non-trainable params: 0\n",
      "_________________________________________________________________\n"
     ]
    }
   ],
   "source": [
    "model.summary()"
   ]
  },
  {
   "cell_type": "code",
   "execution_count": 7,
   "id": "bed2b534",
   "metadata": {},
   "outputs": [
    {
     "data": {
      "text/plain": [
       "Index(['place_id', 'tripadvisor_id', 'fsq_id', 'name', 'business_status',\n",
       "       'types', 'price_level', 'ta_price_level', 'price_level_combined',\n",
       "       'rating', 'user_ratings_total', 'ta_rating', 'ta_user_ratings_total',\n",
       "       'combined_rating', 'geometry.location.lat', 'geometry.location.lng',\n",
       "       'formatted_address', 'zip_code', 'city', 'international_phone_number',\n",
       "       'website', 'google_category', 'ta_4sq_cuisine1', 'ta_4sq_cuisine2',\n",
       "       'ta_4sq_cuisine3', 'ta_4sq_cuisine4', 'ta_4sq_cuisine5',\n",
       "       'main_category_1', 'main_category_2', 'main_category_3',\n",
       "       'main_category_4', 'combined_main_category', 'sub_category',\n",
       "       'neighboorhood_area_km2', 'resident_population_total',\n",
       "       'population_age_0_14', 'population_15_19', 'population_20_24',\n",
       "       'population_25_34', 'population_35_44', 'population_45_54',\n",
       "       'population_54_64', 'population_65+', 'resident_per_km2',\n",
       "       'brut_income_annual_per_person', 'district', 'district_cluster'],\n",
       "      dtype='object')"
      ]
     },
     "execution_count": 7,
     "metadata": {},
     "output_type": "execute_result"
    }
   ],
   "source": [
    "df = pd.read_csv('../data/data_combined_v1.03.csv', encoding='utf-8-sig')\n",
    "df.columns"
   ]
  },
  {
   "cell_type": "code",
   "execution_count": 18,
   "id": "00d51d8e",
   "metadata": {
    "scrolled": true
   },
   "outputs": [
    {
     "data": {
      "text/plain": [
       "google_category     \n",
       "Restaurant              758\n",
       "Italian restaurant       84\n",
       "Thai restaurant          34\n",
       "Fast food restaurant     28\n",
       "Cafe                     28\n",
       "                       ... \n",
       "Food court                1\n",
       "Fondue restaurant         1\n",
       "Fish store                1\n",
       "Lebanese                  1\n",
       "0                         1\n",
       "Length: 143, dtype: int64"
      ]
     },
     "execution_count": 18,
     "metadata": {},
     "output_type": "execute_result"
    }
   ],
   "source": [
    "df[['google_category']].value_counts()"
   ]
  },
  {
   "cell_type": "code",
   "execution_count": 8,
   "id": "e23557b1",
   "metadata": {},
   "outputs": [
    {
     "data": {
      "text/plain": [
       "place_id                            0\n",
       "tripadvisor_id                    624\n",
       "fsq_id                            909\n",
       "name                                0\n",
       "business_status                     0\n",
       "types                               0\n",
       "price_level                       995\n",
       "ta_price_level                    785\n",
       "price_level_combined              194\n",
       "rating                            219\n",
       "user_ratings_total                219\n",
       "ta_rating                         685\n",
       "ta_user_ratings_total             685\n",
       "combined_rating                   196\n",
       "geometry.location.lat               0\n",
       "geometry.location.lng               0\n",
       "formatted_address                   0\n",
       "zip_code                            0\n",
       "city                                0\n",
       "international_phone_number        214\n",
       "website                           934\n",
       "google_category                     0\n",
       "ta_4sq_cuisine1                     5\n",
       "ta_4sq_cuisine2                    65\n",
       "ta_4sq_cuisine3                   155\n",
       "ta_4sq_cuisine4                   193\n",
       "ta_4sq_cuisine5                   122\n",
       "main_category_1                     0\n",
       "main_category_2                  1276\n",
       "main_category_3                  1484\n",
       "main_category_4                  1561\n",
       "combined_main_category              0\n",
       "sub_category                     1260\n",
       "neighboorhood_area_km2              0\n",
       "resident_population_total           0\n",
       "population_age_0_14                 0\n",
       "population_15_19                    0\n",
       "population_20_24                    0\n",
       "population_25_34                    0\n",
       "population_35_44                    0\n",
       "population_45_54                    0\n",
       "population_54_64                    0\n",
       "population_65+                      0\n",
       "resident_per_km2                    0\n",
       "brut_income_annual_per_person       0\n",
       "district                            0\n",
       "district_cluster                    0\n",
       "dtype: int64"
      ]
     },
     "execution_count": 8,
     "metadata": {},
     "output_type": "execute_result"
    }
   ],
   "source": [
    "df.isna().sum()"
   ]
  },
  {
   "cell_type": "code",
   "execution_count": 19,
   "id": "9f577e5e",
   "metadata": {},
   "outputs": [],
   "source": [
    "feat = [\n",
    "    'price_level_combined','geometry.location.lat',\n",
    "    'geometry.location.lng','google_category',\n",
    "    'neighboorhood_area_km2', 'resident_population_total',\n",
    "    'population_age_0_14', 'population_15_19', 'population_20_24',\n",
    "    'population_25_34', 'population_35_44', 'population_45_54',\n",
    "    'population_54_64', 'population_65+', 'resident_per_km2',\n",
    "    'brut_income_annual_per_person'\n",
    "]\n",
    "\n",
    "targ = ['combined_rating']"
   ]
  },
  {
   "cell_type": "code",
   "execution_count": null,
   "id": "678a29a7",
   "metadata": {},
   "outputs": [],
   "source": []
  }
 ],
 "metadata": {
  "kernelspec": {
   "display_name": "Python 3 (ipykernel)",
   "language": "python",
   "name": "python3"
  },
  "language_info": {
   "codemirror_mode": {
    "name": "ipython",
    "version": 3
   },
   "file_extension": ".py",
   "mimetype": "text/x-python",
   "name": "python",
   "nbconvert_exporter": "python",
   "pygments_lexer": "ipython3",
   "version": "3.10.4"
  },
  "toc": {
   "base_numbering": 1,
   "nav_menu": {},
   "number_sections": true,
   "sideBar": true,
   "skip_h1_title": false,
   "title_cell": "Table of Contents",
   "title_sidebar": "Contents",
   "toc_cell": false,
   "toc_position": {},
   "toc_section_display": true,
   "toc_window_display": false
  }
 },
 "nbformat": 4,
 "nbformat_minor": 5
}
