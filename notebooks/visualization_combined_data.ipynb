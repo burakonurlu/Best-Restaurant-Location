{
 "cells": [
  {
   "cell_type": "code",
   "execution_count": 52,
   "id": "98988549",
   "metadata": {},
   "outputs": [],
   "source": [
    "import pandas as pd\n",
    "import numpy as np\n",
    "import folium\n",
    "from folium import plugins\n",
    "from folium.plugins import HeatMap\n",
    "import geopy\n",
    "from geopy.geocoders import Nominatim\n",
    "from geopy import Nominatim\n",
    "\n",
    "import matplotlib.pyplot as plt\n",
    "import matplotlib\n",
    "import seaborn as sns\n",
    "import matplotlib.colors as mcolors\n",
    "matplotlib.style.use('seaborn-whitegrid')"
   ]
  },
  {
   "cell_type": "code",
   "execution_count": 2,
   "id": "73d2cd50",
   "metadata": {},
   "outputs": [],
   "source": [
    "# reading data combined data \n",
    "df=pd.read_csv(\"../raw_data/raw_data_combined.csv\")"
   ]
  },
  {
   "cell_type": "code",
   "execution_count": 3,
   "id": "1fed1c9d",
   "metadata": {},
   "outputs": [
    {
     "data": {
      "text/html": [
       "<div>\n",
       "<style scoped>\n",
       "    .dataframe tbody tr th:only-of-type {\n",
       "        vertical-align: middle;\n",
       "    }\n",
       "\n",
       "    .dataframe tbody tr th {\n",
       "        vertical-align: top;\n",
       "    }\n",
       "\n",
       "    .dataframe thead th {\n",
       "        text-align: right;\n",
       "    }\n",
       "</style>\n",
       "<table border=\"1\" class=\"dataframe\">\n",
       "  <thead>\n",
       "    <tr style=\"text-align: right;\">\n",
       "      <th></th>\n",
       "      <th>index</th>\n",
       "      <th>name</th>\n",
       "      <th>place_id</th>\n",
       "      <th>formatted_address</th>\n",
       "      <th>zip_code</th>\n",
       "      <th>city</th>\n",
       "      <th>international_phone_number</th>\n",
       "      <th>price_level</th>\n",
       "      <th>rating</th>\n",
       "      <th>user_ratings_total</th>\n",
       "      <th>...</th>\n",
       "      <th>types3</th>\n",
       "      <th>types4</th>\n",
       "      <th>types5</th>\n",
       "      <th>types6</th>\n",
       "      <th>types7</th>\n",
       "      <th>types8</th>\n",
       "      <th>types9</th>\n",
       "      <th>reviews</th>\n",
       "      <th>ta_id</th>\n",
       "      <th>ta_cuisine</th>\n",
       "    </tr>\n",
       "  </thead>\n",
       "  <tbody>\n",
       "    <tr>\n",
       "      <th>0</th>\n",
       "      <td>0</td>\n",
       "      <td>Café Restaurant Palma</td>\n",
       "      <td>ChIJX68uubZkjEcRKKxpZ7OrgqU</td>\n",
       "      <td>Av. d'Aïre 93bis, 1203 Genève, Switzerland</td>\n",
       "      <td>1203</td>\n",
       "      <td>Genève</td>\n",
       "      <td>+41 22 345 84 48</td>\n",
       "      <td>NaN</td>\n",
       "      <td>3.7</td>\n",
       "      <td>141.0</td>\n",
       "      <td>...</td>\n",
       "      <td>point_of_interest</td>\n",
       "      <td>establishment</td>\n",
       "      <td>NaN</td>\n",
       "      <td>NaN</td>\n",
       "      <td>NaN</td>\n",
       "      <td>NaN</td>\n",
       "      <td>NaN</td>\n",
       "      <td>[{'author_name': 'Amin Masroor', 'author_url':...</td>\n",
       "      <td>13322506</td>\n",
       "      <td>0</td>\n",
       "    </tr>\n",
       "    <tr>\n",
       "      <th>1</th>\n",
       "      <td>1</td>\n",
       "      <td>Restaurant La Tentation</td>\n",
       "      <td>ChIJd6kh67ZkjEcRC1IQourQOyo</td>\n",
       "      <td>Av. d'Aïre 91, 1203 Genève, Switzerland</td>\n",
       "      <td>1203</td>\n",
       "      <td>Genève</td>\n",
       "      <td>+41 22 344 28 29</td>\n",
       "      <td>2.0</td>\n",
       "      <td>4.2</td>\n",
       "      <td>158.0</td>\n",
       "      <td>...</td>\n",
       "      <td>point_of_interest</td>\n",
       "      <td>establishment</td>\n",
       "      <td>NaN</td>\n",
       "      <td>NaN</td>\n",
       "      <td>NaN</td>\n",
       "      <td>NaN</td>\n",
       "      <td>NaN</td>\n",
       "      <td>[{'author_name': 'Lorcan Flynn', 'author_url':...</td>\n",
       "      <td>7159041</td>\n",
       "      <td>European</td>\n",
       "    </tr>\n",
       "    <tr>\n",
       "      <th>2</th>\n",
       "      <td>879</td>\n",
       "      <td>McDonald’s</td>\n",
       "      <td>ChIJ-wXg9zFljEcROYaIkweg4dE</td>\n",
       "      <td>Cr de Rive 3, 1204 Genève, Switzerland</td>\n",
       "      <td>1204</td>\n",
       "      <td>Genève</td>\n",
       "      <td>+41 22 311 85 75</td>\n",
       "      <td>2.0</td>\n",
       "      <td>3.7</td>\n",
       "      <td>2274.0</td>\n",
       "      <td>...</td>\n",
       "      <td>food</td>\n",
       "      <td>point_of_interest</td>\n",
       "      <td>establishment</td>\n",
       "      <td>NaN</td>\n",
       "      <td>NaN</td>\n",
       "      <td>NaN</td>\n",
       "      <td>NaN</td>\n",
       "      <td>[{'author_name': 'EMILY DOEBELI', 'author_url'...</td>\n",
       "      <td>19951486</td>\n",
       "      <td>American</td>\n",
       "    </tr>\n",
       "    <tr>\n",
       "      <th>3</th>\n",
       "      <td>178</td>\n",
       "      <td>McDonald’s</td>\n",
       "      <td>ChIJARjSeiV7jEcR8tydzSBs3no</td>\n",
       "      <td>Rte des Jeunes 9, 1227 Genève, Switzerland</td>\n",
       "      <td>1227</td>\n",
       "      <td>Genève</td>\n",
       "      <td>+41 22 301 99 11</td>\n",
       "      <td>2.0</td>\n",
       "      <td>3.8</td>\n",
       "      <td>1633.0</td>\n",
       "      <td>...</td>\n",
       "      <td>food</td>\n",
       "      <td>point_of_interest</td>\n",
       "      <td>establishment</td>\n",
       "      <td>NaN</td>\n",
       "      <td>NaN</td>\n",
       "      <td>NaN</td>\n",
       "      <td>NaN</td>\n",
       "      <td>[{'author_name': 'krishna chaitanya', 'author_...</td>\n",
       "      <td>23309074</td>\n",
       "      <td>0</td>\n",
       "    </tr>\n",
       "    <tr>\n",
       "      <th>4</th>\n",
       "      <td>883</td>\n",
       "      <td>The Hamburger Foundation - Pâquis</td>\n",
       "      <td>ChIJHxrrfiRljEcRogBS47e2k0o</td>\n",
       "      <td>Rue Philippe-Plantamour 37, 1201 Genève, Switz...</td>\n",
       "      <td>1201</td>\n",
       "      <td>Genève</td>\n",
       "      <td>0</td>\n",
       "      <td>2.0</td>\n",
       "      <td>4.1</td>\n",
       "      <td>1350.0</td>\n",
       "      <td>...</td>\n",
       "      <td>food</td>\n",
       "      <td>point_of_interest</td>\n",
       "      <td>establishment</td>\n",
       "      <td>NaN</td>\n",
       "      <td>NaN</td>\n",
       "      <td>NaN</td>\n",
       "      <td>NaN</td>\n",
       "      <td>[{'author_name': 'Jad Khalidy', 'author_url': ...</td>\n",
       "      <td>6033142</td>\n",
       "      <td>American</td>\n",
       "    </tr>\n",
       "  </tbody>\n",
       "</table>\n",
       "<p>5 rows × 24 columns</p>\n",
       "</div>"
      ],
      "text/plain": [
       "   index                               name                     place_id  \\\n",
       "0      0              Café Restaurant Palma  ChIJX68uubZkjEcRKKxpZ7OrgqU   \n",
       "1      1            Restaurant La Tentation  ChIJd6kh67ZkjEcRC1IQourQOyo   \n",
       "2    879                         McDonald’s  ChIJ-wXg9zFljEcROYaIkweg4dE   \n",
       "3    178                         McDonald’s  ChIJARjSeiV7jEcR8tydzSBs3no   \n",
       "4    883  The Hamburger Foundation - Pâquis  ChIJHxrrfiRljEcRogBS47e2k0o   \n",
       "\n",
       "                                   formatted_address  zip_code    city  \\\n",
       "0         Av. d'Aïre 93bis, 1203 Genève, Switzerland      1203  Genève   \n",
       "1            Av. d'Aïre 91, 1203 Genève, Switzerland      1203  Genève   \n",
       "2             Cr de Rive 3, 1204 Genève, Switzerland      1204  Genève   \n",
       "3         Rte des Jeunes 9, 1227 Genève, Switzerland      1227  Genève   \n",
       "4  Rue Philippe-Plantamour 37, 1201 Genève, Switz...      1201  Genève   \n",
       "\n",
       "  international_phone_number  price_level  rating  user_ratings_total  ...  \\\n",
       "0           +41 22 345 84 48          NaN     3.7               141.0  ...   \n",
       "1           +41 22 344 28 29          2.0     4.2               158.0  ...   \n",
       "2           +41 22 311 85 75          2.0     3.7              2274.0  ...   \n",
       "3           +41 22 301 99 11          2.0     3.8              1633.0  ...   \n",
       "4                          0          2.0     4.1              1350.0  ...   \n",
       "\n",
       "               types3              types4          types5 types6 types7  \\\n",
       "0   point_of_interest       establishment             NaN    NaN    NaN   \n",
       "1   point_of_interest       establishment             NaN    NaN    NaN   \n",
       "2                food   point_of_interest   establishment    NaN    NaN   \n",
       "3                food   point_of_interest   establishment    NaN    NaN   \n",
       "4                food   point_of_interest   establishment    NaN    NaN   \n",
       "\n",
       "  types8 types9                                            reviews     ta_id  \\\n",
       "0    NaN    NaN  [{'author_name': 'Amin Masroor', 'author_url':...  13322506   \n",
       "1    NaN    NaN  [{'author_name': 'Lorcan Flynn', 'author_url':...   7159041   \n",
       "2    NaN    NaN  [{'author_name': 'EMILY DOEBELI', 'author_url'...  19951486   \n",
       "3    NaN    NaN  [{'author_name': 'krishna chaitanya', 'author_...  23309074   \n",
       "4    NaN    NaN  [{'author_name': 'Jad Khalidy', 'author_url': ...   6033142   \n",
       "\n",
       "  ta_cuisine  \n",
       "0          0  \n",
       "1   European  \n",
       "2   American  \n",
       "3          0  \n",
       "4   American  \n",
       "\n",
       "[5 rows x 24 columns]"
      ]
     },
     "execution_count": 3,
     "metadata": {},
     "output_type": "execute_result"
    }
   ],
   "source": [
    "df.head()"
   ]
  },
  {
   "cell_type": "code",
   "execution_count": 4,
   "id": "805f9851",
   "metadata": {
    "scrolled": true
   },
   "outputs": [
    {
     "data": {
      "text/plain": [
       "Index(['index', 'name', 'place_id', 'formatted_address', 'zip_code', 'city',\n",
       "       'international_phone_number', 'price_level', 'rating',\n",
       "       'user_ratings_total', 'geometry.location.lat', 'geometry.location.lng',\n",
       "       'types1', 'types2', 'types3', 'types4', 'types5', 'types6', 'types7',\n",
       "       'types8', 'types9', 'reviews', 'ta_id', 'ta_cuisine'],\n",
       "      dtype='object')"
      ]
     },
     "execution_count": 4,
     "metadata": {},
     "output_type": "execute_result"
    }
   ],
   "source": [
    "df.columns"
   ]
  },
  {
   "cell_type": "code",
   "execution_count": 21,
   "id": "0b918d1c",
   "metadata": {},
   "outputs": [
    {
     "name": "stdout",
     "output_type": "stream",
     "text": [
      "<class 'pandas.core.frame.DataFrame'>\n",
      "RangeIndex: 1102 entries, 0 to 1101\n",
      "Data columns (total 24 columns):\n",
      " #   Column                      Non-Null Count  Dtype  \n",
      "---  ------                      --------------  -----  \n",
      " 0   index                       1102 non-null   int64  \n",
      " 1   name                        1102 non-null   object \n",
      " 2   place_id                    1102 non-null   object \n",
      " 3   formatted_address           1102 non-null   object \n",
      " 4   zip_code                    1102 non-null   int64  \n",
      " 5   city                        1102 non-null   object \n",
      " 6   international_phone_number  1102 non-null   object \n",
      " 7   price_level                 506 non-null    float64\n",
      " 8   rating                      1101 non-null   float64\n",
      " 9   user_ratings_total          1101 non-null   float64\n",
      " 10  geometry.location.lat       1102 non-null   float64\n",
      " 11  geometry.location.lng       1102 non-null   float64\n",
      " 12  types1                      1102 non-null   object \n",
      " 13  types2                      1102 non-null   object \n",
      " 14  types3                      1102 non-null   object \n",
      " 15  types4                      1102 non-null   object \n",
      " 16  types5                      256 non-null    object \n",
      " 17  types6                      79 non-null     object \n",
      " 18  types7                      25 non-null     object \n",
      " 19  types8                      7 non-null      object \n",
      " 20  types9                      1 non-null      object \n",
      " 21  reviews                     1102 non-null   object \n",
      " 22  ta_id                       1102 non-null   int64  \n",
      " 23  ta_cuisine                  1102 non-null   object \n",
      "dtypes: float64(5), int64(3), object(16)\n",
      "memory usage: 206.8+ KB\n"
     ]
    }
   ],
   "source": [
    "df.info()"
   ]
  },
  {
   "cell_type": "code",
   "execution_count": 23,
   "id": "e169f8b5",
   "metadata": {},
   "outputs": [
    {
     "data": {
      "text/plain": [
       "index                            0\n",
       "name                             0\n",
       "place_id                         0\n",
       "formatted_address                0\n",
       "zip_code                         0\n",
       "city                             0\n",
       "international_phone_number       0\n",
       "price_level                    596\n",
       "rating                           1\n",
       "user_ratings_total               1\n",
       "geometry.location.lat            0\n",
       "geometry.location.lng            0\n",
       "types1                           0\n",
       "types2                           0\n",
       "types3                           0\n",
       "types4                           0\n",
       "types5                         846\n",
       "types6                        1023\n",
       "types7                        1077\n",
       "types8                        1095\n",
       "types9                        1101\n",
       "reviews                          0\n",
       "ta_id                            0\n",
       "ta_cuisine                       0\n",
       "dtype: int64"
      ]
     },
     "execution_count": 23,
     "metadata": {},
     "output_type": "execute_result"
    }
   ],
   "source": [
    "df.isnull().sum()"
   ]
  },
  {
   "cell_type": "code",
   "execution_count": 5,
   "id": "df71f7b2",
   "metadata": {
    "scrolled": true
   },
   "outputs": [
    {
     "data": {
      "text/plain": [
       "array(['restaurant', 'meal_takeaway', 'convenience_store', 'cafe',\n",
       "       'store', 'bar', 'meal_delivery', 'lodging', 'furniture_store',\n",
       "       'night_club', 'grocery_or_supermarket', 'liquor_store'],\n",
       "      dtype=object)"
      ]
     },
     "execution_count": 5,
     "metadata": {},
     "output_type": "execute_result"
    }
   ],
   "source": [
    "df.types1.unique()"
   ]
  },
  {
   "cell_type": "code",
   "execution_count": 25,
   "id": "e2a2c133",
   "metadata": {},
   "outputs": [
    {
     "data": {
      "text/plain": [
       "array([3.7, 4.2, 3.8, 4.1, 4.3, 4.4, 4. , 3.9, 5. , 3. , 3.4, 4.5, 3.6,\n",
       "       4.7, 3.5, 2.7, 4.9, 4.6, 3.1, 1. , 3.3, 0. , 4.8, 2.9, 2.8, 2.3,\n",
       "       3.2, 1.3, 2.5, 2. , nan])"
      ]
     },
     "execution_count": 25,
     "metadata": {},
     "output_type": "execute_result"
    }
   ],
   "source": [
    "df.rating.unique()"
   ]
  },
  {
   "cell_type": "code",
   "execution_count": 6,
   "id": "6f54ee1b",
   "metadata": {},
   "outputs": [
    {
     "data": {
      "text/plain": [
       "array([' food', ' cafe', ' restaurant', ' point_of_interest', ' bar',\n",
       "       ' night_club', ' meal_takeaway', ' school', ' meal_delivery',\n",
       "       ' park', ' grocery_or_supermarket', ' bakery', ' store',\n",
       "       ' furniture_store', ' finance', ' clothing_store', ' lodging'],\n",
       "      dtype=object)"
      ]
     },
     "execution_count": 6,
     "metadata": {},
     "output_type": "execute_result"
    }
   ],
   "source": [
    "df.types2.unique()"
   ]
  },
  {
   "cell_type": "code",
   "execution_count": 7,
   "id": "b387059d",
   "metadata": {},
   "outputs": [
    {
     "data": {
      "text/plain": [
       "array([' point_of_interest', ' food', ' store', ' bar', ' restaurant',\n",
       "       ' lodging', ' convenience_store', ' meal_takeaway', ' bakery',\n",
       "       ' night_club', ' cafe', ' grocery_or_supermarket'], dtype=object)"
      ]
     },
     "execution_count": 7,
     "metadata": {},
     "output_type": "execute_result"
    }
   ],
   "source": [
    "df.types3.unique()"
   ]
  },
  {
   "cell_type": "code",
   "execution_count": 8,
   "id": "de291511",
   "metadata": {},
   "outputs": [
    {
     "data": {
      "text/plain": [
       "array([' establishment', ' point_of_interest', ' restaurant', ' food',\n",
       "       ' store', ' bar', ' grocery_or_supermarket', ' home_goods_store',\n",
       "       ' cafe', ' meal_takeaway'], dtype=object)"
      ]
     },
     "execution_count": 8,
     "metadata": {},
     "output_type": "execute_result"
    }
   ],
   "source": [
    "df.types4.unique()"
   ]
  },
  {
   "cell_type": "code",
   "execution_count": 9,
   "id": "d8b21908",
   "metadata": {},
   "outputs": [
    {
     "data": {
      "text/plain": [
       "array([nan, ' establishment', ' food', ' point_of_interest',\n",
       "       ' restaurant', ' store', ' home_goods_store'], dtype=object)"
      ]
     },
     "execution_count": 9,
     "metadata": {},
     "output_type": "execute_result"
    }
   ],
   "source": [
    "df.types5.unique()"
   ]
  },
  {
   "cell_type": "code",
   "execution_count": 11,
   "id": "f25a14d3",
   "metadata": {},
   "outputs": [
    {
     "data": {
      "text/plain": [
       "\"[{'author_name': 'Lorcan Flynn', 'author_url': 'https://www.google.com/maps/contrib/112510160972673972025/reviews', 'language': 'en', 'profile_photo_url': 'https://lh3.googleusercontent.com/a-/AFdZucpKgT6R4Sft_Yuiv_CiJpDLwMiVMuXdmuKGxUsXAg=s128-c0x00000000-cc-rp-mo-ba3', 'rating': 5, 'relative_time_description': '2 years ago', 'text': 'Good food friendly service', 'time': 1595575133}, {'author_name': 'Dany Vinces', 'author_url': 'https://www.google.com/maps/contrib/116144535826454327673/reviews', 'language': 'en', 'profile_photo_url': 'https://lh3.googleusercontent.com/a/AItbvmmJh3Od4M0kmw7HMBuho7w5haOrYoDAWWPNpCQj=s128-c0x00000000-cc-rp-mo', 'rating': 5, 'relative_time_description': 'a year ago', 'text': 'Excellent!!!!', 'time': 1599758253}, {'author_name': 'Maribel Perez', 'author_url': 'https://www.google.com/maps/contrib/113012050420573241032/reviews', 'language': 'en', 'profile_photo_url': 'https://lh3.googleusercontent.com/a-/AFdZucoQB95QQOMxPUNi0ej54RTssaD0HcYfet-YvZgtjw=s128-c0x00000000-cc-rp-mo-ba6', 'rating': 5, 'relative_time_description': '2 years ago', 'text': 'Exquisite', 'time': 1581758478}, {'author_name': 'David Hanhart', 'author_url': 'https://www.google.com/maps/contrib/113721297522261317267/reviews', 'language': 'en', 'profile_photo_url': 'https://lh3.googleusercontent.com/a-/AFdZucriym8bDJvOWKQEk6CJyLETuuhr1JciyRCng0YvMSY=s128-c0x00000000-cc-rp-mo-ba5', 'rating': 4, 'relative_time_description': '7 years ago', 'text': 'Tasty food, nice dishes. Service could have been better.', 'time': 1423773015}, {'author_name': 'Clément Roch', 'author_url': 'https://www.google.com/maps/contrib/116295169756031463677/reviews', 'language': 'en', 'profile_photo_url': 'https://lh3.googleusercontent.com/a-/AFdZucqykiDTWV6Jq7WI-f9vGRsnHhzb2debhBgm3BaUaw=s128-c0x00000000-cc-rp-mo-ba2', 'rating': 5, 'relative_time_description': '3 years ago', 'text': 'Good food', 'time': 1549205446}]\""
      ]
     },
     "execution_count": 11,
     "metadata": {},
     "output_type": "execute_result"
    }
   ],
   "source": [
    "df.reviews[1]"
   ]
  },
  {
   "cell_type": "code",
   "execution_count": 12,
   "id": "48973d20",
   "metadata": {},
   "outputs": [
    {
     "data": {
      "text/plain": [
       "'[{\\'author_name\\': \\'EMILY DOEBELI\\', \\'author_url\\': \\'https://www.google.com/maps/contrib/110456265392239665091/reviews\\', \\'language\\': \\'en\\', \\'profile_photo_url\\': \\'https://lh3.googleusercontent.com/a-/AFdZucof4byBH4wVdTyI11dK4l8fdzSSnO6HynycVTg9Kw=s128-c0x00000000-cc-rp-mo\\', \\'rating\\': 3, \\'relative_time_description\\': \\'a month ago\\', \\'text\\': \"Great service. Burgers are good but the fries were not fresh. Think they prepare them in advance in the container and leave them standing. This is the same in a lot of McDonald\\'s.\", \\'time\\': 1658001074}, {\\'author_name\\': \\'Kirk Kvistad\\', \\'author_url\\': \\'https://www.google.com/maps/contrib/104827660337754023645/reviews\\', \\'language\\': \\'en\\', \\'profile_photo_url\\': \\'https://lh3.googleusercontent.com/a-/AFdZucpVKjm-sJFJ0cvV9Am3YjNxKJ0uimzvP5xmsLAHmMc=s128-c0x00000000-cc-rp-mo-ba5\\', \\'rating\\': 5, \\'relative_time_description\\': \\'5 months ago\\', \\'text\\': \\'Always perfect with excellent and efficient service. The new quarter pounders Royal TS are very good and super tasty with fresh vegetables.\\', \\'time\\': 1647715126}, {\\'author_name\\': \\'E. Margot\\', \\'author_url\\': \\'https://www.google.com/maps/contrib/110724359699173068562/reviews\\', \\'language\\': \\'en\\', \\'profile_photo_url\\': \\'https://lh3.googleusercontent.com/a-/AFdZucrxF7m36nj3-buXX-IuDCeOLOS4bPg4uYl3afFF6g=s128-c0x00000000-cc-rp-mo-ba4\\', \\'rating\\': 5, \\'relative_time_description\\': \\'a year ago\\', \\'text\\': \"I\\'m lovin it.\\\\nCome on who doesn\\'t like a not so healthy meal once in a while. Taste and service 👍👍👍👍👍\", \\'time\\': 1603805234}, {\\'author_name\\': \\'Alexandre Takacs\\', \\'author_url\\': \\'https://www.google.com/maps/contrib/116299720221695009377/reviews\\', \\'language\\': \\'en\\', \\'profile_photo_url\\': \\'https://lh3.googleusercontent.com/a-/AFdZucr4kgJnu3O9TQjhRifKHoiSz_RCYCxedxAUdl3PCw=s128-c0x00000000-cc-rp-mo-ba3\\', \\'rating\\': 4, \\'relative_time_description\\': \\'a year ago\\', \\'text\\': \"Well it is a Mcdonald... What can I add /contribute? If there is a predicable and well controlled experience I guess you will find it there. 4* because they have much reduced opening hours nowadays (apparently you don\\'t take breakfast during Covid19 times...)\", \\'time\\': 1601417585}, {\\'author_name\\': \\'GuyZa\\', \\'author_url\\': \\'https://www.google.com/maps/contrib/117067313262541239934/reviews\\', \\'language\\': \\'en\\', \\'profile_photo_url\\': \\'https://lh3.googleusercontent.com/a-/AFdZuco4tHDzCkK6a4DS6LABiRFVauwICp28hikrqRevpQ=s128-c0x00000000-cc-rp-mo-ba6\\', \\'rating\\': 4, \\'relative_time_description\\': \\'3 months ago\\', \\'text\\': \\'Super clean and friendly branch , if you are looking for fast food ,this branch is recommended\\', \\'time\\': 1651648895}]'"
      ]
     },
     "execution_count": 12,
     "metadata": {},
     "output_type": "execute_result"
    }
   ],
   "source": [
    "df.reviews[2]"
   ]
  },
  {
   "cell_type": "code",
   "execution_count": 17,
   "id": "d1c8f3cd",
   "metadata": {},
   "outputs": [
    {
     "data": {
      "text/plain": [
       "array(['0', 'European', 'American', 'Swiss', 'Fast Food', 'Italian',\n",
       "       'Turkish', 'Japanese', 'Chinese', 'Seafood', 'Barbecue', 'Cafe',\n",
       "       'French', 'Brew Pub', 'Portuguese', 'Lebanese', 'Colombian',\n",
       "       'Peruvian', 'Brazilian', 'Thai', 'Steakhouse', 'Indian',\n",
       "       'Middle Eastern', 'International', 'African', 'Sushi', 'Pizza',\n",
       "       'Healthy', 'Mexican', 'Asian', 'Spanish', 'Irish', 'Mediterranean',\n",
       "       'Latin', 'Vegetarian Friendly', 'Fusion', 'Bar', 'Belgian',\n",
       "       'Pakistani', 'Diner', 'Korean', 'Filipino', 'Persian', 'Moroccan',\n",
       "       'Soups', 'Vietnamese', 'Greek', 'Contemporary', 'Tibetan',\n",
       "       'Wine Bar', 'Dining bars', 'South American'], dtype=object)"
      ]
     },
     "execution_count": 17,
     "metadata": {},
     "output_type": "execute_result"
    }
   ],
   "source": [
    "df[\"ta_cuisine\"].unique()"
   ]
  },
  {
   "cell_type": "code",
   "execution_count": null,
   "id": "987bccf4",
   "metadata": {},
   "outputs": [],
   "source": []
  },
  {
   "cell_type": "code",
   "execution_count": 40,
   "id": "a6ef4e9c",
   "metadata": {},
   "outputs": [],
   "source": [
    "def search_venue(df, category):\n",
    "  search = lambda x:True if category.capitalize() in x else False\n",
    "  venues = df[df['ta_cuisine'].apply(search)].reset_index(drop='index')\n",
    "  venues_lat_long = list(zip(venues['geometry.location.lat'], venues['geometry.location.lng']))\n",
    "  return venues_lat_long\n",
    "\n",
    "\n",
    "def heatmap_venues(data):\n",
    "    map=folium.Map(location=[46.204391, 6.143158], tiles=\"openstreetmap\", zoom_start=14, min_zoom=13,max_zoom=15)\n",
    "    HeatMap(data).add_to(map)\n",
    "    return map"
   ]
  },
  {
   "cell_type": "code",
   "execution_count": 41,
   "id": "e4395fdb",
   "metadata": {},
   "outputs": [
    {
     "data": {
      "text/html": [
       "<div style=\"width:100%;\"><div style=\"position:relative;width:100%;height:0;padding-bottom:60%;\"><span style=\"color:#565656\">Make this Notebook Trusted to load map: File -> Trust Notebook</span><iframe srcdoc=\"&lt;!DOCTYPE html&gt;\n",
       "&lt;head&gt;    \n",
       "    &lt;meta http-equiv=&quot;content-type&quot; content=&quot;text/html; charset=UTF-8&quot; /&gt;\n",
       "    \n",
       "        &lt;script&gt;\n",
       "            L_NO_TOUCH = false;\n",
       "            L_DISABLE_3D = false;\n",
       "        &lt;/script&gt;\n",
       "    \n",
       "    &lt;style&gt;html, body {width: 100%;height: 100%;margin: 0;padding: 0;}&lt;/style&gt;\n",
       "    &lt;style&gt;#map {position:absolute;top:0;bottom:0;right:0;left:0;}&lt;/style&gt;\n",
       "    &lt;script src=&quot;https://cdn.jsdelivr.net/npm/leaflet@1.6.0/dist/leaflet.js&quot;&gt;&lt;/script&gt;\n",
       "    &lt;script src=&quot;https://code.jquery.com/jquery-1.12.4.min.js&quot;&gt;&lt;/script&gt;\n",
       "    &lt;script src=&quot;https://maxcdn.bootstrapcdn.com/bootstrap/3.2.0/js/bootstrap.min.js&quot;&gt;&lt;/script&gt;\n",
       "    &lt;script src=&quot;https://cdnjs.cloudflare.com/ajax/libs/Leaflet.awesome-markers/2.0.2/leaflet.awesome-markers.js&quot;&gt;&lt;/script&gt;\n",
       "    &lt;link rel=&quot;stylesheet&quot; href=&quot;https://cdn.jsdelivr.net/npm/leaflet@1.6.0/dist/leaflet.css&quot;/&gt;\n",
       "    &lt;link rel=&quot;stylesheet&quot; href=&quot;https://maxcdn.bootstrapcdn.com/bootstrap/3.2.0/css/bootstrap.min.css&quot;/&gt;\n",
       "    &lt;link rel=&quot;stylesheet&quot; href=&quot;https://maxcdn.bootstrapcdn.com/bootstrap/3.2.0/css/bootstrap-theme.min.css&quot;/&gt;\n",
       "    &lt;link rel=&quot;stylesheet&quot; href=&quot;https://maxcdn.bootstrapcdn.com/font-awesome/4.6.3/css/font-awesome.min.css&quot;/&gt;\n",
       "    &lt;link rel=&quot;stylesheet&quot; href=&quot;https://cdnjs.cloudflare.com/ajax/libs/Leaflet.awesome-markers/2.0.2/leaflet.awesome-markers.css&quot;/&gt;\n",
       "    &lt;link rel=&quot;stylesheet&quot; href=&quot;https://cdn.jsdelivr.net/gh/python-visualization/folium/folium/templates/leaflet.awesome.rotate.min.css&quot;/&gt;\n",
       "    \n",
       "            &lt;meta name=&quot;viewport&quot; content=&quot;width=device-width,\n",
       "                initial-scale=1.0, maximum-scale=1.0, user-scalable=no&quot; /&gt;\n",
       "            &lt;style&gt;\n",
       "                #map_de140e60fcc88964a59829d984e560ce {\n",
       "                    position: relative;\n",
       "                    width: 100.0%;\n",
       "                    height: 100.0%;\n",
       "                    left: 0.0%;\n",
       "                    top: 0.0%;\n",
       "                }\n",
       "            &lt;/style&gt;\n",
       "        \n",
       "    &lt;script src=&quot;https://cdn.jsdelivr.net/gh/python-visualization/folium@master/folium/templates/leaflet_heat.min.js&quot;&gt;&lt;/script&gt;\n",
       "&lt;/head&gt;\n",
       "&lt;body&gt;    \n",
       "    \n",
       "            &lt;div class=&quot;folium-map&quot; id=&quot;map_de140e60fcc88964a59829d984e560ce&quot; &gt;&lt;/div&gt;\n",
       "        \n",
       "&lt;/body&gt;\n",
       "&lt;script&gt;    \n",
       "    \n",
       "            var map_de140e60fcc88964a59829d984e560ce = L.map(\n",
       "                &quot;map_de140e60fcc88964a59829d984e560ce&quot;,\n",
       "                {\n",
       "                    center: [46.204391, 6.143158],\n",
       "                    crs: L.CRS.EPSG3857,\n",
       "                    zoom: 14,\n",
       "                    zoomControl: true,\n",
       "                    preferCanvas: false,\n",
       "                }\n",
       "            );\n",
       "\n",
       "            \n",
       "\n",
       "        \n",
       "    \n",
       "            var tile_layer_cbe0415d6017a2630e813a3a9704fe0d = L.tileLayer(\n",
       "                &quot;https://{s}.tile.openstreetmap.org/{z}/{x}/{y}.png&quot;,\n",
       "                {&quot;attribution&quot;: &quot;Data by \\u0026copy; \\u003ca href=\\&quot;http://openstreetmap.org\\&quot;\\u003eOpenStreetMap\\u003c/a\\u003e, under \\u003ca href=\\&quot;http://www.openstreetmap.org/copyright\\&quot;\\u003eODbL\\u003c/a\\u003e.&quot;, &quot;detectRetina&quot;: false, &quot;maxNativeZoom&quot;: 15, &quot;maxZoom&quot;: 15, &quot;minZoom&quot;: 13, &quot;noWrap&quot;: false, &quot;opacity&quot;: 1, &quot;subdomains&quot;: &quot;abc&quot;, &quot;tms&quot;: false}\n",
       "            ).addTo(map_de140e60fcc88964a59829d984e560ce);\n",
       "        \n",
       "    \n",
       "            var heat_map_11de770df6c0bfd5e3d33081f3fed03f = L.heatLayer(\n",
       "                [[46.2195642, 6.1131107], [46.215552, 6.1468222], [46.2141925, 6.1289629], [46.2096928, 6.1380068], [46.1924096, 6.1437871], [46.1965117, 6.1442039]],\n",
       "                {&quot;blur&quot;: 15, &quot;maxZoom&quot;: 18, &quot;minOpacity&quot;: 0.5, &quot;radius&quot;: 25}\n",
       "            ).addTo(map_de140e60fcc88964a59829d984e560ce);\n",
       "        \n",
       "&lt;/script&gt;\" style=\"position:absolute;width:100%;height:100%;left:0;top:0;border:none !important;\" allowfullscreen webkitallowfullscreen mozallowfullscreen></iframe></div></div>"
      ],
      "text/plain": [
       "<folium.folium.Map at 0x14f56bb20>"
      ]
     },
     "execution_count": 41,
     "metadata": {},
     "output_type": "execute_result"
    }
   ],
   "source": [
    "name_restaurant = search_venue(df, \"Turkish\")\n",
    "heatmap_venues(name_restaurant)"
   ]
  },
  {
   "cell_type": "code",
   "execution_count": 42,
   "id": "c6d97be4",
   "metadata": {
    "scrolled": true
   },
   "outputs": [
    {
     "data": {
      "text/html": [
       "<div>\n",
       "<style scoped>\n",
       "    .dataframe tbody tr th:only-of-type {\n",
       "        vertical-align: middle;\n",
       "    }\n",
       "\n",
       "    .dataframe tbody tr th {\n",
       "        vertical-align: top;\n",
       "    }\n",
       "\n",
       "    .dataframe thead th {\n",
       "        text-align: right;\n",
       "    }\n",
       "</style>\n",
       "<table border=\"1\" class=\"dataframe\">\n",
       "  <thead>\n",
       "    <tr style=\"text-align: right;\">\n",
       "      <th></th>\n",
       "      <th>index</th>\n",
       "      <th>name</th>\n",
       "      <th>place_id</th>\n",
       "      <th>formatted_address</th>\n",
       "      <th>zip_code</th>\n",
       "      <th>city</th>\n",
       "      <th>international_phone_number</th>\n",
       "      <th>price_level</th>\n",
       "      <th>rating</th>\n",
       "      <th>user_ratings_total</th>\n",
       "      <th>...</th>\n",
       "      <th>types3</th>\n",
       "      <th>types4</th>\n",
       "      <th>types5</th>\n",
       "      <th>types6</th>\n",
       "      <th>types7</th>\n",
       "      <th>types8</th>\n",
       "      <th>types9</th>\n",
       "      <th>reviews</th>\n",
       "      <th>ta_id</th>\n",
       "      <th>ta_cuisine</th>\n",
       "    </tr>\n",
       "  </thead>\n",
       "  <tbody>\n",
       "    <tr>\n",
       "      <th>17</th>\n",
       "      <td>17</td>\n",
       "      <td>La Turquoise</td>\n",
       "      <td>ChIJ4XuI41xljEcR_y2uFNcgGb4</td>\n",
       "      <td>Centre Commercial Balexert, Av. Louis-Casaï 27...</td>\n",
       "      <td>1209</td>\n",
       "      <td>Genève</td>\n",
       "      <td>+41 22 796 54 52</td>\n",
       "      <td>NaN</td>\n",
       "      <td>4.1</td>\n",
       "      <td>76.0</td>\n",
       "      <td>...</td>\n",
       "      <td>point_of_interest</td>\n",
       "      <td>establishment</td>\n",
       "      <td>NaN</td>\n",
       "      <td>NaN</td>\n",
       "      <td>NaN</td>\n",
       "      <td>NaN</td>\n",
       "      <td>NaN</td>\n",
       "      <td>[{'author_name': 'A WB', 'author_url': 'https:...</td>\n",
       "      <td>1604426</td>\n",
       "      <td>Turkish</td>\n",
       "    </tr>\n",
       "    <tr>\n",
       "      <th>52</th>\n",
       "      <td>647</td>\n",
       "      <td>Ali Baba Kebab</td>\n",
       "      <td>ChIJi6ywySFljEcRlmaKY69Vxa4</td>\n",
       "      <td>Rue de Lausanne 65, 1202 Genève, Switzerland</td>\n",
       "      <td>1202</td>\n",
       "      <td>Genève</td>\n",
       "      <td>+41 22 738 71 00</td>\n",
       "      <td>1.0</td>\n",
       "      <td>4.3</td>\n",
       "      <td>250.0</td>\n",
       "      <td>...</td>\n",
       "      <td>point_of_interest</td>\n",
       "      <td>establishment</td>\n",
       "      <td>NaN</td>\n",
       "      <td>NaN</td>\n",
       "      <td>NaN</td>\n",
       "      <td>NaN</td>\n",
       "      <td>NaN</td>\n",
       "      <td>[{'author_name': 'Deep Multani', 'author_url':...</td>\n",
       "      <td>16380947</td>\n",
       "      <td>Turkish</td>\n",
       "    </tr>\n",
       "    <tr>\n",
       "      <th>107</th>\n",
       "      <td>109</td>\n",
       "      <td>KAPRiS KEBAP PIZZA TACOS</td>\n",
       "      <td>ChIJ_2QNS15ljEcR4rWSZa8RiOo</td>\n",
       "      <td>Rte de Meyrin 4, 1202 Genève, Switzerland</td>\n",
       "      <td>1202</td>\n",
       "      <td>Genève</td>\n",
       "      <td>+41 22 734 36 83</td>\n",
       "      <td>NaN</td>\n",
       "      <td>4.1</td>\n",
       "      <td>299.0</td>\n",
       "      <td>...</td>\n",
       "      <td>food</td>\n",
       "      <td>point_of_interest</td>\n",
       "      <td>establishment</td>\n",
       "      <td>NaN</td>\n",
       "      <td>NaN</td>\n",
       "      <td>NaN</td>\n",
       "      <td>NaN</td>\n",
       "      <td>[{'author_name': 'Jessyca Zaniboni', 'author_u...</td>\n",
       "      <td>9772773</td>\n",
       "      <td>Turkish</td>\n",
       "    </tr>\n",
       "    <tr>\n",
       "      <th>304</th>\n",
       "      <td>306</td>\n",
       "      <td>Saveurs d’Orient</td>\n",
       "      <td>ChIJ_4p5n9lkjEcRdqDv5X0JmIw</td>\n",
       "      <td>Rue de la Servette 19, 1201 Genève, Switzerland</td>\n",
       "      <td>1201</td>\n",
       "      <td>Genève</td>\n",
       "      <td>+41 22 734 37 02</td>\n",
       "      <td>NaN</td>\n",
       "      <td>4.0</td>\n",
       "      <td>56.0</td>\n",
       "      <td>...</td>\n",
       "      <td>point_of_interest</td>\n",
       "      <td>establishment</td>\n",
       "      <td>NaN</td>\n",
       "      <td>NaN</td>\n",
       "      <td>NaN</td>\n",
       "      <td>NaN</td>\n",
       "      <td>NaN</td>\n",
       "      <td>[{'author_name': 'Andries Reyskens', 'author_u...</td>\n",
       "      <td>9703710</td>\n",
       "      <td>Turkish</td>\n",
       "    </tr>\n",
       "    <tr>\n",
       "      <th>487</th>\n",
       "      <td>492</td>\n",
       "      <td>Ephese</td>\n",
       "      <td>ChIJHb75pdZ6jEcR1Mn8m__ka4E</td>\n",
       "      <td>Rue de Carouge 74, 1205 Genève, Switzerland</td>\n",
       "      <td>1205</td>\n",
       "      <td>Genève</td>\n",
       "      <td>+41 22 320 13 96</td>\n",
       "      <td>1.0</td>\n",
       "      <td>4.0</td>\n",
       "      <td>477.0</td>\n",
       "      <td>...</td>\n",
       "      <td>point_of_interest</td>\n",
       "      <td>establishment</td>\n",
       "      <td>NaN</td>\n",
       "      <td>NaN</td>\n",
       "      <td>NaN</td>\n",
       "      <td>NaN</td>\n",
       "      <td>NaN</td>\n",
       "      <td>[{'author_name': 'Twtce', 'author_url': 'https...</td>\n",
       "      <td>10337398</td>\n",
       "      <td>Turkish</td>\n",
       "    </tr>\n",
       "    <tr>\n",
       "      <th>494</th>\n",
       "      <td>499</td>\n",
       "      <td>Grill Leschot</td>\n",
       "      <td>ChIJ37MavdR6jEcRxDC7YTo9Zwc</td>\n",
       "      <td>Rue Leschot 10, 1205 Plainpalais, Switzerland</td>\n",
       "      <td>1205</td>\n",
       "      <td>Genève</td>\n",
       "      <td>+41 22 321 84 70</td>\n",
       "      <td>NaN</td>\n",
       "      <td>4.8</td>\n",
       "      <td>49.0</td>\n",
       "      <td>...</td>\n",
       "      <td>point_of_interest</td>\n",
       "      <td>establishment</td>\n",
       "      <td>NaN</td>\n",
       "      <td>NaN</td>\n",
       "      <td>NaN</td>\n",
       "      <td>NaN</td>\n",
       "      <td>NaN</td>\n",
       "      <td>[{'author_name': 'Merna S', 'author_url': 'htt...</td>\n",
       "      <td>5598038</td>\n",
       "      <td>Turkish</td>\n",
       "    </tr>\n",
       "  </tbody>\n",
       "</table>\n",
       "<p>6 rows × 24 columns</p>\n",
       "</div>"
      ],
      "text/plain": [
       "     index                      name                     place_id  \\\n",
       "17      17              La Turquoise  ChIJ4XuI41xljEcR_y2uFNcgGb4   \n",
       "52     647            Ali Baba Kebab  ChIJi6ywySFljEcRlmaKY69Vxa4   \n",
       "107    109  KAPRiS KEBAP PIZZA TACOS  ChIJ_2QNS15ljEcR4rWSZa8RiOo   \n",
       "304    306          Saveurs d’Orient  ChIJ_4p5n9lkjEcRdqDv5X0JmIw   \n",
       "487    492                    Ephese  ChIJHb75pdZ6jEcR1Mn8m__ka4E   \n",
       "494    499             Grill Leschot  ChIJ37MavdR6jEcRxDC7YTo9Zwc   \n",
       "\n",
       "                                     formatted_address  zip_code    city  \\\n",
       "17   Centre Commercial Balexert, Av. Louis-Casaï 27...      1209  Genève   \n",
       "52        Rue de Lausanne 65, 1202 Genève, Switzerland      1202  Genève   \n",
       "107          Rte de Meyrin 4, 1202 Genève, Switzerland      1202  Genève   \n",
       "304    Rue de la Servette 19, 1201 Genève, Switzerland      1201  Genève   \n",
       "487        Rue de Carouge 74, 1205 Genève, Switzerland      1205  Genève   \n",
       "494      Rue Leschot 10, 1205 Plainpalais, Switzerland      1205  Genève   \n",
       "\n",
       "    international_phone_number  price_level  rating  user_ratings_total  ...  \\\n",
       "17            +41 22 796 54 52          NaN     4.1                76.0  ...   \n",
       "52            +41 22 738 71 00          1.0     4.3               250.0  ...   \n",
       "107           +41 22 734 36 83          NaN     4.1               299.0  ...   \n",
       "304           +41 22 734 37 02          NaN     4.0                56.0  ...   \n",
       "487           +41 22 320 13 96          1.0     4.0               477.0  ...   \n",
       "494           +41 22 321 84 70          NaN     4.8                49.0  ...   \n",
       "\n",
       "                 types3              types4          types5 types6 types7  \\\n",
       "17    point_of_interest       establishment             NaN    NaN    NaN   \n",
       "52    point_of_interest       establishment             NaN    NaN    NaN   \n",
       "107                food   point_of_interest   establishment    NaN    NaN   \n",
       "304   point_of_interest       establishment             NaN    NaN    NaN   \n",
       "487   point_of_interest       establishment             NaN    NaN    NaN   \n",
       "494   point_of_interest       establishment             NaN    NaN    NaN   \n",
       "\n",
       "    types8 types9                                            reviews  \\\n",
       "17     NaN    NaN  [{'author_name': 'A WB', 'author_url': 'https:...   \n",
       "52     NaN    NaN  [{'author_name': 'Deep Multani', 'author_url':...   \n",
       "107    NaN    NaN  [{'author_name': 'Jessyca Zaniboni', 'author_u...   \n",
       "304    NaN    NaN  [{'author_name': 'Andries Reyskens', 'author_u...   \n",
       "487    NaN    NaN  [{'author_name': 'Twtce', 'author_url': 'https...   \n",
       "494    NaN    NaN  [{'author_name': 'Merna S', 'author_url': 'htt...   \n",
       "\n",
       "        ta_id ta_cuisine  \n",
       "17    1604426    Turkish  \n",
       "52   16380947    Turkish  \n",
       "107   9772773    Turkish  \n",
       "304   9703710    Turkish  \n",
       "487  10337398    Turkish  \n",
       "494   5598038    Turkish  \n",
       "\n",
       "[6 rows x 24 columns]"
      ]
     },
     "execution_count": 42,
     "metadata": {},
     "output_type": "execute_result"
    }
   ],
   "source": [
    "# number of Turkish restaurant based on ta_cuisine column\n",
    "\n",
    "\n",
    "df.loc[df[\"ta_cuisine\"].str.contains(\"Turkish\")]  # 6 restaurants showed also on the map"
   ]
  },
  {
   "cell_type": "code",
   "execution_count": null,
   "id": "e95cf5fa",
   "metadata": {},
   "outputs": [],
   "source": [
    "map = folium.Map(location = [lat, lng], zoom_start = 13, tiles = \"Mapbox bright\")\n",
    "feature_group = folium.FeatureGroup(\"Locations\")\n",
    "\n",
    "def search_venue(df, category):\n",
    "  search = lambda x:True if category.capitalize() in x else False\n",
    "  venues = df[df['ta_cuisine'].apply(search)].reset_index(drop='index')\n",
    "  venues_lat_long = list(zip(venues['geometry.location.lat'], venues['geometry.location.lng']))\n",
    "  return venues_lat_long\n",
    "\n",
    "\n",
    "\n",
    "for lat, lng, name in zip(venues['geometry.location.lat'], venues['geometry.location.lng'], venues['rating']):\n",
    "    feature_group.add_child(folium.Marker(location=[lat,lon],popup=name))\n",
    "\n",
    "map.add_child(feature_group)"
   ]
  },
  {
   "cell_type": "code",
   "execution_count": 73,
   "id": "56bb241d",
   "metadata": {},
   "outputs": [
    {
     "data": {
      "text/plain": [
       "Index(['index', 'name', 'place_id', 'formatted_address', 'zip_code', 'city',\n",
       "       'international_phone_number', 'price_level', 'rating',\n",
       "       'user_ratings_total', 'geometry.location.lat', 'geometry.location.lng',\n",
       "       'types1', 'types2', 'types3', 'types4', 'types5', 'types6', 'types7',\n",
       "       'types8', 'types9', 'reviews', 'ta_id', 'ta_cuisine'],\n",
       "      dtype='object')"
      ]
     },
     "execution_count": 73,
     "metadata": {},
     "output_type": "execute_result"
    }
   ],
   "source": [
    "df.columns"
   ]
  },
  {
   "cell_type": "code",
   "execution_count": null,
   "id": "595be7b3",
   "metadata": {},
   "outputs": [],
   "source": []
  },
  {
   "cell_type": "code",
   "execution_count": null,
   "id": "c0ec67b5",
   "metadata": {},
   "outputs": [],
   "source": []
  },
  {
   "cell_type": "code",
   "execution_count": null,
   "id": "e680f205",
   "metadata": {},
   "outputs": [],
   "source": []
  },
  {
   "cell_type": "code",
   "execution_count": null,
   "id": "1607cb7e",
   "metadata": {},
   "outputs": [],
   "source": []
  },
  {
   "cell_type": "code",
   "execution_count": null,
   "id": "1f629185",
   "metadata": {},
   "outputs": [],
   "source": []
  },
  {
   "cell_type": "code",
   "execution_count": 46,
   "id": "9c7aaca3",
   "metadata": {},
   "outputs": [
    {
     "data": {
      "text/plain": [
       "17     4.1\n",
       "52     4.3\n",
       "107    4.1\n",
       "304    4.0\n",
       "487    4.0\n",
       "494    4.8\n",
       "Name: rating, dtype: float64"
      ]
     },
     "execution_count": 46,
     "metadata": {},
     "output_type": "execute_result"
    }
   ],
   "source": [
    "df.loc[df[\"ta_cuisine\"].str.contains(\"Turkish\")].rating\n",
    "#category[[\"rating\"]]"
   ]
  },
  {
   "cell_type": "code",
   "execution_count": 47,
   "id": "dec8622e",
   "metadata": {},
   "outputs": [
    {
     "data": {
      "text/html": [
       "<div>\n",
       "<style scoped>\n",
       "    .dataframe tbody tr th:only-of-type {\n",
       "        vertical-align: middle;\n",
       "    }\n",
       "\n",
       "    .dataframe tbody tr th {\n",
       "        vertical-align: top;\n",
       "    }\n",
       "\n",
       "    .dataframe thead th {\n",
       "        text-align: right;\n",
       "    }\n",
       "</style>\n",
       "<table border=\"1\" class=\"dataframe\">\n",
       "  <thead>\n",
       "    <tr style=\"text-align: right;\">\n",
       "      <th></th>\n",
       "      <th>geometry.location.lat</th>\n",
       "      <th>geometry.location.lng</th>\n",
       "    </tr>\n",
       "  </thead>\n",
       "  <tbody>\n",
       "    <tr>\n",
       "      <th>17</th>\n",
       "      <td>46.219564</td>\n",
       "      <td>6.113111</td>\n",
       "    </tr>\n",
       "    <tr>\n",
       "      <th>52</th>\n",
       "      <td>46.215552</td>\n",
       "      <td>6.146822</td>\n",
       "    </tr>\n",
       "    <tr>\n",
       "      <th>107</th>\n",
       "      <td>46.214193</td>\n",
       "      <td>6.128963</td>\n",
       "    </tr>\n",
       "    <tr>\n",
       "      <th>304</th>\n",
       "      <td>46.209693</td>\n",
       "      <td>6.138007</td>\n",
       "    </tr>\n",
       "    <tr>\n",
       "      <th>487</th>\n",
       "      <td>46.192410</td>\n",
       "      <td>6.143787</td>\n",
       "    </tr>\n",
       "    <tr>\n",
       "      <th>494</th>\n",
       "      <td>46.196512</td>\n",
       "      <td>6.144204</td>\n",
       "    </tr>\n",
       "  </tbody>\n",
       "</table>\n",
       "</div>"
      ],
      "text/plain": [
       "     geometry.location.lat  geometry.location.lng\n",
       "17               46.219564               6.113111\n",
       "52               46.215552               6.146822\n",
       "107              46.214193               6.128963\n",
       "304              46.209693               6.138007\n",
       "487              46.192410               6.143787\n",
       "494              46.196512               6.144204"
      ]
     },
     "execution_count": 47,
     "metadata": {},
     "output_type": "execute_result"
    }
   ],
   "source": [
    "category=df.loc[df[\"ta_cuisine\"].str.contains(\"Turkish\")]\n",
    "category[[\"geometry.location.lat\", \"geometry.location.lng\"]]"
   ]
  },
  {
   "cell_type": "code",
   "execution_count": 65,
   "id": "1a7ad1f1",
   "metadata": {},
   "outputs": [
    {
     "data": {
      "text/html": [
       "<div>\n",
       "<style scoped>\n",
       "    .dataframe tbody tr th:only-of-type {\n",
       "        vertical-align: middle;\n",
       "    }\n",
       "\n",
       "    .dataframe tbody tr th {\n",
       "        vertical-align: top;\n",
       "    }\n",
       "\n",
       "    .dataframe thead th {\n",
       "        text-align: right;\n",
       "    }\n",
       "</style>\n",
       "<table border=\"1\" class=\"dataframe\">\n",
       "  <thead>\n",
       "    <tr style=\"text-align: right;\">\n",
       "      <th></th>\n",
       "      <th>geometry.location.lat</th>\n",
       "      <th>geometry.location.lng</th>\n",
       "      <th>rating</th>\n",
       "    </tr>\n",
       "  </thead>\n",
       "  <tbody>\n",
       "    <tr>\n",
       "      <th>17</th>\n",
       "      <td>46.219564</td>\n",
       "      <td>6.113111</td>\n",
       "      <td>4.1</td>\n",
       "    </tr>\n",
       "    <tr>\n",
       "      <th>52</th>\n",
       "      <td>46.215552</td>\n",
       "      <td>6.146822</td>\n",
       "      <td>4.3</td>\n",
       "    </tr>\n",
       "    <tr>\n",
       "      <th>107</th>\n",
       "      <td>46.214193</td>\n",
       "      <td>6.128963</td>\n",
       "      <td>4.1</td>\n",
       "    </tr>\n",
       "    <tr>\n",
       "      <th>304</th>\n",
       "      <td>46.209693</td>\n",
       "      <td>6.138007</td>\n",
       "      <td>4.0</td>\n",
       "    </tr>\n",
       "    <tr>\n",
       "      <th>487</th>\n",
       "      <td>46.192410</td>\n",
       "      <td>6.143787</td>\n",
       "      <td>4.0</td>\n",
       "    </tr>\n",
       "    <tr>\n",
       "      <th>494</th>\n",
       "      <td>46.196512</td>\n",
       "      <td>6.144204</td>\n",
       "      <td>4.8</td>\n",
       "    </tr>\n",
       "  </tbody>\n",
       "</table>\n",
       "</div>"
      ],
      "text/plain": [
       "     geometry.location.lat  geometry.location.lng  rating\n",
       "17               46.219564               6.113111     4.1\n",
       "52               46.215552               6.146822     4.3\n",
       "107              46.214193               6.128963     4.1\n",
       "304              46.209693               6.138007     4.0\n",
       "487              46.192410               6.143787     4.0\n",
       "494              46.196512               6.144204     4.8"
      ]
     },
     "execution_count": 65,
     "metadata": {},
     "output_type": "execute_result"
    }
   ],
   "source": [
    "category=df.loc[df[\"ta_cuisine\"].str.contains(\"Turkish\")]\n",
    "category[[\"geometry.location.lat\", \"geometry.location.lng\", \"rating\"]]"
   ]
  },
  {
   "cell_type": "code",
   "execution_count": 43,
   "id": "0600f36c",
   "metadata": {},
   "outputs": [
    {
     "data": {
      "text/html": [
       "<div>\n",
       "<style scoped>\n",
       "    .dataframe tbody tr th:only-of-type {\n",
       "        vertical-align: middle;\n",
       "    }\n",
       "\n",
       "    .dataframe tbody tr th {\n",
       "        vertical-align: top;\n",
       "    }\n",
       "\n",
       "    .dataframe thead th {\n",
       "        text-align: right;\n",
       "    }\n",
       "</style>\n",
       "<table border=\"1\" class=\"dataframe\">\n",
       "  <thead>\n",
       "    <tr style=\"text-align: right;\">\n",
       "      <th></th>\n",
       "      <th>index</th>\n",
       "      <th>name</th>\n",
       "      <th>place_id</th>\n",
       "      <th>formatted_address</th>\n",
       "      <th>zip_code</th>\n",
       "      <th>city</th>\n",
       "      <th>international_phone_number</th>\n",
       "      <th>price_level</th>\n",
       "      <th>rating</th>\n",
       "      <th>user_ratings_total</th>\n",
       "      <th>...</th>\n",
       "      <th>types3</th>\n",
       "      <th>types4</th>\n",
       "      <th>types5</th>\n",
       "      <th>types6</th>\n",
       "      <th>types7</th>\n",
       "      <th>types8</th>\n",
       "      <th>types9</th>\n",
       "      <th>reviews</th>\n",
       "      <th>ta_id</th>\n",
       "      <th>ta_cuisine</th>\n",
       "    </tr>\n",
       "  </thead>\n",
       "  <tbody>\n",
       "    <tr>\n",
       "      <th>0</th>\n",
       "      <td>0</td>\n",
       "      <td>Café Restaurant Palma</td>\n",
       "      <td>ChIJX68uubZkjEcRKKxpZ7OrgqU</td>\n",
       "      <td>Av. d'Aïre 93bis, 1203 Genève, Switzerland</td>\n",
       "      <td>1203</td>\n",
       "      <td>Genève</td>\n",
       "      <td>+41 22 345 84 48</td>\n",
       "      <td>NaN</td>\n",
       "      <td>3.7</td>\n",
       "      <td>141.0</td>\n",
       "      <td>...</td>\n",
       "      <td>point_of_interest</td>\n",
       "      <td>establishment</td>\n",
       "      <td>NaN</td>\n",
       "      <td>NaN</td>\n",
       "      <td>NaN</td>\n",
       "      <td>NaN</td>\n",
       "      <td>NaN</td>\n",
       "      <td>[{'author_name': 'Amin Masroor', 'author_url':...</td>\n",
       "      <td>13322506</td>\n",
       "      <td>0</td>\n",
       "    </tr>\n",
       "    <tr>\n",
       "      <th>1</th>\n",
       "      <td>1</td>\n",
       "      <td>Restaurant La Tentation</td>\n",
       "      <td>ChIJd6kh67ZkjEcRC1IQourQOyo</td>\n",
       "      <td>Av. d'Aïre 91, 1203 Genève, Switzerland</td>\n",
       "      <td>1203</td>\n",
       "      <td>Genève</td>\n",
       "      <td>+41 22 344 28 29</td>\n",
       "      <td>2.0</td>\n",
       "      <td>4.2</td>\n",
       "      <td>158.0</td>\n",
       "      <td>...</td>\n",
       "      <td>point_of_interest</td>\n",
       "      <td>establishment</td>\n",
       "      <td>NaN</td>\n",
       "      <td>NaN</td>\n",
       "      <td>NaN</td>\n",
       "      <td>NaN</td>\n",
       "      <td>NaN</td>\n",
       "      <td>[{'author_name': 'Lorcan Flynn', 'author_url':...</td>\n",
       "      <td>7159041</td>\n",
       "      <td>European</td>\n",
       "    </tr>\n",
       "    <tr>\n",
       "      <th>2</th>\n",
       "      <td>879</td>\n",
       "      <td>McDonald’s</td>\n",
       "      <td>ChIJ-wXg9zFljEcROYaIkweg4dE</td>\n",
       "      <td>Cr de Rive 3, 1204 Genève, Switzerland</td>\n",
       "      <td>1204</td>\n",
       "      <td>Genève</td>\n",
       "      <td>+41 22 311 85 75</td>\n",
       "      <td>2.0</td>\n",
       "      <td>3.7</td>\n",
       "      <td>2274.0</td>\n",
       "      <td>...</td>\n",
       "      <td>food</td>\n",
       "      <td>point_of_interest</td>\n",
       "      <td>establishment</td>\n",
       "      <td>NaN</td>\n",
       "      <td>NaN</td>\n",
       "      <td>NaN</td>\n",
       "      <td>NaN</td>\n",
       "      <td>[{'author_name': 'EMILY DOEBELI', 'author_url'...</td>\n",
       "      <td>19951486</td>\n",
       "      <td>American</td>\n",
       "    </tr>\n",
       "    <tr>\n",
       "      <th>3</th>\n",
       "      <td>178</td>\n",
       "      <td>McDonald’s</td>\n",
       "      <td>ChIJARjSeiV7jEcR8tydzSBs3no</td>\n",
       "      <td>Rte des Jeunes 9, 1227 Genève, Switzerland</td>\n",
       "      <td>1227</td>\n",
       "      <td>Genève</td>\n",
       "      <td>+41 22 301 99 11</td>\n",
       "      <td>2.0</td>\n",
       "      <td>3.8</td>\n",
       "      <td>1633.0</td>\n",
       "      <td>...</td>\n",
       "      <td>food</td>\n",
       "      <td>point_of_interest</td>\n",
       "      <td>establishment</td>\n",
       "      <td>NaN</td>\n",
       "      <td>NaN</td>\n",
       "      <td>NaN</td>\n",
       "      <td>NaN</td>\n",
       "      <td>[{'author_name': 'krishna chaitanya', 'author_...</td>\n",
       "      <td>23309074</td>\n",
       "      <td>0</td>\n",
       "    </tr>\n",
       "    <tr>\n",
       "      <th>4</th>\n",
       "      <td>883</td>\n",
       "      <td>The Hamburger Foundation - Pâquis</td>\n",
       "      <td>ChIJHxrrfiRljEcRogBS47e2k0o</td>\n",
       "      <td>Rue Philippe-Plantamour 37, 1201 Genève, Switz...</td>\n",
       "      <td>1201</td>\n",
       "      <td>Genève</td>\n",
       "      <td>0</td>\n",
       "      <td>2.0</td>\n",
       "      <td>4.1</td>\n",
       "      <td>1350.0</td>\n",
       "      <td>...</td>\n",
       "      <td>food</td>\n",
       "      <td>point_of_interest</td>\n",
       "      <td>establishment</td>\n",
       "      <td>NaN</td>\n",
       "      <td>NaN</td>\n",
       "      <td>NaN</td>\n",
       "      <td>NaN</td>\n",
       "      <td>[{'author_name': 'Jad Khalidy', 'author_url': ...</td>\n",
       "      <td>6033142</td>\n",
       "      <td>American</td>\n",
       "    </tr>\n",
       "  </tbody>\n",
       "</table>\n",
       "<p>5 rows × 24 columns</p>\n",
       "</div>"
      ],
      "text/plain": [
       "   index                               name                     place_id  \\\n",
       "0      0              Café Restaurant Palma  ChIJX68uubZkjEcRKKxpZ7OrgqU   \n",
       "1      1            Restaurant La Tentation  ChIJd6kh67ZkjEcRC1IQourQOyo   \n",
       "2    879                         McDonald’s  ChIJ-wXg9zFljEcROYaIkweg4dE   \n",
       "3    178                         McDonald’s  ChIJARjSeiV7jEcR8tydzSBs3no   \n",
       "4    883  The Hamburger Foundation - Pâquis  ChIJHxrrfiRljEcRogBS47e2k0o   \n",
       "\n",
       "                                   formatted_address  zip_code    city  \\\n",
       "0         Av. d'Aïre 93bis, 1203 Genève, Switzerland      1203  Genève   \n",
       "1            Av. d'Aïre 91, 1203 Genève, Switzerland      1203  Genève   \n",
       "2             Cr de Rive 3, 1204 Genève, Switzerland      1204  Genève   \n",
       "3         Rte des Jeunes 9, 1227 Genève, Switzerland      1227  Genève   \n",
       "4  Rue Philippe-Plantamour 37, 1201 Genève, Switz...      1201  Genève   \n",
       "\n",
       "  international_phone_number  price_level  rating  user_ratings_total  ...  \\\n",
       "0           +41 22 345 84 48          NaN     3.7               141.0  ...   \n",
       "1           +41 22 344 28 29          2.0     4.2               158.0  ...   \n",
       "2           +41 22 311 85 75          2.0     3.7              2274.0  ...   \n",
       "3           +41 22 301 99 11          2.0     3.8              1633.0  ...   \n",
       "4                          0          2.0     4.1              1350.0  ...   \n",
       "\n",
       "               types3              types4          types5 types6 types7  \\\n",
       "0   point_of_interest       establishment             NaN    NaN    NaN   \n",
       "1   point_of_interest       establishment             NaN    NaN    NaN   \n",
       "2                food   point_of_interest   establishment    NaN    NaN   \n",
       "3                food   point_of_interest   establishment    NaN    NaN   \n",
       "4                food   point_of_interest   establishment    NaN    NaN   \n",
       "\n",
       "  types8 types9                                            reviews     ta_id  \\\n",
       "0    NaN    NaN  [{'author_name': 'Amin Masroor', 'author_url':...  13322506   \n",
       "1    NaN    NaN  [{'author_name': 'Lorcan Flynn', 'author_url':...   7159041   \n",
       "2    NaN    NaN  [{'author_name': 'EMILY DOEBELI', 'author_url'...  19951486   \n",
       "3    NaN    NaN  [{'author_name': 'krishna chaitanya', 'author_...  23309074   \n",
       "4    NaN    NaN  [{'author_name': 'Jad Khalidy', 'author_url': ...   6033142   \n",
       "\n",
       "  ta_cuisine  \n",
       "0          0  \n",
       "1   European  \n",
       "2   American  \n",
       "3          0  \n",
       "4   American  \n",
       "\n",
       "[5 rows x 24 columns]"
      ]
     },
     "execution_count": 43,
     "metadata": {},
     "output_type": "execute_result"
    }
   ],
   "source": [
    "df.head()"
   ]
  },
  {
   "cell_type": "code",
   "execution_count": null,
   "id": "c4ba90ef",
   "metadata": {},
   "outputs": [],
   "source": [
    "# showing restaurans with ratings\n",
    "# using custom markers\n",
    "\n"
   ]
  },
  {
   "cell_type": "code",
   "execution_count": 26,
   "id": "9d80c4a7",
   "metadata": {},
   "outputs": [
    {
     "data": {
      "text/plain": [
       "0.0"
      ]
     },
     "execution_count": 26,
     "metadata": {},
     "output_type": "execute_result"
    }
   ],
   "source": [
    "df.rating.min()"
   ]
  },
  {
   "cell_type": "code",
   "execution_count": 27,
   "id": "21d42dc8",
   "metadata": {},
   "outputs": [
    {
     "data": {
      "text/plain": [
       "5.0"
      ]
     },
     "execution_count": 27,
     "metadata": {},
     "output_type": "execute_result"
    }
   ],
   "source": [
    "df.rating.max()"
   ]
  },
  {
   "cell_type": "code",
   "execution_count": null,
   "id": "33c3ca3d",
   "metadata": {},
   "outputs": [],
   "source": []
  }
 ],
 "metadata": {
  "kernelspec": {
   "display_name": "Python 3 (ipykernel)",
   "language": "python",
   "name": "python3"
  },
  "language_info": {
   "codemirror_mode": {
    "name": "ipython",
    "version": 3
   },
   "file_extension": ".py",
   "mimetype": "text/x-python",
   "name": "python",
   "nbconvert_exporter": "python",
   "pygments_lexer": "ipython3",
   "version": "3.8.13"
  },
  "toc": {
   "base_numbering": 1,
   "nav_menu": {},
   "number_sections": true,
   "sideBar": true,
   "skip_h1_title": false,
   "title_cell": "Table of Contents",
   "title_sidebar": "Contents",
   "toc_cell": false,
   "toc_position": {},
   "toc_section_display": true,
   "toc_window_display": false
  }
 },
 "nbformat": 4,
 "nbformat_minor": 5
}
