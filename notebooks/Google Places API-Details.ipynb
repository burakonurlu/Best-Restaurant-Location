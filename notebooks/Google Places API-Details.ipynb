{
 "cells": [
  {
   "cell_type": "code",
   "execution_count": 1,
   "id": "1d840b5a",
   "metadata": {},
   "outputs": [],
   "source": [
    "# required modules\n",
    "import pandas as pd\n",
    "import numpy as np \n",
    "import matplotlib\n",
    "%matplotlib inline\n",
    "matplotlib.style.use('default')\n",
    "import requests\n",
    "import json"
   ]
  },
  {
   "cell_type": "code",
   "execution_count": 9,
   "id": "e1f07532",
   "metadata": {},
   "outputs": [],
   "source": [
    "# data and google api key setup\n",
    "#google_api_access_key = open('../.env/.google_api_access_key').read()  #burak's key\n",
    "google_api_access_key = open('../.env/.key').read()                     #Tchucky's key"
   ]
  },
  {
   "cell_type": "markdown",
   "id": "f4b5facb",
   "metadata": {},
   "source": [
    "# Google Places Nearby Search"
   ]
  },
  {
   "cell_type": "code",
   "execution_count": null,
   "id": "eaf00923",
   "metadata": {},
   "outputs": [],
   "source": [
    "# Sample coordinate\n",
    "lat, lng = grid_points_array[1][0], grid_points_array[1][1]\n",
    "print(lat, lng)\n",
    "\n",
    "# Sample response / Google nearby search\n",
    "base_url = 'https://maps.googleapis.com/maps/api/place/nearbysearch/json?'\n",
    "\n",
    "params = {\n",
    "    'keyword':'restaurant',\n",
    "    'location':f'{lat},{lng}',\n",
    "    'radius':100,\n",
    "    'region':'ch',\n",
    "    'key':google_api_access_key\n",
    "}\n",
    "\n",
    "response_sample = requests.get(base_url, params=params).json()\n",
    "df_sample = pd.json_normalize(response_sample['results'])\\\n",
    "        [['name',\n",
    "          'place_id',\n",
    "          'types',\n",
    "          'price_level',\n",
    "          'rating',\n",
    "          'user_ratings_total',\n",
    "          'vicinity',\n",
    "          'plus_code.global_code',\n",
    "          'geometry.location.lat',\n",
    "          'geometry.location.lng']]\n",
    "df_sample"
   ]
  },
  {
   "cell_type": "code",
   "execution_count": null,
   "id": "b759e55f",
   "metadata": {},
   "outputs": [],
   "source": [
    "%%time\n",
    "#this is my test to check the git (Tchucky)\n",
    "base_url = 'https://maps.googleapis.com/maps/api/place/nearbysearch/json?' # base url\n",
    "\n",
    "df_restaurants = pd.DataFrame()\n",
    "\n",
    "for row in grid_points_array:\n",
    "    lat, lng = row[0], row[1]\n",
    "    radius = 100 #meters\n",
    "\n",
    "    params = {\n",
    "        'keyword':'restaurant',\n",
    "        'location':f'{lat},{lng}',\n",
    "        'radius':radius,\n",
    "        'region':'ch',\n",
    "        'key':google_api_access_key\n",
    "    }\n",
    "    \n",
    "    try:\n",
    "        response_basic = requests.get(base_url, params=params).json()\n",
    "\n",
    "        # create a temporarily dataframe to hold response\n",
    "        df_temp= pd.json_normalize(response_basic['results'])\\\n",
    "            [['name',\n",
    "              'place_id',\n",
    "              'types',\n",
    "              'price_level',\n",
    "              'rating',\n",
    "              'user_ratings_total',\n",
    "              'vicinity',\n",
    "              'plus_code.global_code',\n",
    "              'geometry.location.lat',\n",
    "              'geometry.location.lng']]\n",
    "\n",
    "        # concat and remove duplicates (beware drop_duplicates do not work due to lists values)\n",
    "        drop_ref = df_temp.drop(columns=['types']).columns.to_list()\n",
    "        df_restaurants = pd.concat([df_restaurants, df_temp], axis=0)\\\n",
    "            .drop_duplicates(drop_ref)\\\n",
    "            .reset_index(drop=True)\n",
    "        \n",
    "    except:\n",
    "        continue\n",
    "print(f'last_row: {row}')"
   ]
  },
  {
   "cell_type": "code",
   "execution_count": null,
   "id": "b9f24a15",
   "metadata": {},
   "outputs": [],
   "source": [
    "df_restaurants"
   ]
  },
  {
   "cell_type": "code",
   "execution_count": null,
   "id": "6492dcff",
   "metadata": {},
   "outputs": [],
   "source": [
    "df_restaurants.to_csv('../raw_data/raw_data_google_api.csv', encoding='utf-8-sig')"
   ]
  },
  {
   "cell_type": "markdown",
   "id": "4053cbec",
   "metadata": {},
   "source": [
    "# Google Places Details Search"
   ]
  },
  {
   "cell_type": "code",
   "execution_count": 47,
   "id": "af2e65e0",
   "metadata": {},
   "outputs": [],
   "source": [
    "df_id = pd.read_csv('../raw_data/raw_data_google_api.csv', encoding='utf-8-sig')['place_id']\n",
    "# df_id = df_id.head(5)\n",
    "# df_id"
   ]
  },
  {
   "cell_type": "code",
   "execution_count": null,
   "id": "74001b97",
   "metadata": {},
   "outputs": [
    {
     "name": "stdout",
     "output_type": "stream",
     "text": [
      "5"
     ]
    }
   ],
   "source": [
    "# Sample response / Google Places Details search\n",
    "base_url = 'https://maps.googleapis.com/maps/api/place/details/json?'\n",
    "fields = 'place_id,name,international_phone_number,formatted_address,types,rating,review,user_ratings_total,price_level'\n",
    "\n",
    "#grab the first line, just to have the columns in the daframe for pandas\n",
    "params = {\n",
    "    'place_id':df_id[0],\n",
    "    'fields':fields,\n",
    "    'key':google_api_access_key}\n",
    "response_details_sample = requests.get(base_url, params=params, timeout=2).json()\n",
    "df_details_sample = pd.json_normalize(response_details_sample['result'])\n",
    "c=1\n",
    "\n",
    "for i in df_id:\n",
    "    # field dimension to investigate\n",
    "    print('\\r\\r\\r\\r',end=str(c),flush=True)\n",
    "    c+=1\n",
    "    params = {\n",
    "        'place_id':i,\n",
    "        'fields':fields,\n",
    "        'key':google_api_access_key\n",
    "    }\n",
    "    response_details_sample = requests.get(base_url, params=params, timeout=5).json()\n",
    "    try:\n",
    "        df_details_sample = pd.concat([df_details_sample,pd.json_normalize(response_details_sample['result'])])\n",
    "    except:\n",
    "        continue"
   ]
  },
  {
   "cell_type": "code",
   "execution_count": 64,
   "id": "b2c76280",
   "metadata": {},
   "outputs": [],
   "source": [
    "df_details_sample.to_csv('../raw_data/raw_data_google_details.csv', encoding='utf-8-sig')"
   ]
  },
  {
   "cell_type": "code",
   "execution_count": 63,
   "id": "6f3fdda7",
   "metadata": {},
   "outputs": [
    {
     "data": {
      "text/plain": [
       "(115, 9)"
      ]
     },
     "execution_count": 63,
     "metadata": {},
     "output_type": "execute_result"
    }
   ],
   "source": [
    "df_details_sample.shape"
   ]
  },
  {
   "cell_type": "code",
   "execution_count": 59,
   "id": "868d9865",
   "metadata": {},
   "outputs": [
    {
     "name": "stdout",
     "output_type": "stream",
     "text": [
      "\r",
      "0\r",
      "1\r",
      "2\r",
      "3\r",
      "4\r",
      "5\r",
      "6\r",
      "7\r",
      "8\r",
      "9\r",
      "10\r",
      "11\r",
      "12\r",
      "13\r",
      "14\r",
      "15\r",
      "16\r",
      "17\r",
      "18\r",
      "19\r",
      "20\r",
      "21\r",
      "22\r",
      "23\r",
      "24\r",
      "25\r",
      "26\r",
      "27\r",
      "28\r",
      "29\r",
      "30\r",
      "31\r",
      "32\r",
      "33\r",
      "34\r",
      "35\r",
      "36\r",
      "37\r",
      "38\r",
      "39\r",
      "40\r",
      "41\r",
      "42\r",
      "43\r",
      "44\r",
      "45\r",
      "46\r",
      "47\r",
      "48\r",
      "49"
     ]
    }
   ],
   "source": [
    "for i in range(50):\n",
    "    print('\\r',end=str(i))\n",
    "    #print('test')"
   ]
  },
  {
   "cell_type": "code",
   "execution_count": null,
   "id": "95b904b6",
   "metadata": {},
   "outputs": [],
   "source": []
  }
 ],
 "metadata": {
  "kernelspec": {
   "display_name": "Python 3 (ipykernel)",
   "language": "python",
   "name": "python3"
  },
  "language_info": {
   "codemirror_mode": {
    "name": "ipython",
    "version": 3
   },
   "file_extension": ".py",
   "mimetype": "text/x-python",
   "name": "python",
   "nbconvert_exporter": "python",
   "pygments_lexer": "ipython3",
   "version": "3.10.4"
  },
  "toc": {
   "base_numbering": 1,
   "nav_menu": {},
   "number_sections": true,
   "sideBar": true,
   "skip_h1_title": false,
   "title_cell": "Table of Contents",
   "title_sidebar": "Contents",
   "toc_cell": false,
   "toc_position": {},
   "toc_section_display": true,
   "toc_window_display": false
  },
  "varInspector": {
   "cols": {
    "lenName": 16,
    "lenType": 16,
    "lenVar": 40
   },
   "kernels_config": {
    "python": {
     "delete_cmd_postfix": "",
     "delete_cmd_prefix": "del ",
     "library": "var_list.py",
     "varRefreshCmd": "print(var_dic_list())"
    },
    "r": {
     "delete_cmd_postfix": ") ",
     "delete_cmd_prefix": "rm(",
     "library": "var_list.r",
     "varRefreshCmd": "cat(var_dic_list()) "
    }
   },
   "types_to_exclude": [
    "module",
    "function",
    "builtin_function_or_method",
    "instance",
    "_Feature"
   ],
   "window_display": false
  }
 },
 "nbformat": 4,
 "nbformat_minor": 5
}
