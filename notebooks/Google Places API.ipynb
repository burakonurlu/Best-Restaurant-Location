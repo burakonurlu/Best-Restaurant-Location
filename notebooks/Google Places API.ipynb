{
 "cells": [
  {
   "cell_type": "code",
   "execution_count": null,
   "id": "1d840b5a",
   "metadata": {},
   "outputs": [],
   "source": [
    "# required modules\n",
    "import pandas as pd\n",
    "import numpy as np \n",
    "import matplotlib\n",
    "%matplotlib inline\n",
    "matplotlib.style.use('default')\n",
    "import requests\n",
    "import json"
   ]
  },
  {
   "cell_type": "code",
   "execution_count": null,
   "id": "e1f07532",
   "metadata": {},
   "outputs": [],
   "source": [
    "# data and google api key setup\n",
    "#google_api_access_key = open('../.env/.google_api_access_key').read()\n",
    "google_api_access_key = open('../.env/.key').read()"
   ]
  },
  {
   "cell_type": "code",
   "execution_count": null,
   "id": "ed9fb62e",
   "metadata": {},
   "outputs": [],
   "source": [
    "# let's use our great df, we created in Grid Generator notebook\n",
    "df_grid_points_final = pd.read_excel('../raw_data/raw_data_geneva_grid_points.xlsx', usecols='B:D') \n",
    "df_grid_points_final"
   ]
  },
  {
   "cell_type": "code",
   "execution_count": null,
   "id": "a9838252",
   "metadata": {},
   "outputs": [],
   "source": [
    "# convert grid points to numpy array for an efficient iteration which is far more efficient than iterrows()\n",
    "grid_points_array = df_grid_points_final[['lat','long']].to_numpy()\n",
    "print(grid_points_array.shape)\n",
    "grid_points_array"
   ]
  },
  {
   "cell_type": "markdown",
   "id": "f4b5facb",
   "metadata": {},
   "source": [
    "# Google Places Nearby Search"
   ]
  },
  {
   "cell_type": "code",
   "execution_count": null,
   "id": "eaf00923",
   "metadata": {},
   "outputs": [],
   "source": [
    "# Sample coordinate\n",
    "lat, lng = grid_points_array[1][0], grid_points_array[1][1]\n",
    "print(lat, lng)\n",
    "\n",
    "# Sample response / Google nearby search\n",
    "base_url = 'https://maps.googleapis.com/maps/api/place/nearbysearch/json?'\n",
    "\n",
    "params = {\n",
    "    'keyword':'restaurant',\n",
    "    'location':f'{lat},{lng}',\n",
    "    'radius':100,\n",
    "    'region':'ch',\n",
    "    'key':google_api_access_key\n",
    "}\n",
    "\n",
    "response_sample = requests.get(base_url, params=params).json()\n",
    "df_sample = pd.json_normalize(response_sample['results'])\\\n",
    "        [['name',\n",
    "          'place_id',\n",
    "          'types',\n",
    "          'price_level',\n",
    "          'rating',\n",
    "          'user_ratings_total',\n",
    "          'vicinity',\n",
    "          'plus_code.global_code',\n",
    "          'geometry.location.lat',\n",
    "          'geometry.location.lng']]\n",
    "df_sample"
   ]
  },
  {
   "cell_type": "code",
   "execution_count": null,
   "id": "b759e55f",
   "metadata": {},
   "outputs": [],
   "source": [
    "%%time\n",
    "#this is my test to check the git (Tchucky)\n",
    "base_url = 'https://maps.googleapis.com/maps/api/place/nearbysearch/json?' # base url\n",
    "\n",
    "df_restaurants = pd.DataFrame()\n",
    "\n",
    "for row in grid_points_array:\n",
    "    lat, lng = row[0], row[1]\n",
    "    radius = 100 #meters\n",
    "\n",
    "    params = {\n",
    "        'keyword':'restaurant',\n",
    "        'location':f'{lat},{lng}',\n",
    "        'radius':radius,\n",
    "        'region':'ch',\n",
    "        'key':google_api_access_key\n",
    "    }\n",
    "    \n",
    "    try:\n",
    "        response_basic = requests.get(base_url, params=params).json()\n",
    "\n",
    "        # create a temporarily dataframe to hold response\n",
    "        df_temp= pd.json_normalize(response_basic['results'])\\\n",
    "            [['name',\n",
    "              'place_id',\n",
    "              'types',\n",
    "              'price_level',\n",
    "              'rating',\n",
    "              'user_ratings_total',\n",
    "              'vicinity',\n",
    "              'plus_code.global_code',\n",
    "              'geometry.location.lat',\n",
    "              'geometry.location.lng']]\n",
    "\n",
    "        # concat and remove duplicates (beware drop_duplicates do not work due to lists values)\n",
    "        drop_ref = df_temp.drop(columns=['types']).columns.to_list()\n",
    "        df_restaurants = pd.concat([df_restaurants, df_temp], axis=0)\\\n",
    "            .drop_duplicates(drop_ref)\\\n",
    "            .reset_index(drop=True)\n",
    "        \n",
    "    except:\n",
    "        continue\n",
    "print(f'last_row: {row}')"
   ]
  },
  {
   "cell_type": "code",
   "execution_count": null,
   "id": "b9f24a15",
   "metadata": {},
   "outputs": [],
   "source": [
    "df_restaurants"
   ]
  },
  {
   "cell_type": "code",
   "execution_count": null,
   "id": "6492dcff",
   "metadata": {},
   "outputs": [],
   "source": [
    "df_restaurants.to_csv('../raw_data/raw_data_google_api.csv', encoding='utf-8-sig')"
   ]
  },
  {
   "cell_type": "markdown",
   "id": "4053cbec",
   "metadata": {},
   "source": [
    "# Google Places Details Search"
   ]
  },
  {
   "cell_type": "code",
   "execution_count": null,
   "id": "74001b97",
   "metadata": {},
   "outputs": [],
   "source": [
    "# Sample response / Google Places Details search\n",
    "base_url = 'https://maps.googleapis.com/maps/api/place/details/json?'\n",
    "\n",
    "place_id = 'ChIJX68uubZkjEcRKKxpZ7OrgqU'\n",
    "\n",
    "# field dimension to investigate\n",
    "params = {\n",
    "    'place_id':place_id,\n",
    "    'key':google_api_access_key\n",
    "}\n",
    "\n",
    "# filter also columns \n",
    "response_details_sample = requests.get(base_url, params=params).json()\n",
    "df_details_sample = pd.json_normalize(response_details_sample)\n",
    "df_details_sample"
   ]
  },
  {
   "cell_type": "code",
   "execution_count": null,
   "id": "b2c76280",
   "metadata": {},
   "outputs": [],
   "source": [
    "response_details_sample"
   ]
  },
  {
   "cell_type": "code",
   "execution_count": null,
   "id": "6f3fdda7",
   "metadata": {},
   "outputs": [],
   "source": []
  }
 ],
 "metadata": {
  "kernelspec": {
   "display_name": "Python 3 (ipykernel)",
   "language": "python",
   "name": "python3"
  },
  "language_info": {
   "codemirror_mode": {
    "name": "ipython",
    "version": 3
   },
   "file_extension": ".py",
   "mimetype": "text/x-python",
   "name": "python",
   "nbconvert_exporter": "python",
   "pygments_lexer": "ipython3",
   "version": "3.10.4"
  },
  "toc": {
   "base_numbering": 1,
   "nav_menu": {},
   "number_sections": true,
   "sideBar": true,
   "skip_h1_title": false,
   "title_cell": "Table of Contents",
   "title_sidebar": "Contents",
   "toc_cell": false,
   "toc_position": {},
   "toc_section_display": true,
   "toc_window_display": false
  },
  "varInspector": {
   "cols": {
    "lenName": 16,
    "lenType": 16,
    "lenVar": 40
   },
   "kernels_config": {
    "python": {
     "delete_cmd_postfix": "",
     "delete_cmd_prefix": "del ",
     "library": "var_list.py",
     "varRefreshCmd": "print(var_dic_list())"
    },
    "r": {
     "delete_cmd_postfix": ") ",
     "delete_cmd_prefix": "rm(",
     "library": "var_list.r",
     "varRefreshCmd": "cat(var_dic_list()) "
    }
   },
   "types_to_exclude": [
    "module",
    "function",
    "builtin_function_or_method",
    "instance",
    "_Feature"
   ],
   "window_display": false
  }
 },
 "nbformat": 4,
 "nbformat_minor": 5
}
