{
 "cells": [
  {
   "cell_type": "code",
   "execution_count": 1,
   "id": "1d840b5a",
   "metadata": {},
   "outputs": [],
   "source": [
    "# required modules\n",
    "import pandas as pd\n",
    "import matplotlib\n",
    "import requests\n",
    "from IPython.display import JSON\n",
    "%matplotlib inline\n",
    "matplotlib.style.use('default')\n",
    "#this is a test to test if everthing is ok"
   ]
  },
  {
   "cell_type": "code",
   "execution_count": null,
   "id": "cf017ace",
   "metadata": {},
   "outputs": [],
   "source": [
    "url = \"https://api.foursquare.com/v3/places/search\"\n",
    "base = \"46.205,6.143\" #Geneva Center\n",
    "\n",
    "headers = {\n",
    "    \"Accept\": \"application/json\",\n",
    "    \"Authorization\": \"\"\n",
    "}\n",
    "\n",
    "par = {\n",
    "    'll':base,\n",
    "    'radius':100,\n",
    "    'category':13065,\n",
    "    'limit':50,\n",
    "    #'fields':\"name,fsq_id,categories,price,rating,stats,location,geocodes,tastes\"\n",
    "}\n",
    "\n",
    "response = requests.get(url, headers=headers, params=par).json()"
   ]
  },
  {
   "cell_type": "code",
   "execution_count": null,
   "id": "5ba4575f",
   "metadata": {
    "scrolled": true
   },
   "outputs": [],
   "source": [
    "response['results']"
   ]
  },
  {
   "cell_type": "code",
   "execution_count": null,
   "id": "822e8f76",
   "metadata": {},
   "outputs": [],
   "source": [
    "tdf = pd.json_normalize(response['results'])[[\\\n",
    "                                       'fsq_id',\n",
    "                                       'categories',\n",
    "                                       'name',\n",
    "                                       'price',\n",
    "                                       'rating',\n",
    "                                       'stats.total_ratings',\n",
    "                                       'geocodes.main.latitude',\n",
    "                                       'geocodes.main.longitude',\n",
    "                                       'location.formatted_address',\n",
    "                                       'location.locality',\n",
    "                                       #'location.neighborhood',\n",
    "                                       'location.postcode',\n",
    "                                       'location.region',\n",
    "                                       'tastes'\n",
    "                                       ]]"
   ]
  },
  {
   "cell_type": "code",
   "execution_count": null,
   "id": "d37e021c",
   "metadata": {},
   "outputs": [],
   "source": [
    "tdf.shape"
   ]
  },
  {
   "cell_type": "code",
   "execution_count": null,
   "id": "a8c63a0f",
   "metadata": {},
   "outputs": [],
   "source": [
    "def fsq(lat,lon):\n",
    "    url = \"https://api.foursquare.com/v3/places/search\"\n",
    "    #base = \"46.205,6.143\" #Geneva Center\n",
    "\n",
    "    headers = {\n",
    "        \"Accept\": \"application/json\",\n",
    "        \"Authorization\": \"fsq3V3VJ3Eo+Pxwu5vUFPK9qfRQiPyRblc7ovL8NXNqZIvg=\"\n",
    "    }\n",
    "    \n",
    "    par = {\n",
    "        'll':f'{lat},{lon}',\n",
    "        'radius':100,\n",
    "        'category':13065,\n",
    "        'limit':50,\n",
    "        'fields':\"name,fsq_id,categories,price,rating,stats,location,geocodes\"\n",
    "    }\n",
    "\n",
    "    response = requests.get(url, headers=headers, params=par).json()\n",
    "    return pd.json_normalize(response['results'])[[\\\n",
    "                                                   'fsq_id',\n",
    "                                                   'categories',\n",
    "                                                   'name',\n",
    "                                                   'price',\n",
    "                                                   'rating',\n",
    "                                                   'stats.total_ratings',\n",
    "                                                   'geocodes.main.latitude',\n",
    "                                                   'geocodes.main.longitude',\n",
    "                                                   'location.formatted_address',\n",
    "                                                   'location.locality',\n",
    "                                                   #'location.neighborhood',\n",
    "                                                   'location.postcode',\n",
    "                                                   'location.region',\n",
    "                                                   ]]"
   ]
  },
  {
   "cell_type": "code",
   "execution_count": null,
   "id": "c3018026",
   "metadata": {},
   "outputs": [],
   "source": [
    "# let's use our great df, we created in Grid Generator notebook\n",
    "df_grid_points_final = pd.read_excel('../raw_data/raw_data_geneva_grid_points.xlsx', usecols='B:D') \n",
    "#df_grid_points_final\n",
    "\n",
    "# convert grid points to numpy array for an efficient iteration which is far more efficient than iterrows()\n",
    "grid_points_array = df_grid_points_final[['lat','long']].to_numpy()\n",
    "print(grid_points_array.shape)\n",
    "grid_points_array"
   ]
  },
  {
   "cell_type": "code",
   "execution_count": null,
   "id": "e06c1b6e",
   "metadata": {},
   "outputs": [],
   "source": [
    "%%time\n",
    "\n",
    "df_restaurants = tdf\n",
    "\n",
    "for row in grid_points_array:\n",
    "    lat, lon = row[0], row[1]\n",
    "    try:\n",
    "        df_restaurants = pd.concat([df_restaurants,fsq(lat,lon)])\n",
    "        print(df_restaurants.shape)\n",
    "    except:\n",
    "        print('error')\n",
    "        continue"
   ]
  },
  {
   "cell_type": "code",
   "execution_count": null,
   "id": "d36aa0f8",
   "metadata": {},
   "outputs": [],
   "source": [
    "df_restaurants['categories']"
   ]
  },
  {
   "cell_type": "code",
   "execution_count": null,
   "id": "ae89a35f",
   "metadata": {},
   "outputs": [],
   "source": [
    "# Sample coordinate\n",
    "lat, lng = grid_points_array[1][0], grid_points_array[1][1]\n",
    "print(lat, lng)\n",
    "\n",
    "# Sample response / Google nearby search\n",
    "base_url = 'https://maps.googleapis.com/maps/api/place/nearbysearch/json?'\n",
    "\n",
    "params = {\n",
    "    'keyword':'restaurant',\n",
    "    'location':f'{lat},{lng}',\n",
    "    'radius':100,\n",
    "    'region':'ch',\n",
    "    'key':google_api_access_key\n",
    "}\n",
    "\n",
    "response_sample = requests.get(base_url, params=params).json()\n",
    "df_sample = pd.json_normalize(response_sample['results'])\\\n",
    "        [['name',\n",
    "          'place_id',\n",
    "          'types',\n",
    "          'price_level',\n",
    "          'rating',\n",
    "          'user_ratings_total',\n",
    "          'vicinity',\n",
    "          'plus_code.global_code',\n",
    "          'geometry.location.lat',\n",
    "          'geometry.location.lng']]\n",
    "df_sample"
   ]
  },
  {
   "cell_type": "code",
   "execution_count": null,
   "id": "b9f24a15",
   "metadata": {},
   "outputs": [],
   "source": [
    "df_restaurants.drop_duplicates()"
   ]
  },
  {
   "cell_type": "code",
   "execution_count": null,
   "id": "9e2fda95",
   "metadata": {},
   "outputs": [],
   "source": [
    "df_restaurants.drop_duplicates(subset='fsq_id',inplace=True)"
   ]
  },
  {
   "cell_type": "code",
   "execution_count": null,
   "id": "1e6d1747",
   "metadata": {},
   "outputs": [],
   "source": [
    "df_restaurants.shape"
   ]
  },
  {
   "cell_type": "code",
   "execution_count": null,
   "id": "6492dcff",
   "metadata": {},
   "outputs": [],
   "source": [
    "df_restaurants.to_csv('../raw_data/FourSquare.csv', encoding='utf-8-sig')"
   ]
  },
  {
   "cell_type": "markdown",
   "id": "5da5f4b3",
   "metadata": {},
   "source": [
    "### restaurant Information retrieving"
   ]
  },
  {
   "cell_type": "code",
   "execution_count": 9,
   "id": "dfa359cd",
   "metadata": {},
   "outputs": [
    {
     "data": {
      "text/plain": [
       "(654,)"
      ]
     },
     "execution_count": 9,
     "metadata": {},
     "output_type": "execute_result"
    }
   ],
   "source": [
    "df_id = pd.read_csv('../raw_data/4squareStats.csv', encoding='utf-8-sig')['place_id']\n",
    "# df_id = df_id.head(3)\n",
    "df_id.shape"
   ]
  },
  {
   "cell_type": "code",
   "execution_count": 3,
   "id": "54d3a932",
   "metadata": {},
   "outputs": [],
   "source": [
    "access_key = open('../.env/.fskey').read()                     #Tchucky's key"
   ]
  },
  {
   "cell_type": "code",
   "execution_count": null,
   "id": "fccd8515",
   "metadata": {},
   "outputs": [],
   "source": [
    "df_id[0] = '586105ca6c682b0613bd49ec'\n",
    "df_id"
   ]
  },
  {
   "cell_type": "code",
   "execution_count": 32,
   "id": "eee0f6cd",
   "metadata": {},
   "outputs": [],
   "source": [
    "df_id = df_id[:1210]"
   ]
  },
  {
   "cell_type": "code",
   "execution_count": 10,
   "id": "b06f113f",
   "metadata": {},
   "outputs": [
    {
     "name": "stdout",
     "output_type": "stream",
     "text": [
      "653"
     ]
    }
   ],
   "source": [
    "c = 0\n",
    "l = pd.DataFrame()\n",
    "#places_list = list()\n",
    "for i in df_id:\n",
    "    print('\\r\\r\\r\\r',end=str(c),flush=True)\n",
    "    c+=1\n",
    "    \n",
    "    url = f'https://api.foursquare.com/v3/places/{i}?fields=fsq_id,name,categories,tel,geocodes,rating,date_closed,stats'\n",
    "    headers = {\n",
    "        \"Accept\": \"application/json\",\n",
    "        \"Authorization\": access_key\n",
    "    }\n",
    "#     params = {\n",
    "#         'fields':'fsq_id,name,categories,tel,geocodes,rating,date_closed'\n",
    "#     }\n",
    "\n",
    "    response = requests.get(url, headers=headers, timeout=5).json()\n",
    "    l = pd.concat([l,pd.json_normalize(response)])\n",
    "    #places_list.append(response)"
   ]
  },
  {
   "cell_type": "code",
   "execution_count": 11,
   "id": "d87e20c3",
   "metadata": {},
   "outputs": [
    {
     "data": {
      "text/html": [
       "<div>\n",
       "<style scoped>\n",
       "    .dataframe tbody tr th:only-of-type {\n",
       "        vertical-align: middle;\n",
       "    }\n",
       "\n",
       "    .dataframe tbody tr th {\n",
       "        vertical-align: top;\n",
       "    }\n",
       "\n",
       "    .dataframe thead th {\n",
       "        text-align: right;\n",
       "    }\n",
       "</style>\n",
       "<table border=\"1\" class=\"dataframe\">\n",
       "  <thead>\n",
       "    <tr style=\"text-align: right;\">\n",
       "      <th></th>\n",
       "      <th>fsq_id</th>\n",
       "      <th>categories</th>\n",
       "      <th>name</th>\n",
       "      <th>rating</th>\n",
       "      <th>tel</th>\n",
       "      <th>geocodes.main.latitude</th>\n",
       "      <th>geocodes.main.longitude</th>\n",
       "      <th>geocodes.roof.latitude</th>\n",
       "      <th>geocodes.roof.longitude</th>\n",
       "      <th>stats.total_photos</th>\n",
       "      <th>stats.total_ratings</th>\n",
       "      <th>stats.total_tips</th>\n",
       "    </tr>\n",
       "  </thead>\n",
       "  <tbody>\n",
       "    <tr>\n",
       "      <th>0</th>\n",
       "      <td>4e9462d36da119d220cc880b</td>\n",
       "      <td>[{'id': 13276, 'name': 'Sushi Restaurant', 'ic...</td>\n",
       "      <td>Wasabi</td>\n",
       "      <td>6.3</td>\n",
       "      <td>022 732 36 38</td>\n",
       "      <td>46.209271</td>\n",
       "      <td>6.143641</td>\n",
       "      <td>46.209271</td>\n",
       "      <td>6.143641</td>\n",
       "      <td>20.0</td>\n",
       "      <td>63</td>\n",
       "      <td>22.0</td>\n",
       "    </tr>\n",
       "    <tr>\n",
       "      <th>0</th>\n",
       "      <td>4e96f87b9a528e6d36fe68d9</td>\n",
       "      <td>[{'id': 17069, 'name': 'Grocery Store / Superm...</td>\n",
       "      <td>Coop</td>\n",
       "      <td>6.8</td>\n",
       "      <td>NaN</td>\n",
       "      <td>46.207973</td>\n",
       "      <td>6.127459</td>\n",
       "      <td>NaN</td>\n",
       "      <td>NaN</td>\n",
       "      <td>4.0</td>\n",
       "      <td>17</td>\n",
       "      <td>4.0</td>\n",
       "    </tr>\n",
       "    <tr>\n",
       "      <th>0</th>\n",
       "      <td>4e9b21a0f790b2a91992b62f</td>\n",
       "      <td>[{'id': 13236, 'name': 'Italian Restaurant', '...</td>\n",
       "      <td>La Rotonde</td>\n",
       "      <td>6.5</td>\n",
       "      <td>022 732 85 59</td>\n",
       "      <td>46.210757</td>\n",
       "      <td>6.148566</td>\n",
       "      <td>46.210757</td>\n",
       "      <td>6.148566</td>\n",
       "      <td>9.0</td>\n",
       "      <td>19</td>\n",
       "      <td>7.0</td>\n",
       "    </tr>\n",
       "    <tr>\n",
       "      <th>0</th>\n",
       "      <td>4e9eb102e5fa0c382e117b86</td>\n",
       "      <td>[{'id': 13032, 'name': 'Cafes, Coffee, and Tea...</td>\n",
       "      <td>La Cantinella</td>\n",
       "      <td>8.0</td>\n",
       "      <td>022 301 90 90</td>\n",
       "      <td>46.202661</td>\n",
       "      <td>6.144899</td>\n",
       "      <td>46.202661</td>\n",
       "      <td>6.144899</td>\n",
       "      <td>10.0</td>\n",
       "      <td>18</td>\n",
       "      <td>5.0</td>\n",
       "    </tr>\n",
       "    <tr>\n",
       "      <th>0</th>\n",
       "      <td>4e9ebc4661afec1907e721bc</td>\n",
       "      <td>[{'id': 13032, 'name': 'Cafes, Coffee, and Tea...</td>\n",
       "      <td>Amô</td>\n",
       "      <td>5.1</td>\n",
       "      <td>022 906 11 14</td>\n",
       "      <td>46.209691</td>\n",
       "      <td>6.142241</td>\n",
       "      <td>46.209691</td>\n",
       "      <td>6.142241</td>\n",
       "      <td>13.0</td>\n",
       "      <td>15</td>\n",
       "      <td>4.0</td>\n",
       "    </tr>\n",
       "    <tr>\n",
       "      <th>...</th>\n",
       "      <td>...</td>\n",
       "      <td>...</td>\n",
       "      <td>...</td>\n",
       "      <td>...</td>\n",
       "      <td>...</td>\n",
       "      <td>...</td>\n",
       "      <td>...</td>\n",
       "      <td>...</td>\n",
       "      <td>...</td>\n",
       "      <td>...</td>\n",
       "      <td>...</td>\n",
       "      <td>...</td>\n",
       "    </tr>\n",
       "    <tr>\n",
       "      <th>0</th>\n",
       "      <td>4e4eade6b0fb088f3c10e65c</td>\n",
       "      <td>[{'id': 13345, 'name': 'Spanish Restaurant', '...</td>\n",
       "      <td>Restaurant Lamartine</td>\n",
       "      <td>6.2</td>\n",
       "      <td>022 345 90 91</td>\n",
       "      <td>46.211348</td>\n",
       "      <td>6.128312</td>\n",
       "      <td>46.211348</td>\n",
       "      <td>6.128312</td>\n",
       "      <td>7.0</td>\n",
       "      <td>11</td>\n",
       "      <td>2.0</td>\n",
       "    </tr>\n",
       "    <tr>\n",
       "      <th>0</th>\n",
       "      <td>4e6270a3c65b2dc89fa182ee</td>\n",
       "      <td>[{'id': 13035, 'name': 'Coffee Shop', 'icon': ...</td>\n",
       "      <td>El Ruedo</td>\n",
       "      <td>7.5</td>\n",
       "      <td>022 732 65 08</td>\n",
       "      <td>46.211042</td>\n",
       "      <td>6.145668</td>\n",
       "      <td>46.211042</td>\n",
       "      <td>6.145668</td>\n",
       "      <td>15.0</td>\n",
       "      <td>9</td>\n",
       "      <td>8.0</td>\n",
       "    </tr>\n",
       "    <tr>\n",
       "      <th>0</th>\n",
       "      <td>4e664e92d22d509a3b409d3d</td>\n",
       "      <td>[{'id': 13003, 'name': 'Bar', 'icon': {'prefix...</td>\n",
       "      <td>Mogador</td>\n",
       "      <td>7.7</td>\n",
       "      <td>NaN</td>\n",
       "      <td>46.210448</td>\n",
       "      <td>6.149120</td>\n",
       "      <td>46.210448</td>\n",
       "      <td>6.149120</td>\n",
       "      <td>11.0</td>\n",
       "      <td>8</td>\n",
       "      <td>0.0</td>\n",
       "    </tr>\n",
       "    <tr>\n",
       "      <th>0</th>\n",
       "      <td>4e6b8460ae60950955f3d201</td>\n",
       "      <td>[{'id': 17069, 'name': 'Grocery Store / Superm...</td>\n",
       "      <td>Coop</td>\n",
       "      <td>6.7</td>\n",
       "      <td>022 707 59 60</td>\n",
       "      <td>46.207060</td>\n",
       "      <td>6.129946</td>\n",
       "      <td>46.207060</td>\n",
       "      <td>6.129946</td>\n",
       "      <td>0.0</td>\n",
       "      <td>8</td>\n",
       "      <td>NaN</td>\n",
       "    </tr>\n",
       "    <tr>\n",
       "      <th>0</th>\n",
       "      <td>4e76074a52b1c8e519b3c9c4</td>\n",
       "      <td>[{'id': 13145, 'name': 'Fast Food Restaurant',...</td>\n",
       "      <td>El Baraka</td>\n",
       "      <td>7.1</td>\n",
       "      <td>076 303 04 42</td>\n",
       "      <td>46.201130</td>\n",
       "      <td>6.129718</td>\n",
       "      <td>46.201130</td>\n",
       "      <td>6.129718</td>\n",
       "      <td>2.0</td>\n",
       "      <td>19</td>\n",
       "      <td>6.0</td>\n",
       "    </tr>\n",
       "  </tbody>\n",
       "</table>\n",
       "<p>654 rows × 12 columns</p>\n",
       "</div>"
      ],
      "text/plain": [
       "                      fsq_id  \\\n",
       "0   4e9462d36da119d220cc880b   \n",
       "0   4e96f87b9a528e6d36fe68d9   \n",
       "0   4e9b21a0f790b2a91992b62f   \n",
       "0   4e9eb102e5fa0c382e117b86   \n",
       "0   4e9ebc4661afec1907e721bc   \n",
       "..                       ...   \n",
       "0   4e4eade6b0fb088f3c10e65c   \n",
       "0   4e6270a3c65b2dc89fa182ee   \n",
       "0   4e664e92d22d509a3b409d3d   \n",
       "0   4e6b8460ae60950955f3d201   \n",
       "0   4e76074a52b1c8e519b3c9c4   \n",
       "\n",
       "                                           categories                  name  \\\n",
       "0   [{'id': 13276, 'name': 'Sushi Restaurant', 'ic...                Wasabi   \n",
       "0   [{'id': 17069, 'name': 'Grocery Store / Superm...                  Coop   \n",
       "0   [{'id': 13236, 'name': 'Italian Restaurant', '...            La Rotonde   \n",
       "0   [{'id': 13032, 'name': 'Cafes, Coffee, and Tea...         La Cantinella   \n",
       "0   [{'id': 13032, 'name': 'Cafes, Coffee, and Tea...                   Amô   \n",
       "..                                                ...                   ...   \n",
       "0   [{'id': 13345, 'name': 'Spanish Restaurant', '...  Restaurant Lamartine   \n",
       "0   [{'id': 13035, 'name': 'Coffee Shop', 'icon': ...              El Ruedo   \n",
       "0   [{'id': 13003, 'name': 'Bar', 'icon': {'prefix...               Mogador   \n",
       "0   [{'id': 17069, 'name': 'Grocery Store / Superm...                  Coop   \n",
       "0   [{'id': 13145, 'name': 'Fast Food Restaurant',...             El Baraka   \n",
       "\n",
       "    rating            tel  geocodes.main.latitude  geocodes.main.longitude  \\\n",
       "0      6.3  022 732 36 38               46.209271                 6.143641   \n",
       "0      6.8            NaN               46.207973                 6.127459   \n",
       "0      6.5  022 732 85 59               46.210757                 6.148566   \n",
       "0      8.0  022 301 90 90               46.202661                 6.144899   \n",
       "0      5.1  022 906 11 14               46.209691                 6.142241   \n",
       "..     ...            ...                     ...                      ...   \n",
       "0      6.2  022 345 90 91               46.211348                 6.128312   \n",
       "0      7.5  022 732 65 08               46.211042                 6.145668   \n",
       "0      7.7            NaN               46.210448                 6.149120   \n",
       "0      6.7  022 707 59 60               46.207060                 6.129946   \n",
       "0      7.1  076 303 04 42               46.201130                 6.129718   \n",
       "\n",
       "    geocodes.roof.latitude  geocodes.roof.longitude  stats.total_photos  \\\n",
       "0                46.209271                 6.143641                20.0   \n",
       "0                      NaN                      NaN                 4.0   \n",
       "0                46.210757                 6.148566                 9.0   \n",
       "0                46.202661                 6.144899                10.0   \n",
       "0                46.209691                 6.142241                13.0   \n",
       "..                     ...                      ...                 ...   \n",
       "0                46.211348                 6.128312                 7.0   \n",
       "0                46.211042                 6.145668                15.0   \n",
       "0                46.210448                 6.149120                11.0   \n",
       "0                46.207060                 6.129946                 0.0   \n",
       "0                46.201130                 6.129718                 2.0   \n",
       "\n",
       "    stats.total_ratings  stats.total_tips  \n",
       "0                    63              22.0  \n",
       "0                    17               4.0  \n",
       "0                    19               7.0  \n",
       "0                    18               5.0  \n",
       "0                    15               4.0  \n",
       "..                  ...               ...  \n",
       "0                    11               2.0  \n",
       "0                     9               8.0  \n",
       "0                     8               0.0  \n",
       "0                     8               NaN  \n",
       "0                    19               6.0  \n",
       "\n",
       "[654 rows x 12 columns]"
      ]
     },
     "execution_count": 11,
     "metadata": {},
     "output_type": "execute_result"
    }
   ],
   "source": [
    "l"
   ]
  },
  {
   "cell_type": "code",
   "execution_count": 34,
   "id": "e063817a",
   "metadata": {},
   "outputs": [
    {
     "data": {
      "text/plain": [
       "2996"
      ]
     },
     "execution_count": 34,
     "metadata": {},
     "output_type": "execute_result"
    }
   ],
   "source": [
    "len(places_list)"
   ]
  },
  {
   "cell_type": "code",
   "execution_count": null,
   "id": "27daef44",
   "metadata": {
    "scrolled": true
   },
   "outputs": [],
   "source": [
    "df = pd.concat([df,pd.json_normalize(response)])"
   ]
  },
  {
   "cell_type": "code",
   "execution_count": null,
   "id": "4fcad1ab",
   "metadata": {},
   "outputs": [],
   "source": [
    "import json\n",
    "with open(\"test\", \"w\") as fp:\n",
    "    json.dump(places_list, fp)"
   ]
  },
  {
   "cell_type": "code",
   "execution_count": null,
   "id": "8fd7c35d",
   "metadata": {},
   "outputs": [],
   "source": [
    "with open(\"test\", \"r\") as fp:\n",
    "    b = json.load(fp)"
   ]
  },
  {
   "cell_type": "code",
   "execution_count": 35,
   "id": "1d74c660",
   "metadata": {},
   "outputs": [],
   "source": [
    "import pickle\n",
    "with open(\"foursquarelist\", \"wb\") as fp:   #Pickling\n",
    "    pickle.dump(places_list, fp)"
   ]
  },
  {
   "cell_type": "code",
   "execution_count": 13,
   "id": "80bd57d1",
   "metadata": {},
   "outputs": [
    {
     "data": {
      "text/plain": [
       "[<Response [200]>, <Response [200]>, <Response [200]>]"
      ]
     },
     "execution_count": 13,
     "metadata": {},
     "output_type": "execute_result"
    }
   ],
   "source": [
    "with open(\"test\", \"rb\") as fp:   # Unpickling\n",
    "    b = pickle.load(fp)\n",
    "b"
   ]
  },
  {
   "cell_type": "code",
   "execution_count": 46,
   "id": "a9e2ef1f",
   "metadata": {},
   "outputs": [],
   "source": [
    "l1 = pd.json_normalize(places_list[2500])\n",
    "l2 = pd.json_normalize(places_list[2502])\n",
    "#places_list[2501]"
   ]
  },
  {
   "cell_type": "code",
   "execution_count": 54,
   "id": "88365289",
   "metadata": {},
   "outputs": [],
   "source": [
    "l = pd.DataFrame()\n",
    "for i in places_list:\n",
    "    l = pd.concat([l,pd.json_normalize(i)])"
   ]
  },
  {
   "cell_type": "code",
   "execution_count": 56,
   "id": "baf533c7",
   "metadata": {},
   "outputs": [
    {
     "data": {
      "text/plain": [
       "(2996, 9)"
      ]
     },
     "execution_count": 56,
     "metadata": {},
     "output_type": "execute_result"
    }
   ],
   "source": [
    "l.shape"
   ]
  },
  {
   "cell_type": "code",
   "execution_count": 12,
   "id": "ad84d1c8",
   "metadata": {},
   "outputs": [],
   "source": [
    "l.to_csv('../raw_data/FourSquare_1.0.1.csv', encoding='utf-8-sig')"
   ]
  },
  {
   "cell_type": "code",
   "execution_count": 58,
   "id": "5662258c",
   "metadata": {},
   "outputs": [
    {
     "data": {
      "text/plain": [
       "Index(['fsq_id', 'categories', 'name', 'tel', 'geocodes.main.latitude',\n",
       "       'geocodes.main.longitude', 'geocodes.roof.latitude',\n",
       "       'geocodes.roof.longitude', 'rating'],\n",
       "      dtype='object')"
      ]
     },
     "execution_count": 58,
     "metadata": {},
     "output_type": "execute_result"
    }
   ],
   "source": [
    "l.columns"
   ]
  },
  {
   "cell_type": "code",
   "execution_count": 60,
   "id": "8da12158",
   "metadata": {},
   "outputs": [],
   "source": [
    "l.drop_duplicates('fsq_id', inplace=True)"
   ]
  },
  {
   "cell_type": "code",
   "execution_count": 61,
   "id": "26d7f341",
   "metadata": {},
   "outputs": [
    {
     "data": {
      "text/plain": [
       "(2995, 9)"
      ]
     },
     "execution_count": 61,
     "metadata": {},
     "output_type": "execute_result"
    }
   ],
   "source": [
    "l.shape"
   ]
  },
  {
   "cell_type": "code",
   "execution_count": 62,
   "id": "631cc1fa",
   "metadata": {},
   "outputs": [],
   "source": [
    "l.reset_index(inplace=True)"
   ]
  },
  {
   "cell_type": "code",
   "execution_count": 66,
   "id": "dbbafedd",
   "metadata": {},
   "outputs": [],
   "source": [
    "l = l[['fsq_id','categories','name','tel','geocodes.main.latitude','geocodes.main.longitude','rating']]"
   ]
  },
  {
   "cell_type": "code",
   "execution_count": 67,
   "id": "42c3c516",
   "metadata": {},
   "outputs": [
    {
     "data": {
      "text/html": [
       "<div>\n",
       "<style scoped>\n",
       "    .dataframe tbody tr th:only-of-type {\n",
       "        vertical-align: middle;\n",
       "    }\n",
       "\n",
       "    .dataframe tbody tr th {\n",
       "        vertical-align: top;\n",
       "    }\n",
       "\n",
       "    .dataframe thead th {\n",
       "        text-align: right;\n",
       "    }\n",
       "</style>\n",
       "<table border=\"1\" class=\"dataframe\">\n",
       "  <thead>\n",
       "    <tr style=\"text-align: right;\">\n",
       "      <th></th>\n",
       "      <th>fsq_id</th>\n",
       "      <th>categories</th>\n",
       "      <th>name</th>\n",
       "      <th>tel</th>\n",
       "      <th>geocodes.main.latitude</th>\n",
       "      <th>geocodes.main.longitude</th>\n",
       "      <th>rating</th>\n",
       "    </tr>\n",
       "  </thead>\n",
       "  <tbody>\n",
       "    <tr>\n",
       "      <th>0</th>\n",
       "      <td>4e84bf4929c24d65fe048037</td>\n",
       "      <td>[{'id': 13016, 'name': 'Lounge', 'icon': {'pre...</td>\n",
       "      <td>Cookfriendly Café UGS</td>\n",
       "      <td>022 735 98 98</td>\n",
       "      <td>46.201693</td>\n",
       "      <td>6.159594</td>\n",
       "      <td>NaN</td>\n",
       "    </tr>\n",
       "    <tr>\n",
       "      <th>1</th>\n",
       "      <td>4e85ab1177c8e4e6e12a67b4</td>\n",
       "      <td>[{'id': 13000, 'name': 'Dining and Drinking', ...</td>\n",
       "      <td>York</td>\n",
       "      <td>NaN</td>\n",
       "      <td>46.207625</td>\n",
       "      <td>6.145186</td>\n",
       "      <td>NaN</td>\n",
       "    </tr>\n",
       "    <tr>\n",
       "      <th>2</th>\n",
       "      <td>4e89c104d22d940664f02037</td>\n",
       "      <td>[{'id': 13036, 'name': 'Tea Room', 'icon': {'p...</td>\n",
       "      <td>La Mandarine Tea Room</td>\n",
       "      <td>022 700 21 70</td>\n",
       "      <td>46.202218</td>\n",
       "      <td>6.160756</td>\n",
       "      <td>NaN</td>\n",
       "    </tr>\n",
       "    <tr>\n",
       "      <th>3</th>\n",
       "      <td>4e8afb459adf8878b57899f6</td>\n",
       "      <td>[{'id': 13309, 'name': 'Middle Eastern Restaur...</td>\n",
       "      <td>Hafez</td>\n",
       "      <td>022 700 00 81</td>\n",
       "      <td>46.199458</td>\n",
       "      <td>6.156029</td>\n",
       "      <td>NaN</td>\n",
       "    </tr>\n",
       "    <tr>\n",
       "      <th>4</th>\n",
       "      <td>4e8b395ed22dbf0a91c28b68</td>\n",
       "      <td>[{'id': 13002, 'name': 'Bakery', 'icon': {'pre...</td>\n",
       "      <td>Café Tea-Room Le Cayla</td>\n",
       "      <td>022 340 06 12</td>\n",
       "      <td>46.205695</td>\n",
       "      <td>6.121689</td>\n",
       "      <td>NaN</td>\n",
       "    </tr>\n",
       "    <tr>\n",
       "      <th>...</th>\n",
       "      <td>...</td>\n",
       "      <td>...</td>\n",
       "      <td>...</td>\n",
       "      <td>...</td>\n",
       "      <td>...</td>\n",
       "      <td>...</td>\n",
       "      <td>...</td>\n",
       "    </tr>\n",
       "    <tr>\n",
       "      <th>2990</th>\n",
       "      <td>4e76074a52b1c8e519b3c9c4</td>\n",
       "      <td>[{'id': 13145, 'name': 'Fast Food Restaurant',...</td>\n",
       "      <td>El Baraka</td>\n",
       "      <td>076 303 04 42</td>\n",
       "      <td>46.201130</td>\n",
       "      <td>6.129718</td>\n",
       "      <td>7.1</td>\n",
       "    </tr>\n",
       "    <tr>\n",
       "      <th>2991</th>\n",
       "      <td>4e7729172271ffa4e7ad0e7a</td>\n",
       "      <td>[{'id': 17069, 'name': 'Grocery Store / Superm...</td>\n",
       "      <td>Coop</td>\n",
       "      <td>NaN</td>\n",
       "      <td>46.201908</td>\n",
       "      <td>6.148613</td>\n",
       "      <td>NaN</td>\n",
       "    </tr>\n",
       "    <tr>\n",
       "      <th>2992</th>\n",
       "      <td>4e7b22021838baac2b1836a4</td>\n",
       "      <td>[{'id': 13302, 'name': 'Mediterranean Restaura...</td>\n",
       "      <td>Restaurant le Cazar</td>\n",
       "      <td>022 781 10 33</td>\n",
       "      <td>46.200435</td>\n",
       "      <td>6.134520</td>\n",
       "      <td>NaN</td>\n",
       "    </tr>\n",
       "    <tr>\n",
       "      <th>2993</th>\n",
       "      <td>4e7c6fb6a80970a1e9c128fd</td>\n",
       "      <td>[{'id': 13352, 'name': 'Thai Restaurant', 'ico...</td>\n",
       "      <td>La Cannelle</td>\n",
       "      <td>022 328 05 42</td>\n",
       "      <td>46.199215</td>\n",
       "      <td>6.138162</td>\n",
       "      <td>NaN</td>\n",
       "    </tr>\n",
       "    <tr>\n",
       "      <th>2994</th>\n",
       "      <td>4e81b6377ee6429ed382117d</td>\n",
       "      <td>[{'id': 13032, 'name': 'Cafes, Coffee, and Tea...</td>\n",
       "      <td>Bilo's Kebab</td>\n",
       "      <td>022 300 65 17</td>\n",
       "      <td>46.190680</td>\n",
       "      <td>6.134887</td>\n",
       "      <td>NaN</td>\n",
       "    </tr>\n",
       "  </tbody>\n",
       "</table>\n",
       "<p>2995 rows × 7 columns</p>\n",
       "</div>"
      ],
      "text/plain": [
       "                        fsq_id  \\\n",
       "0     4e84bf4929c24d65fe048037   \n",
       "1     4e85ab1177c8e4e6e12a67b4   \n",
       "2     4e89c104d22d940664f02037   \n",
       "3     4e8afb459adf8878b57899f6   \n",
       "4     4e8b395ed22dbf0a91c28b68   \n",
       "...                        ...   \n",
       "2990  4e76074a52b1c8e519b3c9c4   \n",
       "2991  4e7729172271ffa4e7ad0e7a   \n",
       "2992  4e7b22021838baac2b1836a4   \n",
       "2993  4e7c6fb6a80970a1e9c128fd   \n",
       "2994  4e81b6377ee6429ed382117d   \n",
       "\n",
       "                                             categories  \\\n",
       "0     [{'id': 13016, 'name': 'Lounge', 'icon': {'pre...   \n",
       "1     [{'id': 13000, 'name': 'Dining and Drinking', ...   \n",
       "2     [{'id': 13036, 'name': 'Tea Room', 'icon': {'p...   \n",
       "3     [{'id': 13309, 'name': 'Middle Eastern Restaur...   \n",
       "4     [{'id': 13002, 'name': 'Bakery', 'icon': {'pre...   \n",
       "...                                                 ...   \n",
       "2990  [{'id': 13145, 'name': 'Fast Food Restaurant',...   \n",
       "2991  [{'id': 17069, 'name': 'Grocery Store / Superm...   \n",
       "2992  [{'id': 13302, 'name': 'Mediterranean Restaura...   \n",
       "2993  [{'id': 13352, 'name': 'Thai Restaurant', 'ico...   \n",
       "2994  [{'id': 13032, 'name': 'Cafes, Coffee, and Tea...   \n",
       "\n",
       "                        name            tel  geocodes.main.latitude  \\\n",
       "0      Cookfriendly Café UGS  022 735 98 98               46.201693   \n",
       "1                       York            NaN               46.207625   \n",
       "2      La Mandarine Tea Room  022 700 21 70               46.202218   \n",
       "3                      Hafez  022 700 00 81               46.199458   \n",
       "4     Café Tea-Room Le Cayla  022 340 06 12               46.205695   \n",
       "...                      ...            ...                     ...   \n",
       "2990               El Baraka  076 303 04 42               46.201130   \n",
       "2991                    Coop            NaN               46.201908   \n",
       "2992     Restaurant le Cazar  022 781 10 33               46.200435   \n",
       "2993             La Cannelle  022 328 05 42               46.199215   \n",
       "2994            Bilo's Kebab  022 300 65 17               46.190680   \n",
       "\n",
       "      geocodes.main.longitude  rating  \n",
       "0                    6.159594     NaN  \n",
       "1                    6.145186     NaN  \n",
       "2                    6.160756     NaN  \n",
       "3                    6.156029     NaN  \n",
       "4                    6.121689     NaN  \n",
       "...                       ...     ...  \n",
       "2990                 6.129718     7.1  \n",
       "2991                 6.148613     NaN  \n",
       "2992                 6.134520     NaN  \n",
       "2993                 6.138162     NaN  \n",
       "2994                 6.134887     NaN  \n",
       "\n",
       "[2995 rows x 7 columns]"
      ]
     },
     "execution_count": 67,
     "metadata": {},
     "output_type": "execute_result"
    }
   ],
   "source": [
    "l"
   ]
  },
  {
   "cell_type": "code",
   "execution_count": 68,
   "id": "55a72fd7",
   "metadata": {},
   "outputs": [],
   "source": [
    "l.to_csv('../raw_data/FourSquare_1.0.csv', encoding='utf-8-sig')"
   ]
  },
  {
   "cell_type": "code",
   "execution_count": 69,
   "id": "1ee3693b",
   "metadata": {},
   "outputs": [
    {
     "data": {
      "text/plain": [
       "fsq_id                     2995\n",
       "categories                 2995\n",
       "name                       2995\n",
       "tel                        2367\n",
       "geocodes.main.latitude     2995\n",
       "geocodes.main.longitude    2995\n",
       "rating                      654\n",
       "dtype: int64"
      ]
     },
     "execution_count": 69,
     "metadata": {},
     "output_type": "execute_result"
    }
   ],
   "source": [
    "l.count()"
   ]
  },
  {
   "cell_type": "code",
   "execution_count": 70,
   "id": "2eaed158",
   "metadata": {},
   "outputs": [
    {
     "ename": "KeyError",
     "evalue": "1",
     "output_type": "error",
     "traceback": [
      "\u001b[0;31m---------------------------------------------------------------------------\u001b[0m",
      "\u001b[0;31mKeyError\u001b[0m                                  Traceback (most recent call last)",
      "File \u001b[0;32m~/.pyenv/versions/3.10.4/envs/best_restaurant_location/lib/python3.10/site-packages/pandas/core/indexes/base.py:3621\u001b[0m, in \u001b[0;36mIndex.get_loc\u001b[0;34m(self, key, method, tolerance)\u001b[0m\n\u001b[1;32m   3620\u001b[0m \u001b[38;5;28;01mtry\u001b[39;00m:\n\u001b[0;32m-> 3621\u001b[0m     \u001b[38;5;28;01mreturn\u001b[39;00m \u001b[38;5;28;43mself\u001b[39;49m\u001b[38;5;241;43m.\u001b[39;49m\u001b[43m_engine\u001b[49m\u001b[38;5;241;43m.\u001b[39;49m\u001b[43mget_loc\u001b[49m\u001b[43m(\u001b[49m\u001b[43mcasted_key\u001b[49m\u001b[43m)\u001b[49m\n\u001b[1;32m   3622\u001b[0m \u001b[38;5;28;01mexcept\u001b[39;00m \u001b[38;5;167;01mKeyError\u001b[39;00m \u001b[38;5;28;01mas\u001b[39;00m err:\n",
      "File \u001b[0;32m~/.pyenv/versions/3.10.4/envs/best_restaurant_location/lib/python3.10/site-packages/pandas/_libs/index.pyx:136\u001b[0m, in \u001b[0;36mpandas._libs.index.IndexEngine.get_loc\u001b[0;34m()\u001b[0m\n",
      "File \u001b[0;32m~/.pyenv/versions/3.10.4/envs/best_restaurant_location/lib/python3.10/site-packages/pandas/_libs/index.pyx:163\u001b[0m, in \u001b[0;36mpandas._libs.index.IndexEngine.get_loc\u001b[0;34m()\u001b[0m\n",
      "File \u001b[0;32mpandas/_libs/hashtable_class_helper.pxi:5198\u001b[0m, in \u001b[0;36mpandas._libs.hashtable.PyObjectHashTable.get_item\u001b[0;34m()\u001b[0m\n",
      "File \u001b[0;32mpandas/_libs/hashtable_class_helper.pxi:5206\u001b[0m, in \u001b[0;36mpandas._libs.hashtable.PyObjectHashTable.get_item\u001b[0;34m()\u001b[0m\n",
      "\u001b[0;31mKeyError\u001b[0m: 1",
      "\nThe above exception was the direct cause of the following exception:\n",
      "\u001b[0;31mKeyError\u001b[0m                                  Traceback (most recent call last)",
      "Input \u001b[0;32mIn [70]\u001b[0m, in \u001b[0;36m<cell line: 1>\u001b[0;34m()\u001b[0m\n\u001b[0;32m----> 1\u001b[0m \u001b[43ml\u001b[49m\u001b[43m[\u001b[49m\u001b[38;5;241;43m1\u001b[39;49m\u001b[43m]\u001b[49m\n",
      "File \u001b[0;32m~/.pyenv/versions/3.10.4/envs/best_restaurant_location/lib/python3.10/site-packages/pandas/core/frame.py:3505\u001b[0m, in \u001b[0;36mDataFrame.__getitem__\u001b[0;34m(self, key)\u001b[0m\n\u001b[1;32m   3503\u001b[0m \u001b[38;5;28;01mif\u001b[39;00m \u001b[38;5;28mself\u001b[39m\u001b[38;5;241m.\u001b[39mcolumns\u001b[38;5;241m.\u001b[39mnlevels \u001b[38;5;241m>\u001b[39m \u001b[38;5;241m1\u001b[39m:\n\u001b[1;32m   3504\u001b[0m     \u001b[38;5;28;01mreturn\u001b[39;00m \u001b[38;5;28mself\u001b[39m\u001b[38;5;241m.\u001b[39m_getitem_multilevel(key)\n\u001b[0;32m-> 3505\u001b[0m indexer \u001b[38;5;241m=\u001b[39m \u001b[38;5;28;43mself\u001b[39;49m\u001b[38;5;241;43m.\u001b[39;49m\u001b[43mcolumns\u001b[49m\u001b[38;5;241;43m.\u001b[39;49m\u001b[43mget_loc\u001b[49m\u001b[43m(\u001b[49m\u001b[43mkey\u001b[49m\u001b[43m)\u001b[49m\n\u001b[1;32m   3506\u001b[0m \u001b[38;5;28;01mif\u001b[39;00m is_integer(indexer):\n\u001b[1;32m   3507\u001b[0m     indexer \u001b[38;5;241m=\u001b[39m [indexer]\n",
      "File \u001b[0;32m~/.pyenv/versions/3.10.4/envs/best_restaurant_location/lib/python3.10/site-packages/pandas/core/indexes/base.py:3623\u001b[0m, in \u001b[0;36mIndex.get_loc\u001b[0;34m(self, key, method, tolerance)\u001b[0m\n\u001b[1;32m   3621\u001b[0m     \u001b[38;5;28;01mreturn\u001b[39;00m \u001b[38;5;28mself\u001b[39m\u001b[38;5;241m.\u001b[39m_engine\u001b[38;5;241m.\u001b[39mget_loc(casted_key)\n\u001b[1;32m   3622\u001b[0m \u001b[38;5;28;01mexcept\u001b[39;00m \u001b[38;5;167;01mKeyError\u001b[39;00m \u001b[38;5;28;01mas\u001b[39;00m err:\n\u001b[0;32m-> 3623\u001b[0m     \u001b[38;5;28;01mraise\u001b[39;00m \u001b[38;5;167;01mKeyError\u001b[39;00m(key) \u001b[38;5;28;01mfrom\u001b[39;00m \u001b[38;5;21;01merr\u001b[39;00m\n\u001b[1;32m   3624\u001b[0m \u001b[38;5;28;01mexcept\u001b[39;00m \u001b[38;5;167;01mTypeError\u001b[39;00m:\n\u001b[1;32m   3625\u001b[0m     \u001b[38;5;66;03m# If we have a listlike key, _check_indexing_error will raise\u001b[39;00m\n\u001b[1;32m   3626\u001b[0m     \u001b[38;5;66;03m#  InvalidIndexError. Otherwise we fall through and re-raise\u001b[39;00m\n\u001b[1;32m   3627\u001b[0m     \u001b[38;5;66;03m#  the TypeError.\u001b[39;00m\n\u001b[1;32m   3628\u001b[0m     \u001b[38;5;28mself\u001b[39m\u001b[38;5;241m.\u001b[39m_check_indexing_error(key)\n",
      "\u001b[0;31mKeyError\u001b[0m: 1"
     ]
    }
   ],
   "source": [
    "l[1]"
   ]
  },
  {
   "cell_type": "code",
   "execution_count": null,
   "id": "b6d886e6",
   "metadata": {},
   "outputs": [],
   "source": []
  }
 ],
 "metadata": {
  "kernelspec": {
   "display_name": "Python 3 (ipykernel)",
   "language": "python",
   "name": "python3"
  },
  "language_info": {
   "codemirror_mode": {
    "name": "ipython",
    "version": 3
   },
   "file_extension": ".py",
   "mimetype": "text/x-python",
   "name": "python",
   "nbconvert_exporter": "python",
   "pygments_lexer": "ipython3",
   "version": "3.10.4"
  },
  "toc": {
   "base_numbering": 1,
   "nav_menu": {},
   "number_sections": true,
   "sideBar": true,
   "skip_h1_title": false,
   "title_cell": "Table of Contents",
   "title_sidebar": "Contents",
   "toc_cell": false,
   "toc_position": {},
   "toc_section_display": true,
   "toc_window_display": false
  },
  "varInspector": {
   "cols": {
    "lenName": 16,
    "lenType": 16,
    "lenVar": 40
   },
   "kernels_config": {
    "python": {
     "delete_cmd_postfix": "",
     "delete_cmd_prefix": "del ",
     "library": "var_list.py",
     "varRefreshCmd": "print(var_dic_list())"
    },
    "r": {
     "delete_cmd_postfix": ") ",
     "delete_cmd_prefix": "rm(",
     "library": "var_list.r",
     "varRefreshCmd": "cat(var_dic_list()) "
    }
   },
   "types_to_exclude": [
    "module",
    "function",
    "builtin_function_or_method",
    "instance",
    "_Feature"
   ],
   "window_display": false
  }
 },
 "nbformat": 4,
 "nbformat_minor": 5
}
